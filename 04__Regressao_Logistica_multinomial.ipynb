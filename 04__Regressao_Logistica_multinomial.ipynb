{
  "nbformat": 4,
  "nbformat_minor": 0,
  "metadata": {
    "colab": {
      "provenance": [],
      "authorship_tag": "ABX9TyM5/5uGvNVuA1xyDTjZnNq3",
      "include_colab_link": true
    },
    "kernelspec": {
      "name": "python3",
      "display_name": "Python 3"
    },
    "language_info": {
      "name": "python"
    }
  },
  "cells": [
    {
      "cell_type": "markdown",
      "metadata": {
        "id": "view-in-github",
        "colab_type": "text"
      },
      "source": [
        "<a href=\"https://colab.research.google.com/github/FranziskoB/Regressao_logistica_e_binaria/blob/main/04__Regressao_Logistica_multinomial.ipynb\" target=\"_parent\"><img src=\"https://colab.research.google.com/assets/colab-badge.svg\" alt=\"Open In Colab\"/></a>"
      ]
    },
    {
      "cell_type": "markdown",
      "source": [
        "# REGRESSÃO LOGÍSTICA MULTINOMIAL    \n"
      ],
      "metadata": {
        "id": "y_vLxG7pEasZ"
      }
    },
    {
      "cell_type": "markdown",
      "source": [
        "Exemplo:Construção de um modelo que possa predizer se o estudante cheragá a tempo para as aulas ou se perderá a primeira ou a segunda aula. "
      ],
      "metadata": {
        "id": "aE-pu-MpF5uw"
      }
    },
    {
      "cell_type": "markdown",
      "source": [
        "##Importando as bibliotecas"
      ],
      "metadata": {
        "id": "ykMGGZhAEBKE"
      }
    },
    {
      "cell_type": "code",
      "execution_count": 1,
      "metadata": {
        "id": "BhIb3KApC3zg"
      },
      "outputs": [],
      "source": [
        "import pandas as pd # manipulação de dado em formato de dataframe\n",
        "import seaborn as sns # biblioteca de visualização de informações estatísticas\n",
        "import matplotlib.pyplot as plt # biblioteca de visualização de dados\n",
        "import statsmodels.api as sm # biblioteca de modelagem estatística\n",
        "import numpy as np # biblioteca para operações matemáticas multidimensionais\n",
        "from scipy import stats\n",
        "from statsmodels.iolib.summary2 import summary_col\n",
        "import plotly.graph_objs as go\n",
        "import statsmodels.formula.api as smf\n",
        "\n",
        "import warnings\n",
        "warnings.filterwarnings('ignore')"
      ]
    },
    {
      "cell_type": "markdown",
      "source": [
        "## Importando os dados"
      ],
      "metadata": {
        "id": "R-_agSYtEAVR"
      }
    },
    {
      "cell_type": "code",
      "source": [
        "df_atrasado_multinomial = pd.read_csv('https://raw.githubusercontent.com/FranziskoB/Regressao_logistica_e_binaria/main/dados/AtrasadoMultinomial.csv',delimiter=',')\n",
        "df_atrasado_multinomial.head(5)"
      ],
      "metadata": {
        "colab": {
          "base_uri": "https://localhost:8080/",
          "height": 206
        },
        "id": "_muazUbjEnAV",
        "outputId": "1d974e71-e065-47a2-a54c-1a148c760393"
      },
      "execution_count": 2,
      "outputs": [
        {
          "output_type": "execute_result",
          "data": {
            "text/plain": [
              "     estudante                        atrasado       dist  sem\n",
              "0     Gabriela  chegou atrasado à segunda aula  20.500000   15\n",
              "1     Patrícia  chegou atrasado à segunda aula  21.299999   18\n",
              "2      Gustavo  chegou atrasado à segunda aula  21.400000   16\n",
              "3      Letícia  chegou atrasado à segunda aula  31.500000   15\n",
              "4  Luiz Ovídio  chegou atrasado à segunda aula  17.500000   16"
            ],
            "text/html": [
              "\n",
              "  <div id=\"df-ea01f948-7a9f-4a36-9d92-eaba617ee954\">\n",
              "    <div class=\"colab-df-container\">\n",
              "      <div>\n",
              "<style scoped>\n",
              "    .dataframe tbody tr th:only-of-type {\n",
              "        vertical-align: middle;\n",
              "    }\n",
              "\n",
              "    .dataframe tbody tr th {\n",
              "        vertical-align: top;\n",
              "    }\n",
              "\n",
              "    .dataframe thead th {\n",
              "        text-align: right;\n",
              "    }\n",
              "</style>\n",
              "<table border=\"1\" class=\"dataframe\">\n",
              "  <thead>\n",
              "    <tr style=\"text-align: right;\">\n",
              "      <th></th>\n",
              "      <th>estudante</th>\n",
              "      <th>atrasado</th>\n",
              "      <th>dist</th>\n",
              "      <th>sem</th>\n",
              "    </tr>\n",
              "  </thead>\n",
              "  <tbody>\n",
              "    <tr>\n",
              "      <th>0</th>\n",
              "      <td>Gabriela</td>\n",
              "      <td>chegou atrasado à segunda aula</td>\n",
              "      <td>20.500000</td>\n",
              "      <td>15</td>\n",
              "    </tr>\n",
              "    <tr>\n",
              "      <th>1</th>\n",
              "      <td>Patrícia</td>\n",
              "      <td>chegou atrasado à segunda aula</td>\n",
              "      <td>21.299999</td>\n",
              "      <td>18</td>\n",
              "    </tr>\n",
              "    <tr>\n",
              "      <th>2</th>\n",
              "      <td>Gustavo</td>\n",
              "      <td>chegou atrasado à segunda aula</td>\n",
              "      <td>21.400000</td>\n",
              "      <td>16</td>\n",
              "    </tr>\n",
              "    <tr>\n",
              "      <th>3</th>\n",
              "      <td>Letícia</td>\n",
              "      <td>chegou atrasado à segunda aula</td>\n",
              "      <td>31.500000</td>\n",
              "      <td>15</td>\n",
              "    </tr>\n",
              "    <tr>\n",
              "      <th>4</th>\n",
              "      <td>Luiz Ovídio</td>\n",
              "      <td>chegou atrasado à segunda aula</td>\n",
              "      <td>17.500000</td>\n",
              "      <td>16</td>\n",
              "    </tr>\n",
              "  </tbody>\n",
              "</table>\n",
              "</div>\n",
              "      <button class=\"colab-df-convert\" onclick=\"convertToInteractive('df-ea01f948-7a9f-4a36-9d92-eaba617ee954')\"\n",
              "              title=\"Convert this dataframe to an interactive table.\"\n",
              "              style=\"display:none;\">\n",
              "        \n",
              "  <svg xmlns=\"http://www.w3.org/2000/svg\" height=\"24px\"viewBox=\"0 0 24 24\"\n",
              "       width=\"24px\">\n",
              "    <path d=\"M0 0h24v24H0V0z\" fill=\"none\"/>\n",
              "    <path d=\"M18.56 5.44l.94 2.06.94-2.06 2.06-.94-2.06-.94-.94-2.06-.94 2.06-2.06.94zm-11 1L8.5 8.5l.94-2.06 2.06-.94-2.06-.94L8.5 2.5l-.94 2.06-2.06.94zm10 10l.94 2.06.94-2.06 2.06-.94-2.06-.94-.94-2.06-.94 2.06-2.06.94z\"/><path d=\"M17.41 7.96l-1.37-1.37c-.4-.4-.92-.59-1.43-.59-.52 0-1.04.2-1.43.59L10.3 9.45l-7.72 7.72c-.78.78-.78 2.05 0 2.83L4 21.41c.39.39.9.59 1.41.59.51 0 1.02-.2 1.41-.59l7.78-7.78 2.81-2.81c.8-.78.8-2.07 0-2.86zM5.41 20L4 18.59l7.72-7.72 1.47 1.35L5.41 20z\"/>\n",
              "  </svg>\n",
              "      </button>\n",
              "      \n",
              "  <style>\n",
              "    .colab-df-container {\n",
              "      display:flex;\n",
              "      flex-wrap:wrap;\n",
              "      gap: 12px;\n",
              "    }\n",
              "\n",
              "    .colab-df-convert {\n",
              "      background-color: #E8F0FE;\n",
              "      border: none;\n",
              "      border-radius: 50%;\n",
              "      cursor: pointer;\n",
              "      display: none;\n",
              "      fill: #1967D2;\n",
              "      height: 32px;\n",
              "      padding: 0 0 0 0;\n",
              "      width: 32px;\n",
              "    }\n",
              "\n",
              "    .colab-df-convert:hover {\n",
              "      background-color: #E2EBFA;\n",
              "      box-shadow: 0px 1px 2px rgba(60, 64, 67, 0.3), 0px 1px 3px 1px rgba(60, 64, 67, 0.15);\n",
              "      fill: #174EA6;\n",
              "    }\n",
              "\n",
              "    [theme=dark] .colab-df-convert {\n",
              "      background-color: #3B4455;\n",
              "      fill: #D2E3FC;\n",
              "    }\n",
              "\n",
              "    [theme=dark] .colab-df-convert:hover {\n",
              "      background-color: #434B5C;\n",
              "      box-shadow: 0px 1px 3px 1px rgba(0, 0, 0, 0.15);\n",
              "      filter: drop-shadow(0px 1px 2px rgba(0, 0, 0, 0.3));\n",
              "      fill: #FFFFFF;\n",
              "    }\n",
              "  </style>\n",
              "\n",
              "      <script>\n",
              "        const buttonEl =\n",
              "          document.querySelector('#df-ea01f948-7a9f-4a36-9d92-eaba617ee954 button.colab-df-convert');\n",
              "        buttonEl.style.display =\n",
              "          google.colab.kernel.accessAllowed ? 'block' : 'none';\n",
              "\n",
              "        async function convertToInteractive(key) {\n",
              "          const element = document.querySelector('#df-ea01f948-7a9f-4a36-9d92-eaba617ee954');\n",
              "          const dataTable =\n",
              "            await google.colab.kernel.invokeFunction('convertToInteractive',\n",
              "                                                     [key], {});\n",
              "          if (!dataTable) return;\n",
              "\n",
              "          const docLinkHtml = 'Like what you see? Visit the ' +\n",
              "            '<a target=\"_blank\" href=https://colab.research.google.com/notebooks/data_table.ipynb>data table notebook</a>'\n",
              "            + ' to learn more about interactive tables.';\n",
              "          element.innerHTML = '';\n",
              "          dataTable['output_type'] = 'display_data';\n",
              "          await google.colab.output.renderOutput(dataTable, element);\n",
              "          const docLink = document.createElement('div');\n",
              "          docLink.innerHTML = docLinkHtml;\n",
              "          element.appendChild(docLink);\n",
              "        }\n",
              "      </script>\n",
              "    </div>\n",
              "  </div>\n",
              "  "
            ]
          },
          "metadata": {},
          "execution_count": 2
        }
      ]
    },
    {
      "cell_type": "code",
      "source": [
        "df_atrasado_multinomial.info()"
      ],
      "metadata": {
        "colab": {
          "base_uri": "https://localhost:8080/"
        },
        "id": "4km9cmbFFT-u",
        "outputId": "2de0dcf1-046a-45c2-e16c-ad29ad5b9631"
      },
      "execution_count": 3,
      "outputs": [
        {
          "output_type": "stream",
          "name": "stdout",
          "text": [
            "<class 'pandas.core.frame.DataFrame'>\n",
            "RangeIndex: 100 entries, 0 to 99\n",
            "Data columns (total 4 columns):\n",
            " #   Column     Non-Null Count  Dtype  \n",
            "---  ------     --------------  -----  \n",
            " 0   estudante  100 non-null    object \n",
            " 1   atrasado   100 non-null    object \n",
            " 2   dist       100 non-null    float64\n",
            " 3   sem        100 non-null    int64  \n",
            "dtypes: float64(1), int64(1), object(2)\n",
            "memory usage: 3.2+ KB\n"
          ]
        }
      ]
    },
    {
      "cell_type": "markdown",
      "source": [
        "Tabela de frequências absolutas da variável 'atrasado' com labels"
      ],
      "metadata": {
        "id": "K1zOp2DUD9Eg"
      }
    },
    {
      "cell_type": "code",
      "source": [
        "df_atrasado_multinomial['atrasado'].value_counts(sort=False)"
      ],
      "metadata": {
        "colab": {
          "base_uri": "https://localhost:8080/"
        },
        "id": "22Jc8iR3F1-P",
        "outputId": "1d41bd83-5e00-485a-84d6-e0debd8dbc2b"
      },
      "execution_count": 4,
      "outputs": [
        {
          "output_type": "execute_result",
          "data": {
            "text/plain": [
              "chegou atrasado à segunda aula     35\n",
              "chegou atrasado à primeira aula    16\n",
              "nao chegou atrasado                49\n",
              "Name: atrasado, dtype: int64"
            ]
          },
          "metadata": {},
          "execution_count": 4
        }
      ]
    },
    {
      "cell_type": "markdown",
      "source": [
        "Criando uma variável 'atrasado2' a partir da variável 'atrasado',\n",
        "com labels iguais a 0, 1 e 2 e com tipo 'int' (poderia também ser do tipo\n",
        "'float'), a fim de que seja possível estimar o modelo por meio\n",
        "da função 'MNLogit'"
      ],
      "metadata": {
        "id": "I6XrF0Z_HZBY"
      }
    },
    {
      "cell_type": "code",
      "source": [
        "dic={'chegou atrasado à segunda aula':2,'chegou atrasado à primeira aula':1,'nao chegou atrasado':0}\n",
        "df_atrasado_multinomial['atrasado2']=df_atrasado_multinomial['atrasado'].map(dic)\n",
        "df_atrasado_multinomial.head(5)"
      ],
      "metadata": {
        "colab": {
          "base_uri": "https://localhost:8080/",
          "height": 206
        },
        "id": "pKxeKonhHh7q",
        "outputId": "b12d2245-9784-481b-8862-c1c2177e6d12"
      },
      "execution_count": 5,
      "outputs": [
        {
          "output_type": "execute_result",
          "data": {
            "text/plain": [
              "     estudante                        atrasado       dist  sem  atrasado2\n",
              "0     Gabriela  chegou atrasado à segunda aula  20.500000   15          2\n",
              "1     Patrícia  chegou atrasado à segunda aula  21.299999   18          2\n",
              "2      Gustavo  chegou atrasado à segunda aula  21.400000   16          2\n",
              "3      Letícia  chegou atrasado à segunda aula  31.500000   15          2\n",
              "4  Luiz Ovídio  chegou atrasado à segunda aula  17.500000   16          2"
            ],
            "text/html": [
              "\n",
              "  <div id=\"df-85d8d45d-dcf0-423c-9563-0323f2b85b59\">\n",
              "    <div class=\"colab-df-container\">\n",
              "      <div>\n",
              "<style scoped>\n",
              "    .dataframe tbody tr th:only-of-type {\n",
              "        vertical-align: middle;\n",
              "    }\n",
              "\n",
              "    .dataframe tbody tr th {\n",
              "        vertical-align: top;\n",
              "    }\n",
              "\n",
              "    .dataframe thead th {\n",
              "        text-align: right;\n",
              "    }\n",
              "</style>\n",
              "<table border=\"1\" class=\"dataframe\">\n",
              "  <thead>\n",
              "    <tr style=\"text-align: right;\">\n",
              "      <th></th>\n",
              "      <th>estudante</th>\n",
              "      <th>atrasado</th>\n",
              "      <th>dist</th>\n",
              "      <th>sem</th>\n",
              "      <th>atrasado2</th>\n",
              "    </tr>\n",
              "  </thead>\n",
              "  <tbody>\n",
              "    <tr>\n",
              "      <th>0</th>\n",
              "      <td>Gabriela</td>\n",
              "      <td>chegou atrasado à segunda aula</td>\n",
              "      <td>20.500000</td>\n",
              "      <td>15</td>\n",
              "      <td>2</td>\n",
              "    </tr>\n",
              "    <tr>\n",
              "      <th>1</th>\n",
              "      <td>Patrícia</td>\n",
              "      <td>chegou atrasado à segunda aula</td>\n",
              "      <td>21.299999</td>\n",
              "      <td>18</td>\n",
              "      <td>2</td>\n",
              "    </tr>\n",
              "    <tr>\n",
              "      <th>2</th>\n",
              "      <td>Gustavo</td>\n",
              "      <td>chegou atrasado à segunda aula</td>\n",
              "      <td>21.400000</td>\n",
              "      <td>16</td>\n",
              "      <td>2</td>\n",
              "    </tr>\n",
              "    <tr>\n",
              "      <th>3</th>\n",
              "      <td>Letícia</td>\n",
              "      <td>chegou atrasado à segunda aula</td>\n",
              "      <td>31.500000</td>\n",
              "      <td>15</td>\n",
              "      <td>2</td>\n",
              "    </tr>\n",
              "    <tr>\n",
              "      <th>4</th>\n",
              "      <td>Luiz Ovídio</td>\n",
              "      <td>chegou atrasado à segunda aula</td>\n",
              "      <td>17.500000</td>\n",
              "      <td>16</td>\n",
              "      <td>2</td>\n",
              "    </tr>\n",
              "  </tbody>\n",
              "</table>\n",
              "</div>\n",
              "      <button class=\"colab-df-convert\" onclick=\"convertToInteractive('df-85d8d45d-dcf0-423c-9563-0323f2b85b59')\"\n",
              "              title=\"Convert this dataframe to an interactive table.\"\n",
              "              style=\"display:none;\">\n",
              "        \n",
              "  <svg xmlns=\"http://www.w3.org/2000/svg\" height=\"24px\"viewBox=\"0 0 24 24\"\n",
              "       width=\"24px\">\n",
              "    <path d=\"M0 0h24v24H0V0z\" fill=\"none\"/>\n",
              "    <path d=\"M18.56 5.44l.94 2.06.94-2.06 2.06-.94-2.06-.94-.94-2.06-.94 2.06-2.06.94zm-11 1L8.5 8.5l.94-2.06 2.06-.94-2.06-.94L8.5 2.5l-.94 2.06-2.06.94zm10 10l.94 2.06.94-2.06 2.06-.94-2.06-.94-.94-2.06-.94 2.06-2.06.94z\"/><path d=\"M17.41 7.96l-1.37-1.37c-.4-.4-.92-.59-1.43-.59-.52 0-1.04.2-1.43.59L10.3 9.45l-7.72 7.72c-.78.78-.78 2.05 0 2.83L4 21.41c.39.39.9.59 1.41.59.51 0 1.02-.2 1.41-.59l7.78-7.78 2.81-2.81c.8-.78.8-2.07 0-2.86zM5.41 20L4 18.59l7.72-7.72 1.47 1.35L5.41 20z\"/>\n",
              "  </svg>\n",
              "      </button>\n",
              "      \n",
              "  <style>\n",
              "    .colab-df-container {\n",
              "      display:flex;\n",
              "      flex-wrap:wrap;\n",
              "      gap: 12px;\n",
              "    }\n",
              "\n",
              "    .colab-df-convert {\n",
              "      background-color: #E8F0FE;\n",
              "      border: none;\n",
              "      border-radius: 50%;\n",
              "      cursor: pointer;\n",
              "      display: none;\n",
              "      fill: #1967D2;\n",
              "      height: 32px;\n",
              "      padding: 0 0 0 0;\n",
              "      width: 32px;\n",
              "    }\n",
              "\n",
              "    .colab-df-convert:hover {\n",
              "      background-color: #E2EBFA;\n",
              "      box-shadow: 0px 1px 2px rgba(60, 64, 67, 0.3), 0px 1px 3px 1px rgba(60, 64, 67, 0.15);\n",
              "      fill: #174EA6;\n",
              "    }\n",
              "\n",
              "    [theme=dark] .colab-df-convert {\n",
              "      background-color: #3B4455;\n",
              "      fill: #D2E3FC;\n",
              "    }\n",
              "\n",
              "    [theme=dark] .colab-df-convert:hover {\n",
              "      background-color: #434B5C;\n",
              "      box-shadow: 0px 1px 3px 1px rgba(0, 0, 0, 0.15);\n",
              "      filter: drop-shadow(0px 1px 2px rgba(0, 0, 0, 0.3));\n",
              "      fill: #FFFFFF;\n",
              "    }\n",
              "  </style>\n",
              "\n",
              "      <script>\n",
              "        const buttonEl =\n",
              "          document.querySelector('#df-85d8d45d-dcf0-423c-9563-0323f2b85b59 button.colab-df-convert');\n",
              "        buttonEl.style.display =\n",
              "          google.colab.kernel.accessAllowed ? 'block' : 'none';\n",
              "\n",
              "        async function convertToInteractive(key) {\n",
              "          const element = document.querySelector('#df-85d8d45d-dcf0-423c-9563-0323f2b85b59');\n",
              "          const dataTable =\n",
              "            await google.colab.kernel.invokeFunction('convertToInteractive',\n",
              "                                                     [key], {});\n",
              "          if (!dataTable) return;\n",
              "\n",
              "          const docLinkHtml = 'Like what you see? Visit the ' +\n",
              "            '<a target=\"_blank\" href=https://colab.research.google.com/notebooks/data_table.ipynb>data table notebook</a>'\n",
              "            + ' to learn more about interactive tables.';\n",
              "          element.innerHTML = '';\n",
              "          dataTable['output_type'] = 'display_data';\n",
              "          await google.colab.output.renderOutput(dataTable, element);\n",
              "          const docLink = document.createElement('div');\n",
              "          docLink.innerHTML = docLinkHtml;\n",
              "          element.appendChild(docLink);\n",
              "        }\n",
              "      </script>\n",
              "    </div>\n",
              "  </div>\n",
              "  "
            ]
          },
          "metadata": {},
          "execution_count": 5
        }
      ]
    },
    {
      "cell_type": "code",
      "source": [
        "df_atrasado_multinomial.info()"
      ],
      "metadata": {
        "colab": {
          "base_uri": "https://localhost:8080/"
        },
        "id": "yKzXy_2vI3DB",
        "outputId": "220649cb-61d5-4f56-d353-68695bc651c7"
      },
      "execution_count": 6,
      "outputs": [
        {
          "output_type": "stream",
          "name": "stdout",
          "text": [
            "<class 'pandas.core.frame.DataFrame'>\n",
            "RangeIndex: 100 entries, 0 to 99\n",
            "Data columns (total 5 columns):\n",
            " #   Column     Non-Null Count  Dtype  \n",
            "---  ------     --------------  -----  \n",
            " 0   estudante  100 non-null    object \n",
            " 1   atrasado   100 non-null    object \n",
            " 2   dist       100 non-null    float64\n",
            " 3   sem        100 non-null    int64  \n",
            " 4   atrasado2  100 non-null    int64  \n",
            "dtypes: float64(1), int64(2), object(2)\n",
            "memory usage: 4.0+ KB\n"
          ]
        }
      ]
    },
    {
      "cell_type": "code",
      "source": [
        "df_atrasado_multinomial"
      ],
      "metadata": {
        "colab": {
          "base_uri": "https://localhost:8080/",
          "height": 424
        },
        "id": "iW3T3F7-Hu6U",
        "outputId": "af9f10a7-437f-4925-bf78-7b290e21c34f"
      },
      "execution_count": 7,
      "outputs": [
        {
          "output_type": "execute_result",
          "data": {
            "text/plain": [
              "      estudante                         atrasado       dist  sem  atrasado2\n",
              "0      Gabriela   chegou atrasado à segunda aula  20.500000   15          2\n",
              "1      Patrícia   chegou atrasado à segunda aula  21.299999   18          2\n",
              "2       Gustavo   chegou atrasado à segunda aula  21.400000   16          2\n",
              "3       Letícia   chegou atrasado à segunda aula  31.500000   15          2\n",
              "4   Luiz Ovídio   chegou atrasado à segunda aula  17.500000   16          2\n",
              "..          ...                              ...        ...  ...        ...\n",
              "95       Sheila              nao chegou atrasado  24.000000   10          0\n",
              "96        Pedro  chegou atrasado à primeira aula  15.000000   15          1\n",
              "97      Horácio  chegou atrasado à primeira aula  14.400000   15          1\n",
              "98      Leandro   chegou atrasado à segunda aula  22.200001   18          2\n",
              "99       Estela              nao chegou atrasado   1.000000   13          0\n",
              "\n",
              "[100 rows x 5 columns]"
            ],
            "text/html": [
              "\n",
              "  <div id=\"df-e2b70eeb-c3be-4145-976c-b85d5dbb0e65\">\n",
              "    <div class=\"colab-df-container\">\n",
              "      <div>\n",
              "<style scoped>\n",
              "    .dataframe tbody tr th:only-of-type {\n",
              "        vertical-align: middle;\n",
              "    }\n",
              "\n",
              "    .dataframe tbody tr th {\n",
              "        vertical-align: top;\n",
              "    }\n",
              "\n",
              "    .dataframe thead th {\n",
              "        text-align: right;\n",
              "    }\n",
              "</style>\n",
              "<table border=\"1\" class=\"dataframe\">\n",
              "  <thead>\n",
              "    <tr style=\"text-align: right;\">\n",
              "      <th></th>\n",
              "      <th>estudante</th>\n",
              "      <th>atrasado</th>\n",
              "      <th>dist</th>\n",
              "      <th>sem</th>\n",
              "      <th>atrasado2</th>\n",
              "    </tr>\n",
              "  </thead>\n",
              "  <tbody>\n",
              "    <tr>\n",
              "      <th>0</th>\n",
              "      <td>Gabriela</td>\n",
              "      <td>chegou atrasado à segunda aula</td>\n",
              "      <td>20.500000</td>\n",
              "      <td>15</td>\n",
              "      <td>2</td>\n",
              "    </tr>\n",
              "    <tr>\n",
              "      <th>1</th>\n",
              "      <td>Patrícia</td>\n",
              "      <td>chegou atrasado à segunda aula</td>\n",
              "      <td>21.299999</td>\n",
              "      <td>18</td>\n",
              "      <td>2</td>\n",
              "    </tr>\n",
              "    <tr>\n",
              "      <th>2</th>\n",
              "      <td>Gustavo</td>\n",
              "      <td>chegou atrasado à segunda aula</td>\n",
              "      <td>21.400000</td>\n",
              "      <td>16</td>\n",
              "      <td>2</td>\n",
              "    </tr>\n",
              "    <tr>\n",
              "      <th>3</th>\n",
              "      <td>Letícia</td>\n",
              "      <td>chegou atrasado à segunda aula</td>\n",
              "      <td>31.500000</td>\n",
              "      <td>15</td>\n",
              "      <td>2</td>\n",
              "    </tr>\n",
              "    <tr>\n",
              "      <th>4</th>\n",
              "      <td>Luiz Ovídio</td>\n",
              "      <td>chegou atrasado à segunda aula</td>\n",
              "      <td>17.500000</td>\n",
              "      <td>16</td>\n",
              "      <td>2</td>\n",
              "    </tr>\n",
              "    <tr>\n",
              "      <th>...</th>\n",
              "      <td>...</td>\n",
              "      <td>...</td>\n",
              "      <td>...</td>\n",
              "      <td>...</td>\n",
              "      <td>...</td>\n",
              "    </tr>\n",
              "    <tr>\n",
              "      <th>95</th>\n",
              "      <td>Sheila</td>\n",
              "      <td>nao chegou atrasado</td>\n",
              "      <td>24.000000</td>\n",
              "      <td>10</td>\n",
              "      <td>0</td>\n",
              "    </tr>\n",
              "    <tr>\n",
              "      <th>96</th>\n",
              "      <td>Pedro</td>\n",
              "      <td>chegou atrasado à primeira aula</td>\n",
              "      <td>15.000000</td>\n",
              "      <td>15</td>\n",
              "      <td>1</td>\n",
              "    </tr>\n",
              "    <tr>\n",
              "      <th>97</th>\n",
              "      <td>Horácio</td>\n",
              "      <td>chegou atrasado à primeira aula</td>\n",
              "      <td>14.400000</td>\n",
              "      <td>15</td>\n",
              "      <td>1</td>\n",
              "    </tr>\n",
              "    <tr>\n",
              "      <th>98</th>\n",
              "      <td>Leandro</td>\n",
              "      <td>chegou atrasado à segunda aula</td>\n",
              "      <td>22.200001</td>\n",
              "      <td>18</td>\n",
              "      <td>2</td>\n",
              "    </tr>\n",
              "    <tr>\n",
              "      <th>99</th>\n",
              "      <td>Estela</td>\n",
              "      <td>nao chegou atrasado</td>\n",
              "      <td>1.000000</td>\n",
              "      <td>13</td>\n",
              "      <td>0</td>\n",
              "    </tr>\n",
              "  </tbody>\n",
              "</table>\n",
              "<p>100 rows × 5 columns</p>\n",
              "</div>\n",
              "      <button class=\"colab-df-convert\" onclick=\"convertToInteractive('df-e2b70eeb-c3be-4145-976c-b85d5dbb0e65')\"\n",
              "              title=\"Convert this dataframe to an interactive table.\"\n",
              "              style=\"display:none;\">\n",
              "        \n",
              "  <svg xmlns=\"http://www.w3.org/2000/svg\" height=\"24px\"viewBox=\"0 0 24 24\"\n",
              "       width=\"24px\">\n",
              "    <path d=\"M0 0h24v24H0V0z\" fill=\"none\"/>\n",
              "    <path d=\"M18.56 5.44l.94 2.06.94-2.06 2.06-.94-2.06-.94-.94-2.06-.94 2.06-2.06.94zm-11 1L8.5 8.5l.94-2.06 2.06-.94-2.06-.94L8.5 2.5l-.94 2.06-2.06.94zm10 10l.94 2.06.94-2.06 2.06-.94-2.06-.94-.94-2.06-.94 2.06-2.06.94z\"/><path d=\"M17.41 7.96l-1.37-1.37c-.4-.4-.92-.59-1.43-.59-.52 0-1.04.2-1.43.59L10.3 9.45l-7.72 7.72c-.78.78-.78 2.05 0 2.83L4 21.41c.39.39.9.59 1.41.59.51 0 1.02-.2 1.41-.59l7.78-7.78 2.81-2.81c.8-.78.8-2.07 0-2.86zM5.41 20L4 18.59l7.72-7.72 1.47 1.35L5.41 20z\"/>\n",
              "  </svg>\n",
              "      </button>\n",
              "      \n",
              "  <style>\n",
              "    .colab-df-container {\n",
              "      display:flex;\n",
              "      flex-wrap:wrap;\n",
              "      gap: 12px;\n",
              "    }\n",
              "\n",
              "    .colab-df-convert {\n",
              "      background-color: #E8F0FE;\n",
              "      border: none;\n",
              "      border-radius: 50%;\n",
              "      cursor: pointer;\n",
              "      display: none;\n",
              "      fill: #1967D2;\n",
              "      height: 32px;\n",
              "      padding: 0 0 0 0;\n",
              "      width: 32px;\n",
              "    }\n",
              "\n",
              "    .colab-df-convert:hover {\n",
              "      background-color: #E2EBFA;\n",
              "      box-shadow: 0px 1px 2px rgba(60, 64, 67, 0.3), 0px 1px 3px 1px rgba(60, 64, 67, 0.15);\n",
              "      fill: #174EA6;\n",
              "    }\n",
              "\n",
              "    [theme=dark] .colab-df-convert {\n",
              "      background-color: #3B4455;\n",
              "      fill: #D2E3FC;\n",
              "    }\n",
              "\n",
              "    [theme=dark] .colab-df-convert:hover {\n",
              "      background-color: #434B5C;\n",
              "      box-shadow: 0px 1px 3px 1px rgba(0, 0, 0, 0.15);\n",
              "      filter: drop-shadow(0px 1px 2px rgba(0, 0, 0, 0.3));\n",
              "      fill: #FFFFFF;\n",
              "    }\n",
              "  </style>\n",
              "\n",
              "      <script>\n",
              "        const buttonEl =\n",
              "          document.querySelector('#df-e2b70eeb-c3be-4145-976c-b85d5dbb0e65 button.colab-df-convert');\n",
              "        buttonEl.style.display =\n",
              "          google.colab.kernel.accessAllowed ? 'block' : 'none';\n",
              "\n",
              "        async function convertToInteractive(key) {\n",
              "          const element = document.querySelector('#df-e2b70eeb-c3be-4145-976c-b85d5dbb0e65');\n",
              "          const dataTable =\n",
              "            await google.colab.kernel.invokeFunction('convertToInteractive',\n",
              "                                                     [key], {});\n",
              "          if (!dataTable) return;\n",
              "\n",
              "          const docLinkHtml = 'Like what you see? Visit the ' +\n",
              "            '<a target=\"_blank\" href=https://colab.research.google.com/notebooks/data_table.ipynb>data table notebook</a>'\n",
              "            + ' to learn more about interactive tables.';\n",
              "          element.innerHTML = '';\n",
              "          dataTable['output_type'] = 'display_data';\n",
              "          await google.colab.output.renderOutput(dataTable, element);\n",
              "          const docLink = document.createElement('div');\n",
              "          docLink.innerHTML = docLinkHtml;\n",
              "          element.appendChild(docLink);\n",
              "        }\n",
              "      </script>\n",
              "    </div>\n",
              "  </div>\n",
              "  "
            ]
          },
          "metadata": {},
          "execution_count": 7
        }
      ]
    },
    {
      "cell_type": "markdown",
      "source": [
        "##Estimação do modelo logístico multinomial"
      ],
      "metadata": {
        "id": "Z4MEsX59HZJ0"
      }
    },
    {
      "cell_type": "code",
      "source": [
        "from statsmodels.discrete.discrete_model import MNLogit"
      ],
      "metadata": {
        "id": "dzUqVzwBJuwc"
      },
      "execution_count": 8,
      "outputs": []
    },
    {
      "cell_type": "code",
      "source": [
        "x = df_atrasado_multinomial.drop(columns=['estudante','atrasado','atrasado2'])\n",
        "y = df_atrasado_multinomial['atrasado2']"
      ],
      "metadata": {
        "id": "d7uqFxNQJwm2"
      },
      "execution_count": 9,
      "outputs": []
    },
    {
      "cell_type": "markdown",
      "source": [
        "Esse pacote precisa que a constante seja definida pelo usuário"
      ],
      "metadata": {
        "id": "2b5t_oJ2J07S"
      }
    },
    {
      "cell_type": "code",
      "source": [
        "X = sm.add_constant(x)"
      ],
      "metadata": {
        "id": "4BLrORpmJylB"
      },
      "execution_count": 10,
      "outputs": []
    },
    {
      "cell_type": "markdown",
      "source": [
        "Estimação do modelo - função 'MNLogit' do pacote\n",
        "'statsmodels.discrete.discrete_model'"
      ],
      "metadata": {
        "id": "JYFM83roJ3CM"
      }
    },
    {
      "cell_type": "code",
      "source": [
        "modelo_atrasado = MNLogit(endog=y, exog=X).fit()"
      ],
      "metadata": {
        "colab": {
          "base_uri": "https://localhost:8080/"
        },
        "id": "5RQzo4P0J5eZ",
        "outputId": "28a3497f-b3ed-46ff-db27-c6a06fcef1fb"
      },
      "execution_count": 11,
      "outputs": [
        {
          "output_type": "stream",
          "name": "stdout",
          "text": [
            "Optimization terminated successfully.\n",
            "         Current function value: 0.245118\n",
            "         Iterations 10\n"
          ]
        }
      ]
    },
    {
      "cell_type": "markdown",
      "source": [
        "Parâmetros do modelo"
      ],
      "metadata": {
        "id": "ipWJeT9nJ-zH"
      }
    },
    {
      "cell_type": "code",
      "source": [
        "modelo_atrasado.summary()"
      ],
      "metadata": {
        "colab": {
          "base_uri": "https://localhost:8080/",
          "height": 359
        },
        "id": "YEI-S9ZIJ92T",
        "outputId": "28250878-b2d9-416c-d719-4fdf35ecb277"
      },
      "execution_count": 12,
      "outputs": [
        {
          "output_type": "execute_result",
          "data": {
            "text/plain": [
              "<class 'statsmodels.iolib.summary.Summary'>\n",
              "\"\"\"\n",
              "                          MNLogit Regression Results                          \n",
              "==============================================================================\n",
              "Dep. Variable:              atrasado2   No. Observations:                  100\n",
              "Model:                        MNLogit   Df Residuals:                       94\n",
              "Method:                           MLE   Df Model:                            4\n",
              "Date:                Sat, 01 Apr 2023   Pseudo R-squ.:                  0.7574\n",
              "Time:                        20:41:54   Log-Likelihood:                -24.512\n",
              "converged:                       True   LL-Null:                       -101.02\n",
              "Covariance Type:            nonrobust   LLR p-value:                 4.598e-32\n",
              "===============================================================================\n",
              "atrasado2=1       coef    std err          z      P>|z|      [0.025      0.975]\n",
              "-------------------------------------------------------------------------------\n",
              "const         -33.1352     12.183     -2.720      0.007     -57.014      -9.256\n",
              "dist            0.5588      0.243      2.297      0.022       0.082       1.036\n",
              "sem             1.6699      0.577      2.895      0.004       0.539       2.801\n",
              "-------------------------------------------------------------------------------\n",
              "atrasado2=2       coef    std err          z      P>|z|      [0.025      0.975]\n",
              "-------------------------------------------------------------------------------\n",
              "const         -62.2922     14.675     -4.245      0.000     -91.055     -33.530\n",
              "dist            1.0784      0.302      3.566      0.000       0.486       1.671\n",
              "sem             2.8949      0.686      4.220      0.000       1.550       4.239\n",
              "===============================================================================\n",
              "\"\"\""
            ],
            "text/html": [
              "<table class=\"simpletable\">\n",
              "<caption>MNLogit Regression Results</caption>\n",
              "<tr>\n",
              "  <th>Dep. Variable:</th>       <td>atrasado2</td>    <th>  No. Observations:  </th>  <td>   100</td>  \n",
              "</tr>\n",
              "<tr>\n",
              "  <th>Model:</th>                <td>MNLogit</td>     <th>  Df Residuals:      </th>  <td>    94</td>  \n",
              "</tr>\n",
              "<tr>\n",
              "  <th>Method:</th>                 <td>MLE</td>       <th>  Df Model:          </th>  <td>     4</td>  \n",
              "</tr>\n",
              "<tr>\n",
              "  <th>Date:</th>            <td>Sat, 01 Apr 2023</td> <th>  Pseudo R-squ.:     </th>  <td>0.7574</td>  \n",
              "</tr>\n",
              "<tr>\n",
              "  <th>Time:</th>                <td>20:41:54</td>     <th>  Log-Likelihood:    </th> <td> -24.512</td> \n",
              "</tr>\n",
              "<tr>\n",
              "  <th>converged:</th>             <td>True</td>       <th>  LL-Null:           </th> <td> -101.02</td> \n",
              "</tr>\n",
              "<tr>\n",
              "  <th>Covariance Type:</th>     <td>nonrobust</td>    <th>  LLR p-value:       </th> <td>4.598e-32</td>\n",
              "</tr>\n",
              "</table>\n",
              "<table class=\"simpletable\">\n",
              "<tr>\n",
              "  <th>atrasado2=1</th>    <th>coef</th>     <th>std err</th>      <th>z</th>      <th>P>|z|</th>  <th>[0.025</th>    <th>0.975]</th>  \n",
              "</tr>\n",
              "<tr>\n",
              "  <th>const</th>       <td>  -33.1352</td> <td>   12.183</td> <td>   -2.720</td> <td> 0.007</td> <td>  -57.014</td> <td>   -9.256</td>\n",
              "</tr>\n",
              "<tr>\n",
              "  <th>dist</th>        <td>    0.5588</td> <td>    0.243</td> <td>    2.297</td> <td> 0.022</td> <td>    0.082</td> <td>    1.036</td>\n",
              "</tr>\n",
              "<tr>\n",
              "  <th>sem</th>         <td>    1.6699</td> <td>    0.577</td> <td>    2.895</td> <td> 0.004</td> <td>    0.539</td> <td>    2.801</td>\n",
              "</tr>\n",
              "<tr>\n",
              "  <th>atrasado2=2</th>    <th>coef</th>     <th>std err</th>      <th>z</th>      <th>P>|z|</th>  <th>[0.025</th>    <th>0.975]</th>  \n",
              "</tr>\n",
              "<tr>\n",
              "  <th>const</th>       <td>  -62.2922</td> <td>   14.675</td> <td>   -4.245</td> <td> 0.000</td> <td>  -91.055</td> <td>  -33.530</td>\n",
              "</tr>\n",
              "<tr>\n",
              "  <th>dist</th>        <td>    1.0784</td> <td>    0.302</td> <td>    3.566</td> <td> 0.000</td> <td>    0.486</td> <td>    1.671</td>\n",
              "</tr>\n",
              "<tr>\n",
              "  <th>sem</th>         <td>    2.8949</td> <td>    0.686</td> <td>    4.220</td> <td> 0.000</td> <td>    1.550</td> <td>    4.239</td>\n",
              "</tr>\n",
              "</table>"
            ]
          },
          "metadata": {},
          "execution_count": 12
        }
      ]
    },
    {
      "cell_type": "markdown",
      "source": [
        " Vamos definir uma função 'Qui2' para se extrair a estatística geral\n",
        " do modelo"
      ],
      "metadata": {
        "id": "_uwUk26RJ-AG"
      }
    },
    {
      "cell_type": "code",
      "source": [
        "def Qui2(modelo_multinomial):\n",
        "    maximo = modelo_multinomial.llf\n",
        "    minimo = modelo_multinomial.llnull\n",
        "    qui2 = -2*(minimo - maximo)\n",
        "    pvalue = stats.distributions.chi2.sf(qui2,1)\n",
        "    df = pd.DataFrame({'Qui quadrado':[qui2],\n",
        "                       'pvalue':[pvalue]})\n",
        "    return df"
      ],
      "metadata": {
        "id": "5uMm16STKuzo"
      },
      "execution_count": 13,
      "outputs": []
    },
    {
      "cell_type": "markdown",
      "source": [
        " Estatística geral do 'modelo_atrasado'"
      ],
      "metadata": {
        "id": "vmHG83U2KxKw"
      }
    },
    {
      "cell_type": "code",
      "source": [
        "Qui2(modelo_atrasado)"
      ],
      "metadata": {
        "colab": {
          "base_uri": "https://localhost:8080/",
          "height": 81
        },
        "id": "kfisw_WhKwc5",
        "outputId": "ea272aca-baf2-4e5f-c051-a1f387435b86"
      },
      "execution_count": 14,
      "outputs": [
        {
          "output_type": "execute_result",
          "data": {
            "text/plain": [
              "   Qui quadrado        pvalue\n",
              "0    153.014842  3.802150e-35"
            ],
            "text/html": [
              "\n",
              "  <div id=\"df-3d2fbd98-93ba-4117-8b3f-170dbf848db7\">\n",
              "    <div class=\"colab-df-container\">\n",
              "      <div>\n",
              "<style scoped>\n",
              "    .dataframe tbody tr th:only-of-type {\n",
              "        vertical-align: middle;\n",
              "    }\n",
              "\n",
              "    .dataframe tbody tr th {\n",
              "        vertical-align: top;\n",
              "    }\n",
              "\n",
              "    .dataframe thead th {\n",
              "        text-align: right;\n",
              "    }\n",
              "</style>\n",
              "<table border=\"1\" class=\"dataframe\">\n",
              "  <thead>\n",
              "    <tr style=\"text-align: right;\">\n",
              "      <th></th>\n",
              "      <th>Qui quadrado</th>\n",
              "      <th>pvalue</th>\n",
              "    </tr>\n",
              "  </thead>\n",
              "  <tbody>\n",
              "    <tr>\n",
              "      <th>0</th>\n",
              "      <td>153.014842</td>\n",
              "      <td>3.802150e-35</td>\n",
              "    </tr>\n",
              "  </tbody>\n",
              "</table>\n",
              "</div>\n",
              "      <button class=\"colab-df-convert\" onclick=\"convertToInteractive('df-3d2fbd98-93ba-4117-8b3f-170dbf848db7')\"\n",
              "              title=\"Convert this dataframe to an interactive table.\"\n",
              "              style=\"display:none;\">\n",
              "        \n",
              "  <svg xmlns=\"http://www.w3.org/2000/svg\" height=\"24px\"viewBox=\"0 0 24 24\"\n",
              "       width=\"24px\">\n",
              "    <path d=\"M0 0h24v24H0V0z\" fill=\"none\"/>\n",
              "    <path d=\"M18.56 5.44l.94 2.06.94-2.06 2.06-.94-2.06-.94-.94-2.06-.94 2.06-2.06.94zm-11 1L8.5 8.5l.94-2.06 2.06-.94-2.06-.94L8.5 2.5l-.94 2.06-2.06.94zm10 10l.94 2.06.94-2.06 2.06-.94-2.06-.94-.94-2.06-.94 2.06-2.06.94z\"/><path d=\"M17.41 7.96l-1.37-1.37c-.4-.4-.92-.59-1.43-.59-.52 0-1.04.2-1.43.59L10.3 9.45l-7.72 7.72c-.78.78-.78 2.05 0 2.83L4 21.41c.39.39.9.59 1.41.59.51 0 1.02-.2 1.41-.59l7.78-7.78 2.81-2.81c.8-.78.8-2.07 0-2.86zM5.41 20L4 18.59l7.72-7.72 1.47 1.35L5.41 20z\"/>\n",
              "  </svg>\n",
              "      </button>\n",
              "      \n",
              "  <style>\n",
              "    .colab-df-container {\n",
              "      display:flex;\n",
              "      flex-wrap:wrap;\n",
              "      gap: 12px;\n",
              "    }\n",
              "\n",
              "    .colab-df-convert {\n",
              "      background-color: #E8F0FE;\n",
              "      border: none;\n",
              "      border-radius: 50%;\n",
              "      cursor: pointer;\n",
              "      display: none;\n",
              "      fill: #1967D2;\n",
              "      height: 32px;\n",
              "      padding: 0 0 0 0;\n",
              "      width: 32px;\n",
              "    }\n",
              "\n",
              "    .colab-df-convert:hover {\n",
              "      background-color: #E2EBFA;\n",
              "      box-shadow: 0px 1px 2px rgba(60, 64, 67, 0.3), 0px 1px 3px 1px rgba(60, 64, 67, 0.15);\n",
              "      fill: #174EA6;\n",
              "    }\n",
              "\n",
              "    [theme=dark] .colab-df-convert {\n",
              "      background-color: #3B4455;\n",
              "      fill: #D2E3FC;\n",
              "    }\n",
              "\n",
              "    [theme=dark] .colab-df-convert:hover {\n",
              "      background-color: #434B5C;\n",
              "      box-shadow: 0px 1px 3px 1px rgba(0, 0, 0, 0.15);\n",
              "      filter: drop-shadow(0px 1px 2px rgba(0, 0, 0, 0.3));\n",
              "      fill: #FFFFFF;\n",
              "    }\n",
              "  </style>\n",
              "\n",
              "      <script>\n",
              "        const buttonEl =\n",
              "          document.querySelector('#df-3d2fbd98-93ba-4117-8b3f-170dbf848db7 button.colab-df-convert');\n",
              "        buttonEl.style.display =\n",
              "          google.colab.kernel.accessAllowed ? 'block' : 'none';\n",
              "\n",
              "        async function convertToInteractive(key) {\n",
              "          const element = document.querySelector('#df-3d2fbd98-93ba-4117-8b3f-170dbf848db7');\n",
              "          const dataTable =\n",
              "            await google.colab.kernel.invokeFunction('convertToInteractive',\n",
              "                                                     [key], {});\n",
              "          if (!dataTable) return;\n",
              "\n",
              "          const docLinkHtml = 'Like what you see? Visit the ' +\n",
              "            '<a target=\"_blank\" href=https://colab.research.google.com/notebooks/data_table.ipynb>data table notebook</a>'\n",
              "            + ' to learn more about interactive tables.';\n",
              "          element.innerHTML = '';\n",
              "          dataTable['output_type'] = 'display_data';\n",
              "          await google.colab.output.renderOutput(dataTable, element);\n",
              "          const docLink = document.createElement('div');\n",
              "          docLink.innerHTML = docLinkHtml;\n",
              "          element.appendChild(docLink);\n",
              "        }\n",
              "      </script>\n",
              "    </div>\n",
              "  </div>\n",
              "  "
            ]
          },
          "metadata": {},
          "execution_count": 14
        }
      ]
    },
    {
      "cell_type": "markdown",
      "source": [
        "##Fazendo predições para o 'modelo_atrasado'"
      ],
      "metadata": {
        "id": "MsAgbNlZK3y6"
      }
    },
    {
      "cell_type": "markdown",
      "source": [
        "Exemplo: qual a probabilidade média de atraso para cada categoria da\n",
        "variável dependente, se o indivíduo tiver que percorrer 22km e passar\n",
        "por 12 semáforos?\n",
        "No nosso exemplo, tempos que:\n",
        "*   0: não chegou atrasado\n",
        "*   1: chegou atrasado primeira aula\n",
        "*   2: chegou atrasado segunda aula\n"
      ],
      "metadata": {
        "id": "CVCpjD7FK-Js"
      }
    },
    {
      "cell_type": "code",
      "source": [
        "resultado = modelo_atrasado.predict(pd.DataFrame({'const':[1],\n",
        "                                                   'dist':[22],\n",
        "                                                   'sem':[12]})).round(4)\n",
        "\n",
        "resultado\n"
      ],
      "metadata": {
        "colab": {
          "base_uri": "https://localhost:8080/",
          "height": 81
        },
        "id": "avt7W6XtLJxy",
        "outputId": "e9e69831-d005-4c03-93fc-b94fea4f3725"
      },
      "execution_count": 15,
      "outputs": [
        {
          "output_type": "execute_result",
          "data": {
            "text/plain": [
              "        0      1       2\n",
              "0  0.6802  0.305  0.0148"
            ],
            "text/html": [
              "\n",
              "  <div id=\"df-770ee86d-aa71-4aea-af09-7d012283a3da\">\n",
              "    <div class=\"colab-df-container\">\n",
              "      <div>\n",
              "<style scoped>\n",
              "    .dataframe tbody tr th:only-of-type {\n",
              "        vertical-align: middle;\n",
              "    }\n",
              "\n",
              "    .dataframe tbody tr th {\n",
              "        vertical-align: top;\n",
              "    }\n",
              "\n",
              "    .dataframe thead th {\n",
              "        text-align: right;\n",
              "    }\n",
              "</style>\n",
              "<table border=\"1\" class=\"dataframe\">\n",
              "  <thead>\n",
              "    <tr style=\"text-align: right;\">\n",
              "      <th></th>\n",
              "      <th>0</th>\n",
              "      <th>1</th>\n",
              "      <th>2</th>\n",
              "    </tr>\n",
              "  </thead>\n",
              "  <tbody>\n",
              "    <tr>\n",
              "      <th>0</th>\n",
              "      <td>0.6802</td>\n",
              "      <td>0.305</td>\n",
              "      <td>0.0148</td>\n",
              "    </tr>\n",
              "  </tbody>\n",
              "</table>\n",
              "</div>\n",
              "      <button class=\"colab-df-convert\" onclick=\"convertToInteractive('df-770ee86d-aa71-4aea-af09-7d012283a3da')\"\n",
              "              title=\"Convert this dataframe to an interactive table.\"\n",
              "              style=\"display:none;\">\n",
              "        \n",
              "  <svg xmlns=\"http://www.w3.org/2000/svg\" height=\"24px\"viewBox=\"0 0 24 24\"\n",
              "       width=\"24px\">\n",
              "    <path d=\"M0 0h24v24H0V0z\" fill=\"none\"/>\n",
              "    <path d=\"M18.56 5.44l.94 2.06.94-2.06 2.06-.94-2.06-.94-.94-2.06-.94 2.06-2.06.94zm-11 1L8.5 8.5l.94-2.06 2.06-.94-2.06-.94L8.5 2.5l-.94 2.06-2.06.94zm10 10l.94 2.06.94-2.06 2.06-.94-2.06-.94-.94-2.06-.94 2.06-2.06.94z\"/><path d=\"M17.41 7.96l-1.37-1.37c-.4-.4-.92-.59-1.43-.59-.52 0-1.04.2-1.43.59L10.3 9.45l-7.72 7.72c-.78.78-.78 2.05 0 2.83L4 21.41c.39.39.9.59 1.41.59.51 0 1.02-.2 1.41-.59l7.78-7.78 2.81-2.81c.8-.78.8-2.07 0-2.86zM5.41 20L4 18.59l7.72-7.72 1.47 1.35L5.41 20z\"/>\n",
              "  </svg>\n",
              "      </button>\n",
              "      \n",
              "  <style>\n",
              "    .colab-df-container {\n",
              "      display:flex;\n",
              "      flex-wrap:wrap;\n",
              "      gap: 12px;\n",
              "    }\n",
              "\n",
              "    .colab-df-convert {\n",
              "      background-color: #E8F0FE;\n",
              "      border: none;\n",
              "      border-radius: 50%;\n",
              "      cursor: pointer;\n",
              "      display: none;\n",
              "      fill: #1967D2;\n",
              "      height: 32px;\n",
              "      padding: 0 0 0 0;\n",
              "      width: 32px;\n",
              "    }\n",
              "\n",
              "    .colab-df-convert:hover {\n",
              "      background-color: #E2EBFA;\n",
              "      box-shadow: 0px 1px 2px rgba(60, 64, 67, 0.3), 0px 1px 3px 1px rgba(60, 64, 67, 0.15);\n",
              "      fill: #174EA6;\n",
              "    }\n",
              "\n",
              "    [theme=dark] .colab-df-convert {\n",
              "      background-color: #3B4455;\n",
              "      fill: #D2E3FC;\n",
              "    }\n",
              "\n",
              "    [theme=dark] .colab-df-convert:hover {\n",
              "      background-color: #434B5C;\n",
              "      box-shadow: 0px 1px 3px 1px rgba(0, 0, 0, 0.15);\n",
              "      filter: drop-shadow(0px 1px 2px rgba(0, 0, 0, 0.3));\n",
              "      fill: #FFFFFF;\n",
              "    }\n",
              "  </style>\n",
              "\n",
              "      <script>\n",
              "        const buttonEl =\n",
              "          document.querySelector('#df-770ee86d-aa71-4aea-af09-7d012283a3da button.colab-df-convert');\n",
              "        buttonEl.style.display =\n",
              "          google.colab.kernel.accessAllowed ? 'block' : 'none';\n",
              "\n",
              "        async function convertToInteractive(key) {\n",
              "          const element = document.querySelector('#df-770ee86d-aa71-4aea-af09-7d012283a3da');\n",
              "          const dataTable =\n",
              "            await google.colab.kernel.invokeFunction('convertToInteractive',\n",
              "                                                     [key], {});\n",
              "          if (!dataTable) return;\n",
              "\n",
              "          const docLinkHtml = 'Like what you see? Visit the ' +\n",
              "            '<a target=\"_blank\" href=https://colab.research.google.com/notebooks/data_table.ipynb>data table notebook</a>'\n",
              "            + ' to learn more about interactive tables.';\n",
              "          element.innerHTML = '';\n",
              "          dataTable['output_type'] = 'display_data';\n",
              "          await google.colab.output.renderOutput(dataTable, element);\n",
              "          const docLink = document.createElement('div');\n",
              "          docLink.innerHTML = docLinkHtml;\n",
              "          element.appendChild(docLink);\n",
              "        }\n",
              "      </script>\n",
              "    </div>\n",
              "  </div>\n",
              "  "
            ]
          },
          "metadata": {},
          "execution_count": 15
        }
      ]
    },
    {
      "cell_type": "markdown",
      "source": [
        "Ou seja 68% de chegar a tempo para a primeira aula, 30% de chances de atrasado na primeira aula e menos de 2% de chegar atrasado na segunda aula. "
      ],
      "metadata": {
        "id": "2r6rRzhkLNLa"
      }
    },
    {
      "cell_type": "code",
      "source": [],
      "metadata": {
        "id": "vog9mJsnLslV"
      },
      "execution_count": 15,
      "outputs": []
    },
    {
      "cell_type": "markdown",
      "source": [
        "Adicionando as probabilidades de ocorrência de cada uma das\n",
        "categorias de Y definidas pela modelagem, bem como a respectiva\n",
        "classificação, ao dataframe original\n",
        "\n",
        "Probabilidades de ocorrência das três categoriais\n",
        "Definição do array 'phats':"
      ],
      "metadata": {
        "id": "-ZCsT7yLL7Ss"
      }
    },
    {
      "cell_type": "code",
      "source": [
        "phats = modelo_atrasado.predict()"
      ],
      "metadata": {
        "id": "-Rbl1MWFMAPU"
      },
      "execution_count": 16,
      "outputs": []
    },
    {
      "cell_type": "markdown",
      "source": [
        "Transformação do array 'phats' para o dataframe 'phats':"
      ],
      "metadata": {
        "id": "LUTAu-DQMDPQ"
      }
    },
    {
      "cell_type": "code",
      "source": [
        "phats = pd.DataFrame(phats)\n",
        "phats.head(5)"
      ],
      "metadata": {
        "colab": {
          "base_uri": "https://localhost:8080/",
          "height": 206
        },
        "id": "Z6GzA9MgMEk-",
        "outputId": "e96c8303-9052-4749-ff10-c2e2cb3cc98f"
      },
      "execution_count": 17,
      "outputs": [
        {
          "output_type": "execute_result",
          "data": {
            "text/plain": [
              "              0         1         2\n",
              "0  1.801024e-02  0.523388  0.458602\n",
              "1  2.751301e-06  0.018737  0.981260\n",
              "2  6.796190e-04  0.173472  0.825849\n",
              "3  2.759476e-07  0.003748  0.996252\n",
              "4  2.083782e-02  0.601588  0.377574"
            ],
            "text/html": [
              "\n",
              "  <div id=\"df-5d32926d-942c-42e6-bc0b-23461701dc24\">\n",
              "    <div class=\"colab-df-container\">\n",
              "      <div>\n",
              "<style scoped>\n",
              "    .dataframe tbody tr th:only-of-type {\n",
              "        vertical-align: middle;\n",
              "    }\n",
              "\n",
              "    .dataframe tbody tr th {\n",
              "        vertical-align: top;\n",
              "    }\n",
              "\n",
              "    .dataframe thead th {\n",
              "        text-align: right;\n",
              "    }\n",
              "</style>\n",
              "<table border=\"1\" class=\"dataframe\">\n",
              "  <thead>\n",
              "    <tr style=\"text-align: right;\">\n",
              "      <th></th>\n",
              "      <th>0</th>\n",
              "      <th>1</th>\n",
              "      <th>2</th>\n",
              "    </tr>\n",
              "  </thead>\n",
              "  <tbody>\n",
              "    <tr>\n",
              "      <th>0</th>\n",
              "      <td>1.801024e-02</td>\n",
              "      <td>0.523388</td>\n",
              "      <td>0.458602</td>\n",
              "    </tr>\n",
              "    <tr>\n",
              "      <th>1</th>\n",
              "      <td>2.751301e-06</td>\n",
              "      <td>0.018737</td>\n",
              "      <td>0.981260</td>\n",
              "    </tr>\n",
              "    <tr>\n",
              "      <th>2</th>\n",
              "      <td>6.796190e-04</td>\n",
              "      <td>0.173472</td>\n",
              "      <td>0.825849</td>\n",
              "    </tr>\n",
              "    <tr>\n",
              "      <th>3</th>\n",
              "      <td>2.759476e-07</td>\n",
              "      <td>0.003748</td>\n",
              "      <td>0.996252</td>\n",
              "    </tr>\n",
              "    <tr>\n",
              "      <th>4</th>\n",
              "      <td>2.083782e-02</td>\n",
              "      <td>0.601588</td>\n",
              "      <td>0.377574</td>\n",
              "    </tr>\n",
              "  </tbody>\n",
              "</table>\n",
              "</div>\n",
              "      <button class=\"colab-df-convert\" onclick=\"convertToInteractive('df-5d32926d-942c-42e6-bc0b-23461701dc24')\"\n",
              "              title=\"Convert this dataframe to an interactive table.\"\n",
              "              style=\"display:none;\">\n",
              "        \n",
              "  <svg xmlns=\"http://www.w3.org/2000/svg\" height=\"24px\"viewBox=\"0 0 24 24\"\n",
              "       width=\"24px\">\n",
              "    <path d=\"M0 0h24v24H0V0z\" fill=\"none\"/>\n",
              "    <path d=\"M18.56 5.44l.94 2.06.94-2.06 2.06-.94-2.06-.94-.94-2.06-.94 2.06-2.06.94zm-11 1L8.5 8.5l.94-2.06 2.06-.94-2.06-.94L8.5 2.5l-.94 2.06-2.06.94zm10 10l.94 2.06.94-2.06 2.06-.94-2.06-.94-.94-2.06-.94 2.06-2.06.94z\"/><path d=\"M17.41 7.96l-1.37-1.37c-.4-.4-.92-.59-1.43-.59-.52 0-1.04.2-1.43.59L10.3 9.45l-7.72 7.72c-.78.78-.78 2.05 0 2.83L4 21.41c.39.39.9.59 1.41.59.51 0 1.02-.2 1.41-.59l7.78-7.78 2.81-2.81c.8-.78.8-2.07 0-2.86zM5.41 20L4 18.59l7.72-7.72 1.47 1.35L5.41 20z\"/>\n",
              "  </svg>\n",
              "      </button>\n",
              "      \n",
              "  <style>\n",
              "    .colab-df-container {\n",
              "      display:flex;\n",
              "      flex-wrap:wrap;\n",
              "      gap: 12px;\n",
              "    }\n",
              "\n",
              "    .colab-df-convert {\n",
              "      background-color: #E8F0FE;\n",
              "      border: none;\n",
              "      border-radius: 50%;\n",
              "      cursor: pointer;\n",
              "      display: none;\n",
              "      fill: #1967D2;\n",
              "      height: 32px;\n",
              "      padding: 0 0 0 0;\n",
              "      width: 32px;\n",
              "    }\n",
              "\n",
              "    .colab-df-convert:hover {\n",
              "      background-color: #E2EBFA;\n",
              "      box-shadow: 0px 1px 2px rgba(60, 64, 67, 0.3), 0px 1px 3px 1px rgba(60, 64, 67, 0.15);\n",
              "      fill: #174EA6;\n",
              "    }\n",
              "\n",
              "    [theme=dark] .colab-df-convert {\n",
              "      background-color: #3B4455;\n",
              "      fill: #D2E3FC;\n",
              "    }\n",
              "\n",
              "    [theme=dark] .colab-df-convert:hover {\n",
              "      background-color: #434B5C;\n",
              "      box-shadow: 0px 1px 3px 1px rgba(0, 0, 0, 0.15);\n",
              "      filter: drop-shadow(0px 1px 2px rgba(0, 0, 0, 0.3));\n",
              "      fill: #FFFFFF;\n",
              "    }\n",
              "  </style>\n",
              "\n",
              "      <script>\n",
              "        const buttonEl =\n",
              "          document.querySelector('#df-5d32926d-942c-42e6-bc0b-23461701dc24 button.colab-df-convert');\n",
              "        buttonEl.style.display =\n",
              "          google.colab.kernel.accessAllowed ? 'block' : 'none';\n",
              "\n",
              "        async function convertToInteractive(key) {\n",
              "          const element = document.querySelector('#df-5d32926d-942c-42e6-bc0b-23461701dc24');\n",
              "          const dataTable =\n",
              "            await google.colab.kernel.invokeFunction('convertToInteractive',\n",
              "                                                     [key], {});\n",
              "          if (!dataTable) return;\n",
              "\n",
              "          const docLinkHtml = 'Like what you see? Visit the ' +\n",
              "            '<a target=\"_blank\" href=https://colab.research.google.com/notebooks/data_table.ipynb>data table notebook</a>'\n",
              "            + ' to learn more about interactive tables.';\n",
              "          element.innerHTML = '';\n",
              "          dataTable['output_type'] = 'display_data';\n",
              "          await google.colab.output.renderOutput(dataTable, element);\n",
              "          const docLink = document.createElement('div');\n",
              "          docLink.innerHTML = docLinkHtml;\n",
              "          element.appendChild(docLink);\n",
              "        }\n",
              "      </script>\n",
              "    </div>\n",
              "  </div>\n",
              "  "
            ]
          },
          "metadata": {},
          "execution_count": 17
        }
      ]
    },
    {
      "cell_type": "markdown",
      "source": [
        "Concatenando o dataframe original com o dataframe 'phats':"
      ],
      "metadata": {
        "id": "z-sXOhFZMLr8"
      }
    },
    {
      "cell_type": "code",
      "source": [
        "df_atrasado_multinomial = pd.concat([df_atrasado_multinomial, phats], axis=1)\n",
        "df_atrasado_multinomial.head(5)"
      ],
      "metadata": {
        "colab": {
          "base_uri": "https://localhost:8080/",
          "height": 206
        },
        "id": "HWzGCUVwMMmw",
        "outputId": "77ff8465-3943-491c-cea7-84fbb0cc6f7d"
      },
      "execution_count": 18,
      "outputs": [
        {
          "output_type": "execute_result",
          "data": {
            "text/plain": [
              "     estudante                        atrasado       dist  sem  atrasado2  \\\n",
              "0     Gabriela  chegou atrasado à segunda aula  20.500000   15          2   \n",
              "1     Patrícia  chegou atrasado à segunda aula  21.299999   18          2   \n",
              "2      Gustavo  chegou atrasado à segunda aula  21.400000   16          2   \n",
              "3      Letícia  chegou atrasado à segunda aula  31.500000   15          2   \n",
              "4  Luiz Ovídio  chegou atrasado à segunda aula  17.500000   16          2   \n",
              "\n",
              "              0         1         2  \n",
              "0  1.801024e-02  0.523388  0.458602  \n",
              "1  2.751301e-06  0.018737  0.981260  \n",
              "2  6.796190e-04  0.173472  0.825849  \n",
              "3  2.759476e-07  0.003748  0.996252  \n",
              "4  2.083782e-02  0.601588  0.377574  "
            ],
            "text/html": [
              "\n",
              "  <div id=\"df-deda5987-2c61-4d35-8ad4-0c2ecaae2c43\">\n",
              "    <div class=\"colab-df-container\">\n",
              "      <div>\n",
              "<style scoped>\n",
              "    .dataframe tbody tr th:only-of-type {\n",
              "        vertical-align: middle;\n",
              "    }\n",
              "\n",
              "    .dataframe tbody tr th {\n",
              "        vertical-align: top;\n",
              "    }\n",
              "\n",
              "    .dataframe thead th {\n",
              "        text-align: right;\n",
              "    }\n",
              "</style>\n",
              "<table border=\"1\" class=\"dataframe\">\n",
              "  <thead>\n",
              "    <tr style=\"text-align: right;\">\n",
              "      <th></th>\n",
              "      <th>estudante</th>\n",
              "      <th>atrasado</th>\n",
              "      <th>dist</th>\n",
              "      <th>sem</th>\n",
              "      <th>atrasado2</th>\n",
              "      <th>0</th>\n",
              "      <th>1</th>\n",
              "      <th>2</th>\n",
              "    </tr>\n",
              "  </thead>\n",
              "  <tbody>\n",
              "    <tr>\n",
              "      <th>0</th>\n",
              "      <td>Gabriela</td>\n",
              "      <td>chegou atrasado à segunda aula</td>\n",
              "      <td>20.500000</td>\n",
              "      <td>15</td>\n",
              "      <td>2</td>\n",
              "      <td>1.801024e-02</td>\n",
              "      <td>0.523388</td>\n",
              "      <td>0.458602</td>\n",
              "    </tr>\n",
              "    <tr>\n",
              "      <th>1</th>\n",
              "      <td>Patrícia</td>\n",
              "      <td>chegou atrasado à segunda aula</td>\n",
              "      <td>21.299999</td>\n",
              "      <td>18</td>\n",
              "      <td>2</td>\n",
              "      <td>2.751301e-06</td>\n",
              "      <td>0.018737</td>\n",
              "      <td>0.981260</td>\n",
              "    </tr>\n",
              "    <tr>\n",
              "      <th>2</th>\n",
              "      <td>Gustavo</td>\n",
              "      <td>chegou atrasado à segunda aula</td>\n",
              "      <td>21.400000</td>\n",
              "      <td>16</td>\n",
              "      <td>2</td>\n",
              "      <td>6.796190e-04</td>\n",
              "      <td>0.173472</td>\n",
              "      <td>0.825849</td>\n",
              "    </tr>\n",
              "    <tr>\n",
              "      <th>3</th>\n",
              "      <td>Letícia</td>\n",
              "      <td>chegou atrasado à segunda aula</td>\n",
              "      <td>31.500000</td>\n",
              "      <td>15</td>\n",
              "      <td>2</td>\n",
              "      <td>2.759476e-07</td>\n",
              "      <td>0.003748</td>\n",
              "      <td>0.996252</td>\n",
              "    </tr>\n",
              "    <tr>\n",
              "      <th>4</th>\n",
              "      <td>Luiz Ovídio</td>\n",
              "      <td>chegou atrasado à segunda aula</td>\n",
              "      <td>17.500000</td>\n",
              "      <td>16</td>\n",
              "      <td>2</td>\n",
              "      <td>2.083782e-02</td>\n",
              "      <td>0.601588</td>\n",
              "      <td>0.377574</td>\n",
              "    </tr>\n",
              "  </tbody>\n",
              "</table>\n",
              "</div>\n",
              "      <button class=\"colab-df-convert\" onclick=\"convertToInteractive('df-deda5987-2c61-4d35-8ad4-0c2ecaae2c43')\"\n",
              "              title=\"Convert this dataframe to an interactive table.\"\n",
              "              style=\"display:none;\">\n",
              "        \n",
              "  <svg xmlns=\"http://www.w3.org/2000/svg\" height=\"24px\"viewBox=\"0 0 24 24\"\n",
              "       width=\"24px\">\n",
              "    <path d=\"M0 0h24v24H0V0z\" fill=\"none\"/>\n",
              "    <path d=\"M18.56 5.44l.94 2.06.94-2.06 2.06-.94-2.06-.94-.94-2.06-.94 2.06-2.06.94zm-11 1L8.5 8.5l.94-2.06 2.06-.94-2.06-.94L8.5 2.5l-.94 2.06-2.06.94zm10 10l.94 2.06.94-2.06 2.06-.94-2.06-.94-.94-2.06-.94 2.06-2.06.94z\"/><path d=\"M17.41 7.96l-1.37-1.37c-.4-.4-.92-.59-1.43-.59-.52 0-1.04.2-1.43.59L10.3 9.45l-7.72 7.72c-.78.78-.78 2.05 0 2.83L4 21.41c.39.39.9.59 1.41.59.51 0 1.02-.2 1.41-.59l7.78-7.78 2.81-2.81c.8-.78.8-2.07 0-2.86zM5.41 20L4 18.59l7.72-7.72 1.47 1.35L5.41 20z\"/>\n",
              "  </svg>\n",
              "      </button>\n",
              "      \n",
              "  <style>\n",
              "    .colab-df-container {\n",
              "      display:flex;\n",
              "      flex-wrap:wrap;\n",
              "      gap: 12px;\n",
              "    }\n",
              "\n",
              "    .colab-df-convert {\n",
              "      background-color: #E8F0FE;\n",
              "      border: none;\n",
              "      border-radius: 50%;\n",
              "      cursor: pointer;\n",
              "      display: none;\n",
              "      fill: #1967D2;\n",
              "      height: 32px;\n",
              "      padding: 0 0 0 0;\n",
              "      width: 32px;\n",
              "    }\n",
              "\n",
              "    .colab-df-convert:hover {\n",
              "      background-color: #E2EBFA;\n",
              "      box-shadow: 0px 1px 2px rgba(60, 64, 67, 0.3), 0px 1px 3px 1px rgba(60, 64, 67, 0.15);\n",
              "      fill: #174EA6;\n",
              "    }\n",
              "\n",
              "    [theme=dark] .colab-df-convert {\n",
              "      background-color: #3B4455;\n",
              "      fill: #D2E3FC;\n",
              "    }\n",
              "\n",
              "    [theme=dark] .colab-df-convert:hover {\n",
              "      background-color: #434B5C;\n",
              "      box-shadow: 0px 1px 3px 1px rgba(0, 0, 0, 0.15);\n",
              "      filter: drop-shadow(0px 1px 2px rgba(0, 0, 0, 0.3));\n",
              "      fill: #FFFFFF;\n",
              "    }\n",
              "  </style>\n",
              "\n",
              "      <script>\n",
              "        const buttonEl =\n",
              "          document.querySelector('#df-deda5987-2c61-4d35-8ad4-0c2ecaae2c43 button.colab-df-convert');\n",
              "        buttonEl.style.display =\n",
              "          google.colab.kernel.accessAllowed ? 'block' : 'none';\n",
              "\n",
              "        async function convertToInteractive(key) {\n",
              "          const element = document.querySelector('#df-deda5987-2c61-4d35-8ad4-0c2ecaae2c43');\n",
              "          const dataTable =\n",
              "            await google.colab.kernel.invokeFunction('convertToInteractive',\n",
              "                                                     [key], {});\n",
              "          if (!dataTable) return;\n",
              "\n",
              "          const docLinkHtml = 'Like what you see? Visit the ' +\n",
              "            '<a target=\"_blank\" href=https://colab.research.google.com/notebooks/data_table.ipynb>data table notebook</a>'\n",
              "            + ' to learn more about interactive tables.';\n",
              "          element.innerHTML = '';\n",
              "          dataTable['output_type'] = 'display_data';\n",
              "          await google.colab.output.renderOutput(dataTable, element);\n",
              "          const docLink = document.createElement('div');\n",
              "          docLink.innerHTML = docLinkHtml;\n",
              "          element.appendChild(docLink);\n",
              "        }\n",
              "      </script>\n",
              "    </div>\n",
              "  </div>\n",
              "  "
            ]
          },
          "metadata": {},
          "execution_count": 18
        }
      ]
    },
    {
      "cell_type": "markdown",
      "source": [
        " Analisando o resultado de acordo com a categoria de resposta:"
      ],
      "metadata": {
        "id": "KDc2ZScgNKvK"
      }
    },
    {
      "cell_type": "code",
      "source": [
        "classificacao = phats.idxmax(axis=1)\n",
        "classificacao"
      ],
      "metadata": {
        "colab": {
          "base_uri": "https://localhost:8080/"
        },
        "id": "UZ3IF9aWNPmD",
        "outputId": "d1c0b464-1c0d-414e-c186-a4abaed0dc0e"
      },
      "execution_count": 19,
      "outputs": [
        {
          "output_type": "execute_result",
          "data": {
            "text/plain": [
              "0     1\n",
              "1     2\n",
              "2     2\n",
              "3     2\n",
              "4     1\n",
              "     ..\n",
              "95    0\n",
              "96    1\n",
              "97    0\n",
              "98    2\n",
              "99    0\n",
              "Length: 100, dtype: int64"
            ]
          },
          "metadata": {},
          "execution_count": 19
        }
      ]
    },
    {
      "cell_type": "markdown",
      "source": [
        "Adicionando a categoria de resposta 'classificacao' ao dataframe original,\n",
        "por meio da criação da variável 'predicao'"
      ],
      "metadata": {
        "id": "wJFBFzyENSbU"
      }
    },
    {
      "cell_type": "code",
      "source": [
        "df_atrasado_multinomial['predicao'] = classificacao\n",
        "df_atrasado_multinomial"
      ],
      "metadata": {
        "colab": {
          "base_uri": "https://localhost:8080/",
          "height": 424
        },
        "id": "ys_gLxyINUma",
        "outputId": "e79b9f52-0e93-4022-f478-ef1778225a69"
      },
      "execution_count": 20,
      "outputs": [
        {
          "output_type": "execute_result",
          "data": {
            "text/plain": [
              "      estudante                         atrasado       dist  sem  atrasado2  \\\n",
              "0      Gabriela   chegou atrasado à segunda aula  20.500000   15          2   \n",
              "1      Patrícia   chegou atrasado à segunda aula  21.299999   18          2   \n",
              "2       Gustavo   chegou atrasado à segunda aula  21.400000   16          2   \n",
              "3       Letícia   chegou atrasado à segunda aula  31.500000   15          2   \n",
              "4   Luiz Ovídio   chegou atrasado à segunda aula  17.500000   16          2   \n",
              "..          ...                              ...        ...  ...        ...   \n",
              "95       Sheila              nao chegou atrasado  24.000000   10          0   \n",
              "96        Pedro  chegou atrasado à primeira aula  15.000000   15          1   \n",
              "97      Horácio  chegou atrasado à primeira aula  14.400000   15          1   \n",
              "98      Leandro   chegou atrasado à segunda aula  22.200001   18          2   \n",
              "99       Estela              nao chegou atrasado   1.000000   13          0   \n",
              "\n",
              "               0         1             2  predicao  \n",
              "0   1.801024e-02  0.523388  4.586018e-01         1  \n",
              "1   2.751301e-06  0.018737  9.812605e-01         2  \n",
              "2   6.796190e-04  0.173472  8.258489e-01         2  \n",
              "3   2.759476e-07  0.003748  9.962518e-01         2  \n",
              "4   2.083782e-02  0.601588  3.775739e-01         1  \n",
              "..           ...       ...           ...       ...  \n",
              "95  9.531361e-01  0.046317  5.471598e-04         0  \n",
              "96  4.146183e-01  0.557343  2.803830e-02         1  \n",
              "97  5.008256e-01  0.481441  1.773339e-02         0  \n",
              "98  1.049763e-06  0.011822  9.881774e-01         2  \n",
              "99  9.999809e-01  0.000019  5.741634e-11         0  \n",
              "\n",
              "[100 rows x 9 columns]"
            ],
            "text/html": [
              "\n",
              "  <div id=\"df-5b77b98f-5362-4b3d-8afd-14917fcca5e7\">\n",
              "    <div class=\"colab-df-container\">\n",
              "      <div>\n",
              "<style scoped>\n",
              "    .dataframe tbody tr th:only-of-type {\n",
              "        vertical-align: middle;\n",
              "    }\n",
              "\n",
              "    .dataframe tbody tr th {\n",
              "        vertical-align: top;\n",
              "    }\n",
              "\n",
              "    .dataframe thead th {\n",
              "        text-align: right;\n",
              "    }\n",
              "</style>\n",
              "<table border=\"1\" class=\"dataframe\">\n",
              "  <thead>\n",
              "    <tr style=\"text-align: right;\">\n",
              "      <th></th>\n",
              "      <th>estudante</th>\n",
              "      <th>atrasado</th>\n",
              "      <th>dist</th>\n",
              "      <th>sem</th>\n",
              "      <th>atrasado2</th>\n",
              "      <th>0</th>\n",
              "      <th>1</th>\n",
              "      <th>2</th>\n",
              "      <th>predicao</th>\n",
              "    </tr>\n",
              "  </thead>\n",
              "  <tbody>\n",
              "    <tr>\n",
              "      <th>0</th>\n",
              "      <td>Gabriela</td>\n",
              "      <td>chegou atrasado à segunda aula</td>\n",
              "      <td>20.500000</td>\n",
              "      <td>15</td>\n",
              "      <td>2</td>\n",
              "      <td>1.801024e-02</td>\n",
              "      <td>0.523388</td>\n",
              "      <td>4.586018e-01</td>\n",
              "      <td>1</td>\n",
              "    </tr>\n",
              "    <tr>\n",
              "      <th>1</th>\n",
              "      <td>Patrícia</td>\n",
              "      <td>chegou atrasado à segunda aula</td>\n",
              "      <td>21.299999</td>\n",
              "      <td>18</td>\n",
              "      <td>2</td>\n",
              "      <td>2.751301e-06</td>\n",
              "      <td>0.018737</td>\n",
              "      <td>9.812605e-01</td>\n",
              "      <td>2</td>\n",
              "    </tr>\n",
              "    <tr>\n",
              "      <th>2</th>\n",
              "      <td>Gustavo</td>\n",
              "      <td>chegou atrasado à segunda aula</td>\n",
              "      <td>21.400000</td>\n",
              "      <td>16</td>\n",
              "      <td>2</td>\n",
              "      <td>6.796190e-04</td>\n",
              "      <td>0.173472</td>\n",
              "      <td>8.258489e-01</td>\n",
              "      <td>2</td>\n",
              "    </tr>\n",
              "    <tr>\n",
              "      <th>3</th>\n",
              "      <td>Letícia</td>\n",
              "      <td>chegou atrasado à segunda aula</td>\n",
              "      <td>31.500000</td>\n",
              "      <td>15</td>\n",
              "      <td>2</td>\n",
              "      <td>2.759476e-07</td>\n",
              "      <td>0.003748</td>\n",
              "      <td>9.962518e-01</td>\n",
              "      <td>2</td>\n",
              "    </tr>\n",
              "    <tr>\n",
              "      <th>4</th>\n",
              "      <td>Luiz Ovídio</td>\n",
              "      <td>chegou atrasado à segunda aula</td>\n",
              "      <td>17.500000</td>\n",
              "      <td>16</td>\n",
              "      <td>2</td>\n",
              "      <td>2.083782e-02</td>\n",
              "      <td>0.601588</td>\n",
              "      <td>3.775739e-01</td>\n",
              "      <td>1</td>\n",
              "    </tr>\n",
              "    <tr>\n",
              "      <th>...</th>\n",
              "      <td>...</td>\n",
              "      <td>...</td>\n",
              "      <td>...</td>\n",
              "      <td>...</td>\n",
              "      <td>...</td>\n",
              "      <td>...</td>\n",
              "      <td>...</td>\n",
              "      <td>...</td>\n",
              "      <td>...</td>\n",
              "    </tr>\n",
              "    <tr>\n",
              "      <th>95</th>\n",
              "      <td>Sheila</td>\n",
              "      <td>nao chegou atrasado</td>\n",
              "      <td>24.000000</td>\n",
              "      <td>10</td>\n",
              "      <td>0</td>\n",
              "      <td>9.531361e-01</td>\n",
              "      <td>0.046317</td>\n",
              "      <td>5.471598e-04</td>\n",
              "      <td>0</td>\n",
              "    </tr>\n",
              "    <tr>\n",
              "      <th>96</th>\n",
              "      <td>Pedro</td>\n",
              "      <td>chegou atrasado à primeira aula</td>\n",
              "      <td>15.000000</td>\n",
              "      <td>15</td>\n",
              "      <td>1</td>\n",
              "      <td>4.146183e-01</td>\n",
              "      <td>0.557343</td>\n",
              "      <td>2.803830e-02</td>\n",
              "      <td>1</td>\n",
              "    </tr>\n",
              "    <tr>\n",
              "      <th>97</th>\n",
              "      <td>Horácio</td>\n",
              "      <td>chegou atrasado à primeira aula</td>\n",
              "      <td>14.400000</td>\n",
              "      <td>15</td>\n",
              "      <td>1</td>\n",
              "      <td>5.008256e-01</td>\n",
              "      <td>0.481441</td>\n",
              "      <td>1.773339e-02</td>\n",
              "      <td>0</td>\n",
              "    </tr>\n",
              "    <tr>\n",
              "      <th>98</th>\n",
              "      <td>Leandro</td>\n",
              "      <td>chegou atrasado à segunda aula</td>\n",
              "      <td>22.200001</td>\n",
              "      <td>18</td>\n",
              "      <td>2</td>\n",
              "      <td>1.049763e-06</td>\n",
              "      <td>0.011822</td>\n",
              "      <td>9.881774e-01</td>\n",
              "      <td>2</td>\n",
              "    </tr>\n",
              "    <tr>\n",
              "      <th>99</th>\n",
              "      <td>Estela</td>\n",
              "      <td>nao chegou atrasado</td>\n",
              "      <td>1.000000</td>\n",
              "      <td>13</td>\n",
              "      <td>0</td>\n",
              "      <td>9.999809e-01</td>\n",
              "      <td>0.000019</td>\n",
              "      <td>5.741634e-11</td>\n",
              "      <td>0</td>\n",
              "    </tr>\n",
              "  </tbody>\n",
              "</table>\n",
              "<p>100 rows × 9 columns</p>\n",
              "</div>\n",
              "      <button class=\"colab-df-convert\" onclick=\"convertToInteractive('df-5b77b98f-5362-4b3d-8afd-14917fcca5e7')\"\n",
              "              title=\"Convert this dataframe to an interactive table.\"\n",
              "              style=\"display:none;\">\n",
              "        \n",
              "  <svg xmlns=\"http://www.w3.org/2000/svg\" height=\"24px\"viewBox=\"0 0 24 24\"\n",
              "       width=\"24px\">\n",
              "    <path d=\"M0 0h24v24H0V0z\" fill=\"none\"/>\n",
              "    <path d=\"M18.56 5.44l.94 2.06.94-2.06 2.06-.94-2.06-.94-.94-2.06-.94 2.06-2.06.94zm-11 1L8.5 8.5l.94-2.06 2.06-.94-2.06-.94L8.5 2.5l-.94 2.06-2.06.94zm10 10l.94 2.06.94-2.06 2.06-.94-2.06-.94-.94-2.06-.94 2.06-2.06.94z\"/><path d=\"M17.41 7.96l-1.37-1.37c-.4-.4-.92-.59-1.43-.59-.52 0-1.04.2-1.43.59L10.3 9.45l-7.72 7.72c-.78.78-.78 2.05 0 2.83L4 21.41c.39.39.9.59 1.41.59.51 0 1.02-.2 1.41-.59l7.78-7.78 2.81-2.81c.8-.78.8-2.07 0-2.86zM5.41 20L4 18.59l7.72-7.72 1.47 1.35L5.41 20z\"/>\n",
              "  </svg>\n",
              "      </button>\n",
              "      \n",
              "  <style>\n",
              "    .colab-df-container {\n",
              "      display:flex;\n",
              "      flex-wrap:wrap;\n",
              "      gap: 12px;\n",
              "    }\n",
              "\n",
              "    .colab-df-convert {\n",
              "      background-color: #E8F0FE;\n",
              "      border: none;\n",
              "      border-radius: 50%;\n",
              "      cursor: pointer;\n",
              "      display: none;\n",
              "      fill: #1967D2;\n",
              "      height: 32px;\n",
              "      padding: 0 0 0 0;\n",
              "      width: 32px;\n",
              "    }\n",
              "\n",
              "    .colab-df-convert:hover {\n",
              "      background-color: #E2EBFA;\n",
              "      box-shadow: 0px 1px 2px rgba(60, 64, 67, 0.3), 0px 1px 3px 1px rgba(60, 64, 67, 0.15);\n",
              "      fill: #174EA6;\n",
              "    }\n",
              "\n",
              "    [theme=dark] .colab-df-convert {\n",
              "      background-color: #3B4455;\n",
              "      fill: #D2E3FC;\n",
              "    }\n",
              "\n",
              "    [theme=dark] .colab-df-convert:hover {\n",
              "      background-color: #434B5C;\n",
              "      box-shadow: 0px 1px 3px 1px rgba(0, 0, 0, 0.15);\n",
              "      filter: drop-shadow(0px 1px 2px rgba(0, 0, 0, 0.3));\n",
              "      fill: #FFFFFF;\n",
              "    }\n",
              "  </style>\n",
              "\n",
              "      <script>\n",
              "        const buttonEl =\n",
              "          document.querySelector('#df-5b77b98f-5362-4b3d-8afd-14917fcca5e7 button.colab-df-convert');\n",
              "        buttonEl.style.display =\n",
              "          google.colab.kernel.accessAllowed ? 'block' : 'none';\n",
              "\n",
              "        async function convertToInteractive(key) {\n",
              "          const element = document.querySelector('#df-5b77b98f-5362-4b3d-8afd-14917fcca5e7');\n",
              "          const dataTable =\n",
              "            await google.colab.kernel.invokeFunction('convertToInteractive',\n",
              "                                                     [key], {});\n",
              "          if (!dataTable) return;\n",
              "\n",
              "          const docLinkHtml = 'Like what you see? Visit the ' +\n",
              "            '<a target=\"_blank\" href=https://colab.research.google.com/notebooks/data_table.ipynb>data table notebook</a>'\n",
              "            + ' to learn more about interactive tables.';\n",
              "          element.innerHTML = '';\n",
              "          dataTable['output_type'] = 'display_data';\n",
              "          await google.colab.output.renderOutput(dataTable, element);\n",
              "          const docLink = document.createElement('div');\n",
              "          docLink.innerHTML = docLinkHtml;\n",
              "          element.appendChild(docLink);\n",
              "        }\n",
              "      </script>\n",
              "    </div>\n",
              "  </div>\n",
              "  "
            ]
          },
          "metadata": {},
          "execution_count": 20
        }
      ]
    },
    {
      "cell_type": "markdown",
      "source": [
        "Criando a variável 'predicao_label' a partir da variável 'predicao',\n",
        "respeitando os seguintes rótulos:\n",
        "*  0: não chegou atrasado\n",
        "*  1: chegou atrasado primeira aula\n",
        "*  2: chegou atrasado segunda aula\n"
      ],
      "metadata": {
        "id": "vpQIRicoNYK1"
      }
    },
    {
      "cell_type": "code",
      "source": [
        "df_atrasado_multinomial.loc[df_atrasado_multinomial['predicao']==0,\n",
        "                            'predicao_label'] ='não chegou atrasado'\n",
        "df_atrasado_multinomial.loc[df_atrasado_multinomial['predicao']==1,\n",
        "                            'predicao_label'] ='chegou atrasado primeira aula'\n",
        "df_atrasado_multinomial.loc[df_atrasado_multinomial['predicao']==2,\n",
        "                            'predicao_label'] ='chegou atrasado segunda aula'\n",
        "\n",
        "df_atrasado_multinomial"
      ],
      "metadata": {
        "colab": {
          "base_uri": "https://localhost:8080/",
          "height": 424
        },
        "id": "ukEr8eJ_Nd2Z",
        "outputId": "6b5c379d-c512-4c19-bc87-1bda235715a9"
      },
      "execution_count": 21,
      "outputs": [
        {
          "output_type": "execute_result",
          "data": {
            "text/plain": [
              "      estudante                         atrasado       dist  sem  atrasado2  \\\n",
              "0      Gabriela   chegou atrasado à segunda aula  20.500000   15          2   \n",
              "1      Patrícia   chegou atrasado à segunda aula  21.299999   18          2   \n",
              "2       Gustavo   chegou atrasado à segunda aula  21.400000   16          2   \n",
              "3       Letícia   chegou atrasado à segunda aula  31.500000   15          2   \n",
              "4   Luiz Ovídio   chegou atrasado à segunda aula  17.500000   16          2   \n",
              "..          ...                              ...        ...  ...        ...   \n",
              "95       Sheila              nao chegou atrasado  24.000000   10          0   \n",
              "96        Pedro  chegou atrasado à primeira aula  15.000000   15          1   \n",
              "97      Horácio  chegou atrasado à primeira aula  14.400000   15          1   \n",
              "98      Leandro   chegou atrasado à segunda aula  22.200001   18          2   \n",
              "99       Estela              nao chegou atrasado   1.000000   13          0   \n",
              "\n",
              "               0         1             2  predicao  \\\n",
              "0   1.801024e-02  0.523388  4.586018e-01         1   \n",
              "1   2.751301e-06  0.018737  9.812605e-01         2   \n",
              "2   6.796190e-04  0.173472  8.258489e-01         2   \n",
              "3   2.759476e-07  0.003748  9.962518e-01         2   \n",
              "4   2.083782e-02  0.601588  3.775739e-01         1   \n",
              "..           ...       ...           ...       ...   \n",
              "95  9.531361e-01  0.046317  5.471598e-04         0   \n",
              "96  4.146183e-01  0.557343  2.803830e-02         1   \n",
              "97  5.008256e-01  0.481441  1.773339e-02         0   \n",
              "98  1.049763e-06  0.011822  9.881774e-01         2   \n",
              "99  9.999809e-01  0.000019  5.741634e-11         0   \n",
              "\n",
              "                   predicao_label  \n",
              "0   chegou atrasado primeira aula  \n",
              "1    chegou atrasado segunda aula  \n",
              "2    chegou atrasado segunda aula  \n",
              "3    chegou atrasado segunda aula  \n",
              "4   chegou atrasado primeira aula  \n",
              "..                            ...  \n",
              "95            não chegou atrasado  \n",
              "96  chegou atrasado primeira aula  \n",
              "97            não chegou atrasado  \n",
              "98   chegou atrasado segunda aula  \n",
              "99            não chegou atrasado  \n",
              "\n",
              "[100 rows x 10 columns]"
            ],
            "text/html": [
              "\n",
              "  <div id=\"df-b1b078df-0e6b-469c-93f8-faf512607a71\">\n",
              "    <div class=\"colab-df-container\">\n",
              "      <div>\n",
              "<style scoped>\n",
              "    .dataframe tbody tr th:only-of-type {\n",
              "        vertical-align: middle;\n",
              "    }\n",
              "\n",
              "    .dataframe tbody tr th {\n",
              "        vertical-align: top;\n",
              "    }\n",
              "\n",
              "    .dataframe thead th {\n",
              "        text-align: right;\n",
              "    }\n",
              "</style>\n",
              "<table border=\"1\" class=\"dataframe\">\n",
              "  <thead>\n",
              "    <tr style=\"text-align: right;\">\n",
              "      <th></th>\n",
              "      <th>estudante</th>\n",
              "      <th>atrasado</th>\n",
              "      <th>dist</th>\n",
              "      <th>sem</th>\n",
              "      <th>atrasado2</th>\n",
              "      <th>0</th>\n",
              "      <th>1</th>\n",
              "      <th>2</th>\n",
              "      <th>predicao</th>\n",
              "      <th>predicao_label</th>\n",
              "    </tr>\n",
              "  </thead>\n",
              "  <tbody>\n",
              "    <tr>\n",
              "      <th>0</th>\n",
              "      <td>Gabriela</td>\n",
              "      <td>chegou atrasado à segunda aula</td>\n",
              "      <td>20.500000</td>\n",
              "      <td>15</td>\n",
              "      <td>2</td>\n",
              "      <td>1.801024e-02</td>\n",
              "      <td>0.523388</td>\n",
              "      <td>4.586018e-01</td>\n",
              "      <td>1</td>\n",
              "      <td>chegou atrasado primeira aula</td>\n",
              "    </tr>\n",
              "    <tr>\n",
              "      <th>1</th>\n",
              "      <td>Patrícia</td>\n",
              "      <td>chegou atrasado à segunda aula</td>\n",
              "      <td>21.299999</td>\n",
              "      <td>18</td>\n",
              "      <td>2</td>\n",
              "      <td>2.751301e-06</td>\n",
              "      <td>0.018737</td>\n",
              "      <td>9.812605e-01</td>\n",
              "      <td>2</td>\n",
              "      <td>chegou atrasado segunda aula</td>\n",
              "    </tr>\n",
              "    <tr>\n",
              "      <th>2</th>\n",
              "      <td>Gustavo</td>\n",
              "      <td>chegou atrasado à segunda aula</td>\n",
              "      <td>21.400000</td>\n",
              "      <td>16</td>\n",
              "      <td>2</td>\n",
              "      <td>6.796190e-04</td>\n",
              "      <td>0.173472</td>\n",
              "      <td>8.258489e-01</td>\n",
              "      <td>2</td>\n",
              "      <td>chegou atrasado segunda aula</td>\n",
              "    </tr>\n",
              "    <tr>\n",
              "      <th>3</th>\n",
              "      <td>Letícia</td>\n",
              "      <td>chegou atrasado à segunda aula</td>\n",
              "      <td>31.500000</td>\n",
              "      <td>15</td>\n",
              "      <td>2</td>\n",
              "      <td>2.759476e-07</td>\n",
              "      <td>0.003748</td>\n",
              "      <td>9.962518e-01</td>\n",
              "      <td>2</td>\n",
              "      <td>chegou atrasado segunda aula</td>\n",
              "    </tr>\n",
              "    <tr>\n",
              "      <th>4</th>\n",
              "      <td>Luiz Ovídio</td>\n",
              "      <td>chegou atrasado à segunda aula</td>\n",
              "      <td>17.500000</td>\n",
              "      <td>16</td>\n",
              "      <td>2</td>\n",
              "      <td>2.083782e-02</td>\n",
              "      <td>0.601588</td>\n",
              "      <td>3.775739e-01</td>\n",
              "      <td>1</td>\n",
              "      <td>chegou atrasado primeira aula</td>\n",
              "    </tr>\n",
              "    <tr>\n",
              "      <th>...</th>\n",
              "      <td>...</td>\n",
              "      <td>...</td>\n",
              "      <td>...</td>\n",
              "      <td>...</td>\n",
              "      <td>...</td>\n",
              "      <td>...</td>\n",
              "      <td>...</td>\n",
              "      <td>...</td>\n",
              "      <td>...</td>\n",
              "      <td>...</td>\n",
              "    </tr>\n",
              "    <tr>\n",
              "      <th>95</th>\n",
              "      <td>Sheila</td>\n",
              "      <td>nao chegou atrasado</td>\n",
              "      <td>24.000000</td>\n",
              "      <td>10</td>\n",
              "      <td>0</td>\n",
              "      <td>9.531361e-01</td>\n",
              "      <td>0.046317</td>\n",
              "      <td>5.471598e-04</td>\n",
              "      <td>0</td>\n",
              "      <td>não chegou atrasado</td>\n",
              "    </tr>\n",
              "    <tr>\n",
              "      <th>96</th>\n",
              "      <td>Pedro</td>\n",
              "      <td>chegou atrasado à primeira aula</td>\n",
              "      <td>15.000000</td>\n",
              "      <td>15</td>\n",
              "      <td>1</td>\n",
              "      <td>4.146183e-01</td>\n",
              "      <td>0.557343</td>\n",
              "      <td>2.803830e-02</td>\n",
              "      <td>1</td>\n",
              "      <td>chegou atrasado primeira aula</td>\n",
              "    </tr>\n",
              "    <tr>\n",
              "      <th>97</th>\n",
              "      <td>Horácio</td>\n",
              "      <td>chegou atrasado à primeira aula</td>\n",
              "      <td>14.400000</td>\n",
              "      <td>15</td>\n",
              "      <td>1</td>\n",
              "      <td>5.008256e-01</td>\n",
              "      <td>0.481441</td>\n",
              "      <td>1.773339e-02</td>\n",
              "      <td>0</td>\n",
              "      <td>não chegou atrasado</td>\n",
              "    </tr>\n",
              "    <tr>\n",
              "      <th>98</th>\n",
              "      <td>Leandro</td>\n",
              "      <td>chegou atrasado à segunda aula</td>\n",
              "      <td>22.200001</td>\n",
              "      <td>18</td>\n",
              "      <td>2</td>\n",
              "      <td>1.049763e-06</td>\n",
              "      <td>0.011822</td>\n",
              "      <td>9.881774e-01</td>\n",
              "      <td>2</td>\n",
              "      <td>chegou atrasado segunda aula</td>\n",
              "    </tr>\n",
              "    <tr>\n",
              "      <th>99</th>\n",
              "      <td>Estela</td>\n",
              "      <td>nao chegou atrasado</td>\n",
              "      <td>1.000000</td>\n",
              "      <td>13</td>\n",
              "      <td>0</td>\n",
              "      <td>9.999809e-01</td>\n",
              "      <td>0.000019</td>\n",
              "      <td>5.741634e-11</td>\n",
              "      <td>0</td>\n",
              "      <td>não chegou atrasado</td>\n",
              "    </tr>\n",
              "  </tbody>\n",
              "</table>\n",
              "<p>100 rows × 10 columns</p>\n",
              "</div>\n",
              "      <button class=\"colab-df-convert\" onclick=\"convertToInteractive('df-b1b078df-0e6b-469c-93f8-faf512607a71')\"\n",
              "              title=\"Convert this dataframe to an interactive table.\"\n",
              "              style=\"display:none;\">\n",
              "        \n",
              "  <svg xmlns=\"http://www.w3.org/2000/svg\" height=\"24px\"viewBox=\"0 0 24 24\"\n",
              "       width=\"24px\">\n",
              "    <path d=\"M0 0h24v24H0V0z\" fill=\"none\"/>\n",
              "    <path d=\"M18.56 5.44l.94 2.06.94-2.06 2.06-.94-2.06-.94-.94-2.06-.94 2.06-2.06.94zm-11 1L8.5 8.5l.94-2.06 2.06-.94-2.06-.94L8.5 2.5l-.94 2.06-2.06.94zm10 10l.94 2.06.94-2.06 2.06-.94-2.06-.94-.94-2.06-.94 2.06-2.06.94z\"/><path d=\"M17.41 7.96l-1.37-1.37c-.4-.4-.92-.59-1.43-.59-.52 0-1.04.2-1.43.59L10.3 9.45l-7.72 7.72c-.78.78-.78 2.05 0 2.83L4 21.41c.39.39.9.59 1.41.59.51 0 1.02-.2 1.41-.59l7.78-7.78 2.81-2.81c.8-.78.8-2.07 0-2.86zM5.41 20L4 18.59l7.72-7.72 1.47 1.35L5.41 20z\"/>\n",
              "  </svg>\n",
              "      </button>\n",
              "      \n",
              "  <style>\n",
              "    .colab-df-container {\n",
              "      display:flex;\n",
              "      flex-wrap:wrap;\n",
              "      gap: 12px;\n",
              "    }\n",
              "\n",
              "    .colab-df-convert {\n",
              "      background-color: #E8F0FE;\n",
              "      border: none;\n",
              "      border-radius: 50%;\n",
              "      cursor: pointer;\n",
              "      display: none;\n",
              "      fill: #1967D2;\n",
              "      height: 32px;\n",
              "      padding: 0 0 0 0;\n",
              "      width: 32px;\n",
              "    }\n",
              "\n",
              "    .colab-df-convert:hover {\n",
              "      background-color: #E2EBFA;\n",
              "      box-shadow: 0px 1px 2px rgba(60, 64, 67, 0.3), 0px 1px 3px 1px rgba(60, 64, 67, 0.15);\n",
              "      fill: #174EA6;\n",
              "    }\n",
              "\n",
              "    [theme=dark] .colab-df-convert {\n",
              "      background-color: #3B4455;\n",
              "      fill: #D2E3FC;\n",
              "    }\n",
              "\n",
              "    [theme=dark] .colab-df-convert:hover {\n",
              "      background-color: #434B5C;\n",
              "      box-shadow: 0px 1px 3px 1px rgba(0, 0, 0, 0.15);\n",
              "      filter: drop-shadow(0px 1px 2px rgba(0, 0, 0, 0.3));\n",
              "      fill: #FFFFFF;\n",
              "    }\n",
              "  </style>\n",
              "\n",
              "      <script>\n",
              "        const buttonEl =\n",
              "          document.querySelector('#df-b1b078df-0e6b-469c-93f8-faf512607a71 button.colab-df-convert');\n",
              "        buttonEl.style.display =\n",
              "          google.colab.kernel.accessAllowed ? 'block' : 'none';\n",
              "\n",
              "        async function convertToInteractive(key) {\n",
              "          const element = document.querySelector('#df-b1b078df-0e6b-469c-93f8-faf512607a71');\n",
              "          const dataTable =\n",
              "            await google.colab.kernel.invokeFunction('convertToInteractive',\n",
              "                                                     [key], {});\n",
              "          if (!dataTable) return;\n",
              "\n",
              "          const docLinkHtml = 'Like what you see? Visit the ' +\n",
              "            '<a target=\"_blank\" href=https://colab.research.google.com/notebooks/data_table.ipynb>data table notebook</a>'\n",
              "            + ' to learn more about interactive tables.';\n",
              "          element.innerHTML = '';\n",
              "          dataTable['output_type'] = 'display_data';\n",
              "          await google.colab.output.renderOutput(dataTable, element);\n",
              "          const docLink = document.createElement('div');\n",
              "          docLink.innerHTML = docLinkHtml;\n",
              "          element.appendChild(docLink);\n",
              "        }\n",
              "      </script>\n",
              "    </div>\n",
              "  </div>\n",
              "  "
            ]
          },
          "metadata": {},
          "execution_count": 21
        }
      ]
    },
    {
      "cell_type": "markdown",
      "source": [
        "##Métricas do modelo"
      ],
      "metadata": {
        "id": "-RtztRWxNhgP"
      }
    },
    {
      "cell_type": "markdown",
      "source": [
        "### Eficiência global do modelo"
      ],
      "metadata": {
        "id": "YpPzGh82NmKR"
      }
    },
    {
      "cell_type": "markdown",
      "source": [
        "Criando uma tabela para comparar as ocorrências reais com as predições"
      ],
      "metadata": {
        "id": "Vnley8uKNsf9"
      }
    },
    {
      "cell_type": "code",
      "source": [
        "table = pd.pivot_table(df_atrasado_multinomial,\n",
        "                       index=['predicao_label'],\n",
        "                       columns=['atrasado'],\n",
        "                       aggfunc='size')"
      ],
      "metadata": {
        "id": "KOtPBjeYNouP"
      },
      "execution_count": 22,
      "outputs": []
    },
    {
      "cell_type": "code",
      "source": [
        "table = table.fillna(0)#Substituindo 'nan' por zero\n",
        "table = table.to_numpy()#Transformando o dataframe 'table' para 'array', para que seja possível estabelecer o atributo 'diagonal'\n",
        "acuracia = table.diagonal().sum()/table.sum()#Eficiência global do modelo\n",
        "acuracia"
      ],
      "metadata": {
        "colab": {
          "base_uri": "https://localhost:8080/"
        },
        "id": "ZPwRinJCNzfQ",
        "outputId": "bbdb1d96-8e59-47c9-fb64-5f5365e10b5e"
      },
      "execution_count": 23,
      "outputs": [
        {
          "output_type": "execute_result",
          "data": {
            "text/plain": [
              "0.89"
            ]
          },
          "metadata": {},
          "execution_count": 23
        }
      ]
    },
    {
      "cell_type": "markdown",
      "source": [
        " ### Plotagens das probabilidades"
      ],
      "metadata": {
        "id": "ZpgUwIUgOCqC"
      }
    },
    {
      "cell_type": "markdown",
      "source": [
        "Plotagem das smooth probability lines para a variável 'dist'"
      ],
      "metadata": {
        "id": "GDDFb1eoV09u"
      }
    },
    {
      "cell_type": "code",
      "source": [
        "fig, ax = plt.subplots(figsize=(10, 10))\n",
        "sns.regplot(df_atrasado_multinomial,x=df_atrasado_multinomial['dist'],\n",
        "            y=df_atrasado_multinomial[0],\n",
        "            ci=False, ax=ax,\n",
        "            label='não chegou atrasado', order=4, marker=\".\")\n",
        "sns.regplot(df_atrasado_multinomial,x=df_atrasado_multinomial['dist'],\n",
        "            y=df_atrasado_multinomial[1],\n",
        "            ci=False, ax=ax,\n",
        "            label='chegou atrasado primeira aula', order=4, marker=\".\")\n",
        "sns.regplot(df_atrasado_multinomial,x=df_atrasado_multinomial['dist'],\n",
        "            y=df_atrasado_multinomial[2],\n",
        "            ci=False, ax=ax,\n",
        "            label='chegou atrasado segunda aula', order=4, marker=\".\")\n",
        "ax.set(ylabel='Probabilidades', xlabel='Distância percorrida')\n",
        "ax.legend()\n",
        "plt.show()\n",
        "\n"
      ],
      "metadata": {
        "colab": {
          "base_uri": "https://localhost:8080/",
          "height": 850
        },
        "id": "1bROC0YXOHpH",
        "outputId": "57220791-6d7d-4abb-ea9b-744ebf1e8c53"
      },
      "execution_count": 24,
      "outputs": [
        {
          "output_type": "display_data",
          "data": {
            "text/plain": [
              "<Figure size 1000x1000 with 1 Axes>"
            ],
            "image/png": "[encoded data removed]"
          },
          "metadata": {}
        }
      ]
    },
    {
      "cell_type": "markdown",
      "source": [
        "Plotagem das smooth probability lines para a variável 'sem'"
      ],
      "metadata": {
        "id": "RaqusWdOVTky"
      }
    },
    {
      "cell_type": "code",
      "source": [
        "fig, ax = plt.subplots(figsize=(10, 10))\n",
        "sns.regplot(df_atrasado_multinomial,x=df_atrasado_multinomial['sem'],\n",
        "            y=df_atrasado_multinomial[0],\n",
        "            ci=False, ax=ax,\n",
        "            label='não chegou atrasado', order=4, marker=\".\")\n",
        "sns.regplot(df_atrasado_multinomial,x=df_atrasado_multinomial['sem'],\n",
        "            y=df_atrasado_multinomial[1],\n",
        "            ci=False, ax=ax,\n",
        "            label='chegou atrasado primeira aula', order=4, marker=\".\")\n",
        "sns.regplot(df_atrasado_multinomial,x=df_atrasado_multinomial['sem'],\n",
        "            y=df_atrasado_multinomial[2],\n",
        "            ci=False, ax=ax,\n",
        "            label='chegou atrasado segunda aula', order=4, marker=\".\")\n",
        "ax.set(ylabel='Probabilidades', xlabel='Semáforos no percurso')\n",
        "ax.legend()\n",
        "plt.show()\n"
      ],
      "metadata": {
        "colab": {
          "base_uri": "https://localhost:8080/",
          "height": 850
        },
        "id": "H9qmAaozURy7",
        "outputId": "673aa1af-61f9-4a66-eb77-890a89060524"
      },
      "execution_count": 25,
      "outputs": [
        {
          "output_type": "display_data",
          "data": {
            "text/plain": [
              "<Figure size 1000x1000 with 1 Axes>"
            ],
            "image/png": "[encoded data removed]"
          },
          "metadata": {}
        }
      ]
    },
    {
      "cell_type": "markdown",
      "source": [
        "Plotagem tridimensional para cada probabilidade de ocorrência de cada\n",
        "categoria da variável dependente"
      ],
      "metadata": {
        "id": "KtavEuXxWWYM"
      }
    },
    {
      "cell_type": "markdown",
      "source": [
        "Probabilidades de não chegar atrasado (função 'go' do pacote 'plotly')"
      ],
      "metadata": {
        "id": "Rp5CZAiMWY6h"
      }
    },
    {
      "cell_type": "code",
      "source": [
        "import plotly.io as pio\n",
        "pio.renderers.default = 'colab'\n",
        "\n",
        "trace = go.Mesh3d(\n",
        "    x=df_atrasado_multinomial['dist'], \n",
        "    y=df_atrasado_multinomial['sem'],\n",
        "    z=df_atrasado_multinomial[0],\n",
        "    opacity=1, intensity=df_atrasado_multinomial[0], colorscale=\"Viridis\")\n",
        "\n",
        "layout = go.Layout(\n",
        "    margin={'l': 0, 'r': 0, 'b': 0, 't': 0},\n",
        "    width=800,\n",
        "    height=800\n",
        ")\n",
        "\n",
        "data = [trace]\n",
        "\n",
        "plot_figure = go.Figure(data=data, layout=layout)\n",
        "\n",
        "plot_figure.update_layout(scene = dict(\n",
        "                        xaxis_title='dist',\n",
        "                        yaxis_title='sem',\n",
        "                        zaxis_title='não chegou atrasado'))\n",
        "\n",
        "plot_figure.show()"
      ],
      "metadata": {
        "colab": {
          "base_uri": "https://localhost:8080/",
          "height": 817
        },
        "id": "-Aya8Qc5UHZG",
        "outputId": "6e5136e4-7947-4b1f-d6a5-6fec5ffcf06b"
      },
      "execution_count": 26,
      "outputs": [
        {
          "output_type": "display_data",
          "data": {
            "text/html": [
              "<html>\n",
              "<head><meta charset=\"utf-8\" /></head>\n",
              "<body>\n",
              "    <div>            <script src=\"https://cdnjs.cloudflare.com/ajax/libs/mathjax/2.7.5/MathJax.js?config=TeX-AMS-MML_SVG\"></script><script type=\"text/javascript\">if (window.MathJax && window.MathJax.Hub && window.MathJax.Hub.Config) {window.MathJax.Hub.Config({SVG: {font: \"STIX-Web\"}});}</script>                <script type=\"text/javascript\">window.PlotlyConfig = {MathJaxConfig: 'local'};</script>\n",
              "        <script src=\"https://cdn.plot.ly/plotly-2.18.2.min.js\"></script>                <div id=\"7bc993ae-ff95-4e70-a7aa-7727aaf96692\" class=\"plotly-graph-div\" style=\"height:800px; width:800px;\"></div>            <script type=\"text/javascript\">                                    window.PLOTLYENV=window.PLOTLYENV || {};                                    if (document.getElementById(\"7bc993ae-ff95-4e70-a7aa-7727aaf96692\")) {                    Plotly.newPlot(                        \"7bc993ae-ff95-4e70-a7aa-7727aaf96692\",                        [{\"colorscale\":[[0.0,\"#440154\"],[0.1111111111111111,\"#482878\"],[0.2222222222222222,\"#3e4989\"],[0.3333333333333333,\"#31688e\"],[0.4444444444444444,\"#26828e\"],[0.5555555555555556,\"#1f9e89\"],[0.6666666666666666,\"#35b779\"],[0.7777777777777778,\"#6ece58\"],[0.8888888888888888,\"#b5de2b\"],[1.0,\"#fde725\"]],\"intensity\":[0.01801023629412871,2.751300624994847e-06,0.0006796190184597281,2.7594756181390747e-07,0.020837823889474874,2.2216509100952216e-06,2.2216509100952216e-06,2.8939085174097615e-07,6.139071873628493e-07,6.139071873628493e-07,1.7936408737841052e-06,3.150166015157777e-05,1.1446866552949377e-08,0.05854787648290951,3.150166015157777e-05,0.026435978186264725,1.3007553342169735e-06,2.553996809208216e-05,3.7902322873378675e-06,0.16782120767719544,0.00508773133550036,0.0001826112358522432,1.0979479456617438e-05,0.4007076240306319,0.20413351512704386,0.99902854774229,0.999772681829458,0.07434790217471406,3.7902322873378675e-06,0.17560157224001194,0.486385028741738,0.014173463889862362,0.9994442863370326,1.862557251957961e-05,4.216902360867048e-06,3.7902322873378675e-06,1.0979479456617438e-05,7.261231748776365e-08,1.0979479456617438e-05,1.676094416853972e-05,7.986508289077538e-06,0.9211356941237959,0.5206936536261582,0.001023031397865527,0.9211356941237959,0.997033852005814,0.9996821475812905,0.9996821475812905,0.9995063114695765,3.0615153878931376e-06,8.861933921747824e-08,5.30776488705266e-05,0.9218998980935098,0.9999550358047773,0.99902854774229,0.997033852005814,0.026435978186264725,0.9948217333871716,0.9977708595081597,0.99902854774229,0.9996821475812905,0.9732118816448396,0.05370761627762032,0.026435978186264725,0.9996842411140412,0.06131087138457815,0.9994479574110686,0.99902854774229,0.9994479574110686,0.9998960331558903,0.6679094621377547,0.99902854774229,0.9996842411140412,0.9983021710572014,0.9997157528096418,0.9999964105383553,0.9996660978223678,0.9999993242305091,0.99902854774229,0.9998845036350773,0.18682973160789343,0.9974908418520759,0.9999335112343942,0.9999742856410372,0.9999550358047773,0.9999405419036136,0.9989209814703889,0.100953660114292,0.17560157224001194,0.03584476852519184,0.9999405419036136,0.997891810336243,0.99902854774229,0.997033852005814,0.9197165030906167,0.9531361233016351,0.41461827786741257,0.5008256117091463,1.0497629585934141e-06,0.9999809341904876],\"opacity\":1,\"x\":[20.5,21.2999992370605,21.3999996185303,31.5,17.5,21.5,21.5,23.3999996185303,22.7000007629395,22.7000007629395,21.7000007629395,19.0,26.3999996185303,16.0,19.0,20.0,22.0,19.2000007629395,21.0,20.0,22.0,20.0,20.0,21.0,16.7000007629395,17.0,14.3999996185303,18.5,21.0,17.0,14.5,20.7999992370605,16.0,19.5,20.8999996185303,21.0,20.0,22.0,20.0,19.6000003814697,20.2999992370605,22.0,29.0,23.7000007629395,22.0,19.0,15.0,15.0,12.8000001907349,21.2000007629395,24.5,18.5,19.0,11.5,17.0,19.0,20.0,20.0,15.5,17.0,15.0,17.0,19.0,20.0,12.0,18.7999992370605,13.0,17.0,13.0,13.0,28.0,17.0,12.0,18.0,14.8000001907349,1.0,12.1000003814697,1.0,17.0,10.1999998092651,11.0,18.7000007629395,12.1999998092651,10.5,11.5,12.0,14.1999998092651,18.0,17.0,11.0,12.0,15.3999996185303,17.0,19.0,10.1000003814697,24.0,15.0,14.3999996185303,22.2000007629395,1.0],\"y\":[15,18,16,15,16,18,18,18,18,18,18,18,18,16,18,15,18,18,18,14,15,17,18,13,15,10,10,15,18,15,15,15,10,18,18,18,18,19,18,18,18,11,10,15,11,10,10,10,11,18,18,18,12,10,10,10,15,10,11,10,10,12,15,15,11,15,11,10,11,10,10,10,11,10,10,12,11,11,10,11,17,10,10,10,10,10,11,15,15,18,10,11,10,10,15,10,15,15,18,13],\"z\":[0.01801023629412871,2.751300624994847e-06,0.0006796190184597281,2.7594756181390747e-07,0.020837823889474874,2.2216509100952216e-06,2.2216509100952216e-06,2.8939085174097615e-07,6.139071873628493e-07,6.139071873628493e-07,1.7936408737841052e-06,3.150166015157777e-05,1.1446866552949377e-08,0.05854787648290951,3.150166015157777e-05,0.026435978186264725,1.3007553342169735e-06,2.553996809208216e-05,3.7902322873378675e-06,0.16782120767719544,0.00508773133550036,0.0001826112358522432,1.0979479456617438e-05,0.4007076240306319,0.20413351512704386,0.99902854774229,0.999772681829458,0.07434790217471406,3.7902322873378675e-06,0.17560157224001194,0.486385028741738,0.014173463889862362,0.9994442863370326,1.862557251957961e-05,4.216902360867048e-06,3.7902322873378675e-06,1.0979479456617438e-05,7.261231748776365e-08,1.0979479456617438e-05,1.676094416853972e-05,7.986508289077538e-06,0.9211356941237959,0.5206936536261582,0.001023031397865527,0.9211356941237959,0.997033852005814,0.9996821475812905,0.9996821475812905,0.9995063114695765,3.0615153878931376e-06,8.861933921747824e-08,5.30776488705266e-05,0.9218998980935098,0.9999550358047773,0.99902854774229,0.997033852005814,0.026435978186264725,0.9948217333871716,0.9977708595081597,0.99902854774229,0.9996821475812905,0.9732118816448396,0.05370761627762032,0.026435978186264725,0.9996842411140412,0.06131087138457815,0.9994479574110686,0.99902854774229,0.9994479574110686,0.9998960331558903,0.6679094621377547,0.99902854774229,0.9996842411140412,0.9983021710572014,0.9997157528096418,0.9999964105383553,0.9996660978223678,0.9999993242305091,0.99902854774229,0.9998845036350773,0.18682973160789343,0.9974908418520759,0.9999335112343942,0.9999742856410372,0.9999550358047773,0.9999405419036136,0.9989209814703889,0.100953660114292,0.17560157224001194,0.03584476852519184,0.9999405419036136,0.997891810336243,0.99902854774229,0.997033852005814,0.9197165030906167,0.9531361233016351,0.41461827786741257,0.5008256117091463,1.0497629585934141e-06,0.9999809341904876],\"type\":\"mesh3d\"}],                        {\"height\":800,\"margin\":{\"b\":0,\"l\":0,\"r\":0,\"t\":0},\"width\":800,\"template\":{\"data\":{\"histogram2dcontour\":[{\"type\":\"histogram2dcontour\",\"colorbar\":{\"outlinewidth\":0,\"ticks\":\"\"},\"colorscale\":[[0.0,\"#0d0887\"],[0.1111111111111111,\"#46039f\"],[0.2222222222222222,\"#7201a8\"],[0.3333333333333333,\"#9c179e\"],[0.4444444444444444,\"#bd3786\"],[0.5555555555555556,\"#d8576b\"],[0.6666666666666666,\"#ed7953\"],[0.7777777777777778,\"#fb9f3a\"],[0.8888888888888888,\"#fdca26\"],[1.0,\"#f0f921\"]]}],\"choropleth\":[{\"type\":\"choropleth\",\"colorbar\":{\"outlinewidth\":0,\"ticks\":\"\"}}],\"histogram2d\":[{\"type\":\"histogram2d\",\"colorbar\":{\"outlinewidth\":0,\"ticks\":\"\"},\"colorscale\":[[0.0,\"#0d0887\"],[0.1111111111111111,\"#46039f\"],[0.2222222222222222,\"#7201a8\"],[0.3333333333333333,\"#9c179e\"],[0.4444444444444444,\"#bd3786\"],[0.5555555555555556,\"#d8576b\"],[0.6666666666666666,\"#ed7953\"],[0.7777777777777778,\"#fb9f3a\"],[0.8888888888888888,\"#fdca26\"],[1.0,\"#f0f921\"]]}],\"heatmap\":[{\"type\":\"heatmap\",\"colorbar\":{\"outlinewidth\":0,\"ticks\":\"\"},\"colorscale\":[[0.0,\"#0d0887\"],[0.1111111111111111,\"#46039f\"],[0.2222222222222222,\"#7201a8\"],[0.3333333333333333,\"#9c179e\"],[0.4444444444444444,\"#bd3786\"],[0.5555555555555556,\"#d8576b\"],[0.6666666666666666,\"#ed7953\"],[0.7777777777777778,\"#fb9f3a\"],[0.8888888888888888,\"#fdca26\"],[1.0,\"#f0f921\"]]}],\"heatmapgl\":[{\"type\":\"heatmapgl\",\"colorbar\":{\"outlinewidth\":0,\"ticks\":\"\"},\"colorscale\":[[0.0,\"#0d0887\"],[0.1111111111111111,\"#46039f\"],[0.2222222222222222,\"#7201a8\"],[0.3333333333333333,\"#9c179e\"],[0.4444444444444444,\"#bd3786\"],[0.5555555555555556,\"#d8576b\"],[0.6666666666666666,\"#ed7953\"],[0.7777777777777778,\"#fb9f3a\"],[0.8888888888888888,\"#fdca26\"],[1.0,\"#f0f921\"]]}],\"contourcarpet\":[{\"type\":\"contourcarpet\",\"colorbar\":{\"outlinewidth\":0,\"ticks\":\"\"}}],\"contour\":[{\"type\":\"contour\",\"colorbar\":{\"outlinewidth\":0,\"ticks\":\"\"},\"colorscale\":[[0.0,\"#0d0887\"],[0.1111111111111111,\"#46039f\"],[0.2222222222222222,\"#7201a8\"],[0.3333333333333333,\"#9c179e\"],[0.4444444444444444,\"#bd3786\"],[0.5555555555555556,\"#d8576b\"],[0.6666666666666666,\"#ed7953\"],[0.7777777777777778,\"#fb9f3a\"],[0.8888888888888888,\"#fdca26\"],[1.0,\"#f0f921\"]]}],\"surface\":[{\"type\":\"surface\",\"colorbar\":{\"outlinewidth\":0,\"ticks\":\"\"},\"colorscale\":[[0.0,\"#0d0887\"],[0.1111111111111111,\"#46039f\"],[0.2222222222222222,\"#7201a8\"],[0.3333333333333333,\"#9c179e\"],[0.4444444444444444,\"#bd3786\"],[0.5555555555555556,\"#d8576b\"],[0.6666666666666666,\"#ed7953\"],[0.7777777777777778,\"#fb9f3a\"],[0.8888888888888888,\"#fdca26\"],[1.0,\"#f0f921\"]]}],\"mesh3d\":[{\"type\":\"mesh3d\",\"colorbar\":{\"outlinewidth\":0,\"ticks\":\"\"}}],\"scatter\":[{\"fillpattern\":{\"fillmode\":\"overlay\",\"size\":10,\"solidity\":0.2},\"type\":\"scatter\"}],\"parcoords\":[{\"type\":\"parcoords\",\"line\":{\"colorbar\":{\"outlinewidth\":0,\"ticks\":\"\"}}}],\"scatterpolargl\":[{\"type\":\"scatterpolargl\",\"marker\":{\"colorbar\":{\"outlinewidth\":0,\"ticks\":\"\"}}}],\"bar\":[{\"error_x\":{\"color\":\"#2a3f5f\"},\"error_y\":{\"color\":\"#2a3f5f\"},\"marker\":{\"line\":{\"color\":\"#E5ECF6\",\"width\":0.5},\"pattern\":{\"fillmode\":\"overlay\",\"size\":10,\"solidity\":0.2}},\"type\":\"bar\"}],\"scattergeo\":[{\"type\":\"scattergeo\",\"marker\":{\"colorbar\":{\"outlinewidth\":0,\"ticks\":\"\"}}}],\"scatterpolar\":[{\"type\":\"scatterpolar\",\"marker\":{\"colorbar\":{\"outlinewidth\":0,\"ticks\":\"\"}}}],\"histogram\":[{\"marker\":{\"pattern\":{\"fillmode\":\"overlay\",\"size\":10,\"solidity\":0.2}},\"type\":\"histogram\"}],\"scattergl\":[{\"type\":\"scattergl\",\"marker\":{\"colorbar\":{\"outlinewidth\":0,\"ticks\":\"\"}}}],\"scatter3d\":[{\"type\":\"scatter3d\",\"line\":{\"colorbar\":{\"outlinewidth\":0,\"ticks\":\"\"}},\"marker\":{\"colorbar\":{\"outlinewidth\":0,\"ticks\":\"\"}}}],\"scattermapbox\":[{\"type\":\"scattermapbox\",\"marker\":{\"colorbar\":{\"outlinewidth\":0,\"ticks\":\"\"}}}],\"scatterternary\":[{\"type\":\"scatterternary\",\"marker\":{\"colorbar\":{\"outlinewidth\":0,\"ticks\":\"\"}}}],\"scattercarpet\":[{\"type\":\"scattercarpet\",\"marker\":{\"colorbar\":{\"outlinewidth\":0,\"ticks\":\"\"}}}],\"carpet\":[{\"aaxis\":{\"endlinecolor\":\"#2a3f5f\",\"gridcolor\":\"white\",\"linecolor\":\"white\",\"minorgridcolor\":\"white\",\"startlinecolor\":\"#2a3f5f\"},\"baxis\":{\"endlinecolor\":\"#2a3f5f\",\"gridcolor\":\"white\",\"linecolor\":\"white\",\"minorgridcolor\":\"white\",\"startlinecolor\":\"#2a3f5f\"},\"type\":\"carpet\"}],\"table\":[{\"cells\":{\"fill\":{\"color\":\"#EBF0F8\"},\"line\":{\"color\":\"white\"}},\"header\":{\"fill\":{\"color\":\"#C8D4E3\"},\"line\":{\"color\":\"white\"}},\"type\":\"table\"}],\"barpolar\":[{\"marker\":{\"line\":{\"color\":\"#E5ECF6\",\"width\":0.5},\"pattern\":{\"fillmode\":\"overlay\",\"size\":10,\"solidity\":0.2}},\"type\":\"barpolar\"}],\"pie\":[{\"automargin\":true,\"type\":\"pie\"}]},\"layout\":{\"autotypenumbers\":\"strict\",\"colorway\":[\"#636efa\",\"#EF553B\",\"#00cc96\",\"#ab63fa\",\"#FFA15A\",\"#19d3f3\",\"#FF6692\",\"#B6E880\",\"#FF97FF\",\"#FECB52\"],\"font\":{\"color\":\"#2a3f5f\"},\"hovermode\":\"closest\",\"hoverlabel\":{\"align\":\"left\"},\"paper_bgcolor\":\"white\",\"plot_bgcolor\":\"#E5ECF6\",\"polar\":{\"bgcolor\":\"#E5ECF6\",\"angularaxis\":{\"gridcolor\":\"white\",\"linecolor\":\"white\",\"ticks\":\"\"},\"radialaxis\":{\"gridcolor\":\"white\",\"linecolor\":\"white\",\"ticks\":\"\"}},\"ternary\":{\"bgcolor\":\"#E5ECF6\",\"aaxis\":{\"gridcolor\":\"white\",\"linecolor\":\"white\",\"ticks\":\"\"},\"baxis\":{\"gridcolor\":\"white\",\"linecolor\":\"white\",\"ticks\":\"\"},\"caxis\":{\"gridcolor\":\"white\",\"linecolor\":\"white\",\"ticks\":\"\"}},\"coloraxis\":{\"colorbar\":{\"outlinewidth\":0,\"ticks\":\"\"}},\"colorscale\":{\"sequential\":[[0.0,\"#0d0887\"],[0.1111111111111111,\"#46039f\"],[0.2222222222222222,\"#7201a8\"],[0.3333333333333333,\"#9c179e\"],[0.4444444444444444,\"#bd3786\"],[0.5555555555555556,\"#d8576b\"],[0.6666666666666666,\"#ed7953\"],[0.7777777777777778,\"#fb9f3a\"],[0.8888888888888888,\"#fdca26\"],[1.0,\"#f0f921\"]],\"sequentialminus\":[[0.0,\"#0d0887\"],[0.1111111111111111,\"#46039f\"],[0.2222222222222222,\"#7201a8\"],[0.3333333333333333,\"#9c179e\"],[0.4444444444444444,\"#bd3786\"],[0.5555555555555556,\"#d8576b\"],[0.6666666666666666,\"#ed7953\"],[0.7777777777777778,\"#fb9f3a\"],[0.8888888888888888,\"#fdca26\"],[1.0,\"#f0f921\"]],\"diverging\":[[0,\"#8e0152\"],[0.1,\"#c51b7d\"],[0.2,\"#de77ae\"],[0.3,\"#f1b6da\"],[0.4,\"#fde0ef\"],[0.5,\"#f7f7f7\"],[0.6,\"#e6f5d0\"],[0.7,\"#b8e186\"],[0.8,\"#7fbc41\"],[0.9,\"#4d9221\"],[1,\"#276419\"]]},\"xaxis\":{\"gridcolor\":\"white\",\"linecolor\":\"white\",\"ticks\":\"\",\"title\":{\"standoff\":15},\"zerolinecolor\":\"white\",\"automargin\":true,\"zerolinewidth\":2},\"yaxis\":{\"gridcolor\":\"white\",\"linecolor\":\"white\",\"ticks\":\"\",\"title\":{\"standoff\":15},\"zerolinecolor\":\"white\",\"automargin\":true,\"zerolinewidth\":2},\"scene\":{\"xaxis\":{\"backgroundcolor\":\"#E5ECF6\",\"gridcolor\":\"white\",\"linecolor\":\"white\",\"showbackground\":true,\"ticks\":\"\",\"zerolinecolor\":\"white\",\"gridwidth\":2},\"yaxis\":{\"backgroundcolor\":\"#E5ECF6\",\"gridcolor\":\"white\",\"linecolor\":\"white\",\"showbackground\":true,\"ticks\":\"\",\"zerolinecolor\":\"white\",\"gridwidth\":2},\"zaxis\":{\"backgroundcolor\":\"#E5ECF6\",\"gridcolor\":\"white\",\"linecolor\":\"white\",\"showbackground\":true,\"ticks\":\"\",\"zerolinecolor\":\"white\",\"gridwidth\":2}},\"shapedefaults\":{\"line\":{\"color\":\"#2a3f5f\"}},\"annotationdefaults\":{\"arrowcolor\":\"#2a3f5f\",\"arrowhead\":0,\"arrowwidth\":1},\"geo\":{\"bgcolor\":\"white\",\"landcolor\":\"#E5ECF6\",\"subunitcolor\":\"white\",\"showland\":true,\"showlakes\":true,\"lakecolor\":\"white\"},\"title\":{\"x\":0.05},\"mapbox\":{\"style\":\"light\"}}},\"scene\":{\"xaxis\":{\"title\":{\"text\":\"dist\"}},\"yaxis\":{\"title\":{\"text\":\"sem\"}},\"zaxis\":{\"title\":{\"text\":\"n\\u00e3o chegou atrasado\"}}}},                        {\"responsive\": true}                    ).then(function(){\n",
              "                            \n",
              "var gd = document.getElementById('7bc993ae-ff95-4e70-a7aa-7727aaf96692');\n",
              "var x = new MutationObserver(function (mutations, observer) {{\n",
              "        var display = window.getComputedStyle(gd).display;\n",
              "        if (!display || display === 'none') {{\n",
              "            console.log([gd, 'removed!']);\n",
              "            Plotly.purge(gd);\n",
              "            observer.disconnect();\n",
              "        }}\n",
              "}});\n",
              "\n",
              "// Listen for the removal of the full notebook cells\n",
              "var notebookContainer = gd.closest('#notebook-container');\n",
              "if (notebookContainer) {{\n",
              "    x.observe(notebookContainer, {childList: true});\n",
              "}}\n",
              "\n",
              "// Listen for the clearing of the current output cell\n",
              "var outputEl = gd.closest('.output');\n",
              "if (outputEl) {{\n",
              "    x.observe(outputEl, {childList: true});\n",
              "}}\n",
              "\n",
              "                        })                };                            </script>        </div>\n",
              "</body>\n",
              "</html>"
            ]
          },
          "metadata": {}
        }
      ]
    },
    {
      "cell_type": "markdown",
      "source": [
        "In[ ]: Plotagem tridimensional para cada probabilidade de ocorrência de cada\n",
        "categoria da variável dependente\n",
        "Probabilidades de chegar atrasado à primeira aula (função 'go' do pacote'plotly')"
      ],
      "metadata": {
        "id": "cL7D3cU4aTLT"
      }
    },
    {
      "cell_type": "code",
      "source": [
        "pio.renderers.default = 'colab'\n",
        "\n",
        "trace = go.Mesh3d(\n",
        "    x=df_atrasado_multinomial['dist'], \n",
        "    y=df_atrasado_multinomial['sem'],\n",
        "    z=df_atrasado_multinomial[1],\n",
        "    opacity=1, intensity=df_atrasado_multinomial[1], colorscale=\"Viridis\")\n",
        "\n",
        "layout = go.Layout(\n",
        "    margin={'l': 0, 'r': 0, 'b': 0, 't': 0},\n",
        "    width=800,\n",
        "    height=800\n",
        ")\n",
        "\n",
        "data = [trace]\n",
        "\n",
        "plot_figure = go.Figure(data=data, layout=layout)\n",
        "\n",
        "plot_figure.update_layout(scene = dict(\n",
        "                        xaxis_title='dist',\n",
        "                        yaxis_title='sem',\n",
        "                        zaxis_title='chegou atrasado à primeira aula'))\n",
        "\n",
        "plot_figure.show()"
      ],
      "metadata": {
        "colab": {
          "base_uri": "https://localhost:8080/",
          "height": 817
        },
        "id": "DprPSdQDaYry",
        "outputId": "f3927da8-cccf-4eba-a495-e3b0c921fac3"
      },
      "execution_count": 27,
      "outputs": [
        {
          "output_type": "display_data",
          "data": {
            "text/html": [
              "<html>\n",
              "<head><meta charset=\"utf-8\" /></head>\n",
              "<body>\n",
              "    <div>            <script src=\"https://cdnjs.cloudflare.com/ajax/libs/mathjax/2.7.5/MathJax.js?config=TeX-AMS-MML_SVG\"></script><script type=\"text/javascript\">if (window.MathJax && window.MathJax.Hub && window.MathJax.Hub.Config) {window.MathJax.Hub.Config({SVG: {font: \"STIX-Web\"}});}</script>                <script type=\"text/javascript\">window.PlotlyConfig = {MathJaxConfig: 'local'};</script>\n",
              "        <script src=\"https://cdn.plot.ly/plotly-2.18.2.min.js\"></script>                <div id=\"832ce600-65f0-4c8b-affa-a18077f09e13\" class=\"plotly-graph-div\" style=\"height:800px; width:800px;\"></div>            <script type=\"text/javascript\">                                    window.PLOTLYENV=window.PLOTLYENV || {};                                    if (document.getElementById(\"832ce600-65f0-4c8b-affa-a18077f09e13\")) {                    Plotly.newPlot(                        \"832ce600-65f0-4c8b-affa-a18077f09e13\",                        [{\"colorscale\":[[0.0,\"#440154\"],[0.1111111111111111,\"#482878\"],[0.2222222222222222,\"#3e4989\"],[0.3333333333333333,\"#31688e\"],[0.4444444444444444,\"#26828e\"],[0.5555555555555556,\"#1f9e89\"],[0.6666666666666666,\"#35b779\"],[0.7777777777777778,\"#6ece58\"],[0.8888888888888888,\"#b5de2b\"],[1.0,\"#fde725\"]],\"intensity\":[0.5233879412631418,0.018736757059865848,0.17347151384187362,0.003747922452723815,0.601588293927849,0.01691888158879287,0.01691888158879287,0.006372408120317105,0.00914185529080987,0.00914185529080987,0.015274632748316206,0.059331923123598,0.0013477037056132495,0.730993730917261,0.059331923123598,0.5809670700184562,0.013099044492441432,0.05379164019470536,0.021827977083068724,0.6943384947064072,0.3418794372867172,0.11322624067903857,0.03616038729377921,0.5457787423131898,0.7095331828400903,0.0009711501028505734,0.00022729985179884197,0.7066109147806919,0.021827977083068724,0.7217644935662498,0.49443187789549575,0.4870673519188964,0.00055561084225232,0.04638876219575254,0.022965266055722054,0.021827977083068724,0.03616038729377921,0.003884060892296951,0.03616038729377921,0.04414396706322569,0.03110405321529223,0.07775807508042169,0.41366313545331224,0.17775496320355277,0.07775807508042169,0.0029635417152345054,0.0003178174359298986,0.0003178174359298986,0.0004936295544733235,0.01971621575408959,0.003608389062313303,0.07559942473680001,0.07731225993013148,4.4963392031308996e-05,0.0009711501028505734,0.0029635417152345054,0.5809670700184562,0.005170621464583867,0.002228058035974412,0.0009711501028505734,0.0003178174359298986,0.02669188991545019,0.6749874060310417,0.5809670700184562,0.0003157339923168642,0.6890612505491363,0.0005519694219005148,0.0009711501028505734,0.0005519694219005148,0.00010396279566783631,0.30344905664855243,0.0009711501028505734,0.0003157339923168642,0.0016969412895346922,0.0002842189933472439,3.5894584691398143e-06,0.00033387444994150724,6.757693153497782e-07,0.0009711501028505734,0.00011549279069685307,0.7578766514135119,0.002507271367460274,6.648705700564236e-05,2.5714085752084156e-05,4.4963392031308996e-05,5.945671924799658e-05,0.0010787517934612498,0.7255803655984976,0.7217644935662498,0.7723427037801062,5.945671924799658e-05,0.002107217745597514,0.0009711501028505734,0.0029635417152345054,0.07996803849020666,0.04631671688638995,0.5573434199334183,0.48144099573351484,0.01182155750553809,1.9065752096080284e-05],\"opacity\":1,\"x\":[20.5,21.2999992370605,21.3999996185303,31.5,17.5,21.5,21.5,23.3999996185303,22.7000007629395,22.7000007629395,21.7000007629395,19.0,26.3999996185303,16.0,19.0,20.0,22.0,19.2000007629395,21.0,20.0,22.0,20.0,20.0,21.0,16.7000007629395,17.0,14.3999996185303,18.5,21.0,17.0,14.5,20.7999992370605,16.0,19.5,20.8999996185303,21.0,20.0,22.0,20.0,19.6000003814697,20.2999992370605,22.0,29.0,23.7000007629395,22.0,19.0,15.0,15.0,12.8000001907349,21.2000007629395,24.5,18.5,19.0,11.5,17.0,19.0,20.0,20.0,15.5,17.0,15.0,17.0,19.0,20.0,12.0,18.7999992370605,13.0,17.0,13.0,13.0,28.0,17.0,12.0,18.0,14.8000001907349,1.0,12.1000003814697,1.0,17.0,10.1999998092651,11.0,18.7000007629395,12.1999998092651,10.5,11.5,12.0,14.1999998092651,18.0,17.0,11.0,12.0,15.3999996185303,17.0,19.0,10.1000003814697,24.0,15.0,14.3999996185303,22.2000007629395,1.0],\"y\":[15,18,16,15,16,18,18,18,18,18,18,18,18,16,18,15,18,18,18,14,15,17,18,13,15,10,10,15,18,15,15,15,10,18,18,18,18,19,18,18,18,11,10,15,11,10,10,10,11,18,18,18,12,10,10,10,15,10,11,10,10,12,15,15,11,15,11,10,11,10,10,10,11,10,10,12,11,11,10,11,17,10,10,10,10,10,11,15,15,18,10,11,10,10,15,10,15,15,18,13],\"z\":[0.5233879412631418,0.018736757059865848,0.17347151384187362,0.003747922452723815,0.601588293927849,0.01691888158879287,0.01691888158879287,0.006372408120317105,0.00914185529080987,0.00914185529080987,0.015274632748316206,0.059331923123598,0.0013477037056132495,0.730993730917261,0.059331923123598,0.5809670700184562,0.013099044492441432,0.05379164019470536,0.021827977083068724,0.6943384947064072,0.3418794372867172,0.11322624067903857,0.03616038729377921,0.5457787423131898,0.7095331828400903,0.0009711501028505734,0.00022729985179884197,0.7066109147806919,0.021827977083068724,0.7217644935662498,0.49443187789549575,0.4870673519188964,0.00055561084225232,0.04638876219575254,0.022965266055722054,0.021827977083068724,0.03616038729377921,0.003884060892296951,0.03616038729377921,0.04414396706322569,0.03110405321529223,0.07775807508042169,0.41366313545331224,0.17775496320355277,0.07775807508042169,0.0029635417152345054,0.0003178174359298986,0.0003178174359298986,0.0004936295544733235,0.01971621575408959,0.003608389062313303,0.07559942473680001,0.07731225993013148,4.4963392031308996e-05,0.0009711501028505734,0.0029635417152345054,0.5809670700184562,0.005170621464583867,0.002228058035974412,0.0009711501028505734,0.0003178174359298986,0.02669188991545019,0.6749874060310417,0.5809670700184562,0.0003157339923168642,0.6890612505491363,0.0005519694219005148,0.0009711501028505734,0.0005519694219005148,0.00010396279566783631,0.30344905664855243,0.0009711501028505734,0.0003157339923168642,0.0016969412895346922,0.0002842189933472439,3.5894584691398143e-06,0.00033387444994150724,6.757693153497782e-07,0.0009711501028505734,0.00011549279069685307,0.7578766514135119,0.002507271367460274,6.648705700564236e-05,2.5714085752084156e-05,4.4963392031308996e-05,5.945671924799658e-05,0.0010787517934612498,0.7255803655984976,0.7217644935662498,0.7723427037801062,5.945671924799658e-05,0.002107217745597514,0.0009711501028505734,0.0029635417152345054,0.07996803849020666,0.04631671688638995,0.5573434199334183,0.48144099573351484,0.01182155750553809,1.9065752096080284e-05],\"type\":\"mesh3d\"}],                        {\"height\":800,\"margin\":{\"b\":0,\"l\":0,\"r\":0,\"t\":0},\"width\":800,\"template\":{\"data\":{\"histogram2dcontour\":[{\"type\":\"histogram2dcontour\",\"colorbar\":{\"outlinewidth\":0,\"ticks\":\"\"},\"colorscale\":[[0.0,\"#0d0887\"],[0.1111111111111111,\"#46039f\"],[0.2222222222222222,\"#7201a8\"],[0.3333333333333333,\"#9c179e\"],[0.4444444444444444,\"#bd3786\"],[0.5555555555555556,\"#d8576b\"],[0.6666666666666666,\"#ed7953\"],[0.7777777777777778,\"#fb9f3a\"],[0.8888888888888888,\"#fdca26\"],[1.0,\"#f0f921\"]]}],\"choropleth\":[{\"type\":\"choropleth\",\"colorbar\":{\"outlinewidth\":0,\"ticks\":\"\"}}],\"histogram2d\":[{\"type\":\"histogram2d\",\"colorbar\":{\"outlinewidth\":0,\"ticks\":\"\"},\"colorscale\":[[0.0,\"#0d0887\"],[0.1111111111111111,\"#46039f\"],[0.2222222222222222,\"#7201a8\"],[0.3333333333333333,\"#9c179e\"],[0.4444444444444444,\"#bd3786\"],[0.5555555555555556,\"#d8576b\"],[0.6666666666666666,\"#ed7953\"],[0.7777777777777778,\"#fb9f3a\"],[0.8888888888888888,\"#fdca26\"],[1.0,\"#f0f921\"]]}],\"heatmap\":[{\"type\":\"heatmap\",\"colorbar\":{\"outlinewidth\":0,\"ticks\":\"\"},\"colorscale\":[[0.0,\"#0d0887\"],[0.1111111111111111,\"#46039f\"],[0.2222222222222222,\"#7201a8\"],[0.3333333333333333,\"#9c179e\"],[0.4444444444444444,\"#bd3786\"],[0.5555555555555556,\"#d8576b\"],[0.6666666666666666,\"#ed7953\"],[0.7777777777777778,\"#fb9f3a\"],[0.8888888888888888,\"#fdca26\"],[1.0,\"#f0f921\"]]}],\"heatmapgl\":[{\"type\":\"heatmapgl\",\"colorbar\":{\"outlinewidth\":0,\"ticks\":\"\"},\"colorscale\":[[0.0,\"#0d0887\"],[0.1111111111111111,\"#46039f\"],[0.2222222222222222,\"#7201a8\"],[0.3333333333333333,\"#9c179e\"],[0.4444444444444444,\"#bd3786\"],[0.5555555555555556,\"#d8576b\"],[0.6666666666666666,\"#ed7953\"],[0.7777777777777778,\"#fb9f3a\"],[0.8888888888888888,\"#fdca26\"],[1.0,\"#f0f921\"]]}],\"contourcarpet\":[{\"type\":\"contourcarpet\",\"colorbar\":{\"outlinewidth\":0,\"ticks\":\"\"}}],\"contour\":[{\"type\":\"contour\",\"colorbar\":{\"outlinewidth\":0,\"ticks\":\"\"},\"colorscale\":[[0.0,\"#0d0887\"],[0.1111111111111111,\"#46039f\"],[0.2222222222222222,\"#7201a8\"],[0.3333333333333333,\"#9c179e\"],[0.4444444444444444,\"#bd3786\"],[0.5555555555555556,\"#d8576b\"],[0.6666666666666666,\"#ed7953\"],[0.7777777777777778,\"#fb9f3a\"],[0.8888888888888888,\"#fdca26\"],[1.0,\"#f0f921\"]]}],\"surface\":[{\"type\":\"surface\",\"colorbar\":{\"outlinewidth\":0,\"ticks\":\"\"},\"colorscale\":[[0.0,\"#0d0887\"],[0.1111111111111111,\"#46039f\"],[0.2222222222222222,\"#7201a8\"],[0.3333333333333333,\"#9c179e\"],[0.4444444444444444,\"#bd3786\"],[0.5555555555555556,\"#d8576b\"],[0.6666666666666666,\"#ed7953\"],[0.7777777777777778,\"#fb9f3a\"],[0.8888888888888888,\"#fdca26\"],[1.0,\"#f0f921\"]]}],\"mesh3d\":[{\"type\":\"mesh3d\",\"colorbar\":{\"outlinewidth\":0,\"ticks\":\"\"}}],\"scatter\":[{\"fillpattern\":{\"fillmode\":\"overlay\",\"size\":10,\"solidity\":0.2},\"type\":\"scatter\"}],\"parcoords\":[{\"type\":\"parcoords\",\"line\":{\"colorbar\":{\"outlinewidth\":0,\"ticks\":\"\"}}}],\"scatterpolargl\":[{\"type\":\"scatterpolargl\",\"marker\":{\"colorbar\":{\"outlinewidth\":0,\"ticks\":\"\"}}}],\"bar\":[{\"error_x\":{\"color\":\"#2a3f5f\"},\"error_y\":{\"color\":\"#2a3f5f\"},\"marker\":{\"line\":{\"color\":\"#E5ECF6\",\"width\":0.5},\"pattern\":{\"fillmode\":\"overlay\",\"size\":10,\"solidity\":0.2}},\"type\":\"bar\"}],\"scattergeo\":[{\"type\":\"scattergeo\",\"marker\":{\"colorbar\":{\"outlinewidth\":0,\"ticks\":\"\"}}}],\"scatterpolar\":[{\"type\":\"scatterpolar\",\"marker\":{\"colorbar\":{\"outlinewidth\":0,\"ticks\":\"\"}}}],\"histogram\":[{\"marker\":{\"pattern\":{\"fillmode\":\"overlay\",\"size\":10,\"solidity\":0.2}},\"type\":\"histogram\"}],\"scattergl\":[{\"type\":\"scattergl\",\"marker\":{\"colorbar\":{\"outlinewidth\":0,\"ticks\":\"\"}}}],\"scatter3d\":[{\"type\":\"scatter3d\",\"line\":{\"colorbar\":{\"outlinewidth\":0,\"ticks\":\"\"}},\"marker\":{\"colorbar\":{\"outlinewidth\":0,\"ticks\":\"\"}}}],\"scattermapbox\":[{\"type\":\"scattermapbox\",\"marker\":{\"colorbar\":{\"outlinewidth\":0,\"ticks\":\"\"}}}],\"scatterternary\":[{\"type\":\"scatterternary\",\"marker\":{\"colorbar\":{\"outlinewidth\":0,\"ticks\":\"\"}}}],\"scattercarpet\":[{\"type\":\"scattercarpet\",\"marker\":{\"colorbar\":{\"outlinewidth\":0,\"ticks\":\"\"}}}],\"carpet\":[{\"aaxis\":{\"endlinecolor\":\"#2a3f5f\",\"gridcolor\":\"white\",\"linecolor\":\"white\",\"minorgridcolor\":\"white\",\"startlinecolor\":\"#2a3f5f\"},\"baxis\":{\"endlinecolor\":\"#2a3f5f\",\"gridcolor\":\"white\",\"linecolor\":\"white\",\"minorgridcolor\":\"white\",\"startlinecolor\":\"#2a3f5f\"},\"type\":\"carpet\"}],\"table\":[{\"cells\":{\"fill\":{\"color\":\"#EBF0F8\"},\"line\":{\"color\":\"white\"}},\"header\":{\"fill\":{\"color\":\"#C8D4E3\"},\"line\":{\"color\":\"white\"}},\"type\":\"table\"}],\"barpolar\":[{\"marker\":{\"line\":{\"color\":\"#E5ECF6\",\"width\":0.5},\"pattern\":{\"fillmode\":\"overlay\",\"size\":10,\"solidity\":0.2}},\"type\":\"barpolar\"}],\"pie\":[{\"automargin\":true,\"type\":\"pie\"}]},\"layout\":{\"autotypenumbers\":\"strict\",\"colorway\":[\"#636efa\",\"#EF553B\",\"#00cc96\",\"#ab63fa\",\"#FFA15A\",\"#19d3f3\",\"#FF6692\",\"#B6E880\",\"#FF97FF\",\"#FECB52\"],\"font\":{\"color\":\"#2a3f5f\"},\"hovermode\":\"closest\",\"hoverlabel\":{\"align\":\"left\"},\"paper_bgcolor\":\"white\",\"plot_bgcolor\":\"#E5ECF6\",\"polar\":{\"bgcolor\":\"#E5ECF6\",\"angularaxis\":{\"gridcolor\":\"white\",\"linecolor\":\"white\",\"ticks\":\"\"},\"radialaxis\":{\"gridcolor\":\"white\",\"linecolor\":\"white\",\"ticks\":\"\"}},\"ternary\":{\"bgcolor\":\"#E5ECF6\",\"aaxis\":{\"gridcolor\":\"white\",\"linecolor\":\"white\",\"ticks\":\"\"},\"baxis\":{\"gridcolor\":\"white\",\"linecolor\":\"white\",\"ticks\":\"\"},\"caxis\":{\"gridcolor\":\"white\",\"linecolor\":\"white\",\"ticks\":\"\"}},\"coloraxis\":{\"colorbar\":{\"outlinewidth\":0,\"ticks\":\"\"}},\"colorscale\":{\"sequential\":[[0.0,\"#0d0887\"],[0.1111111111111111,\"#46039f\"],[0.2222222222222222,\"#7201a8\"],[0.3333333333333333,\"#9c179e\"],[0.4444444444444444,\"#bd3786\"],[0.5555555555555556,\"#d8576b\"],[0.6666666666666666,\"#ed7953\"],[0.7777777777777778,\"#fb9f3a\"],[0.8888888888888888,\"#fdca26\"],[1.0,\"#f0f921\"]],\"sequentialminus\":[[0.0,\"#0d0887\"],[0.1111111111111111,\"#46039f\"],[0.2222222222222222,\"#7201a8\"],[0.3333333333333333,\"#9c179e\"],[0.4444444444444444,\"#bd3786\"],[0.5555555555555556,\"#d8576b\"],[0.6666666666666666,\"#ed7953\"],[0.7777777777777778,\"#fb9f3a\"],[0.8888888888888888,\"#fdca26\"],[1.0,\"#f0f921\"]],\"diverging\":[[0,\"#8e0152\"],[0.1,\"#c51b7d\"],[0.2,\"#de77ae\"],[0.3,\"#f1b6da\"],[0.4,\"#fde0ef\"],[0.5,\"#f7f7f7\"],[0.6,\"#e6f5d0\"],[0.7,\"#b8e186\"],[0.8,\"#7fbc41\"],[0.9,\"#4d9221\"],[1,\"#276419\"]]},\"xaxis\":{\"gridcolor\":\"white\",\"linecolor\":\"white\",\"ticks\":\"\",\"title\":{\"standoff\":15},\"zerolinecolor\":\"white\",\"automargin\":true,\"zerolinewidth\":2},\"yaxis\":{\"gridcolor\":\"white\",\"linecolor\":\"white\",\"ticks\":\"\",\"title\":{\"standoff\":15},\"zerolinecolor\":\"white\",\"automargin\":true,\"zerolinewidth\":2},\"scene\":{\"xaxis\":{\"backgroundcolor\":\"#E5ECF6\",\"gridcolor\":\"white\",\"linecolor\":\"white\",\"showbackground\":true,\"ticks\":\"\",\"zerolinecolor\":\"white\",\"gridwidth\":2},\"yaxis\":{\"backgroundcolor\":\"#E5ECF6\",\"gridcolor\":\"white\",\"linecolor\":\"white\",\"showbackground\":true,\"ticks\":\"\",\"zerolinecolor\":\"white\",\"gridwidth\":2},\"zaxis\":{\"backgroundcolor\":\"#E5ECF6\",\"gridcolor\":\"white\",\"linecolor\":\"white\",\"showbackground\":true,\"ticks\":\"\",\"zerolinecolor\":\"white\",\"gridwidth\":2}},\"shapedefaults\":{\"line\":{\"color\":\"#2a3f5f\"}},\"annotationdefaults\":{\"arrowcolor\":\"#2a3f5f\",\"arrowhead\":0,\"arrowwidth\":1},\"geo\":{\"bgcolor\":\"white\",\"landcolor\":\"#E5ECF6\",\"subunitcolor\":\"white\",\"showland\":true,\"showlakes\":true,\"lakecolor\":\"white\"},\"title\":{\"x\":0.05},\"mapbox\":{\"style\":\"light\"}}},\"scene\":{\"xaxis\":{\"title\":{\"text\":\"dist\"}},\"yaxis\":{\"title\":{\"text\":\"sem\"}},\"zaxis\":{\"title\":{\"text\":\"chegou atrasado \\u00e0 primeira aula\"}}}},                        {\"responsive\": true}                    ).then(function(){\n",
              "                            \n",
              "var gd = document.getElementById('832ce600-65f0-4c8b-affa-a18077f09e13');\n",
              "var x = new MutationObserver(function (mutations, observer) {{\n",
              "        var display = window.getComputedStyle(gd).display;\n",
              "        if (!display || display === 'none') {{\n",
              "            console.log([gd, 'removed!']);\n",
              "            Plotly.purge(gd);\n",
              "            observer.disconnect();\n",
              "        }}\n",
              "}});\n",
              "\n",
              "// Listen for the removal of the full notebook cells\n",
              "var notebookContainer = gd.closest('#notebook-container');\n",
              "if (notebookContainer) {{\n",
              "    x.observe(notebookContainer, {childList: true});\n",
              "}}\n",
              "\n",
              "// Listen for the clearing of the current output cell\n",
              "var outputEl = gd.closest('.output');\n",
              "if (outputEl) {{\n",
              "    x.observe(outputEl, {childList: true});\n",
              "}}\n",
              "\n",
              "                        })                };                            </script>        </div>\n",
              "</body>\n",
              "</html>"
            ]
          },
          "metadata": {}
        }
      ]
    },
    {
      "cell_type": "markdown",
      "source": [
        " Plotagem tridimensional para cada probabilidade de ocorrência de cada\n",
        "categoria da variável dependente\n",
        "\n",
        "Probabilidades de chegar atrasado à segunda aula (função 'go' do pacote\n",
        "'plotly')"
      ],
      "metadata": {
        "id": "8zbU_DiNahzF"
      }
    },
    {
      "cell_type": "code",
      "source": [
        "pio.renderers.default = 'colab'\n",
        "\n",
        "trace = go.Mesh3d(\n",
        "    x=df_atrasado_multinomial['dist'], \n",
        "    y=df_atrasado_multinomial['sem'],\n",
        "    z=df_atrasado_multinomial[2],\n",
        "    opacity=1, intensity=df_atrasado_multinomial[2], colorscale=\"Viridis\")\n",
        "\n",
        "layout = go.Layout(\n",
        "    margin={'l': 0, 'r': 0, 'b': 0, 't': 0},\n",
        "    width=800,\n",
        "    height=800\n",
        ")\n",
        "\n",
        "data = [trace]\n",
        "\n",
        "plot_figure = go.Figure(data=data, layout=layout)\n",
        "\n",
        "plot_figure.update_layout(scene = dict(\n",
        "                        xaxis_title='dist',\n",
        "                        yaxis_title='sem',\n",
        "                        zaxis_title='chegou atrasado à segunda aula'))\n",
        "\n",
        "plot_figure.show()"
      ],
      "metadata": {
        "colab": {
          "base_uri": "https://localhost:8080/",
          "height": 817
        },
        "id": "8olpvpVnalCs",
        "outputId": "a15548f4-8e80-41db-9c85-b5358431c489"
      },
      "execution_count": 28,
      "outputs": [
        {
          "output_type": "display_data",
          "data": {
            "text/html": [
              "<html>\n",
              "<head><meta charset=\"utf-8\" /></head>\n",
              "<body>\n",
              "    <div>            <script src=\"https://cdnjs.cloudflare.com/ajax/libs/mathjax/2.7.5/MathJax.js?config=TeX-AMS-MML_SVG\"></script><script type=\"text/javascript\">if (window.MathJax && window.MathJax.Hub && window.MathJax.Hub.Config) {window.MathJax.Hub.Config({SVG: {font: \"STIX-Web\"}});}</script>                <script type=\"text/javascript\">window.PlotlyConfig = {MathJaxConfig: 'local'};</script>\n",
              "        <script src=\"https://cdn.plot.ly/plotly-2.18.2.min.js\"></script>                <div id=\"747751ec-e471-4892-a1d7-789729007516\" class=\"plotly-graph-div\" style=\"height:800px; width:800px;\"></div>            <script type=\"text/javascript\">                                    window.PLOTLYENV=window.PLOTLYENV || {};                                    if (document.getElementById(\"747751ec-e471-4892-a1d7-789729007516\")) {                    Plotly.newPlot(                        \"747751ec-e471-4892-a1d7-789729007516\",                        [{\"colorscale\":[[0.0,\"#440154\"],[0.1111111111111111,\"#482878\"],[0.2222222222222222,\"#3e4989\"],[0.3333333333333333,\"#31688e\"],[0.4444444444444444,\"#26828e\"],[0.5555555555555556,\"#1f9e89\"],[0.6666666666666666,\"#35b779\"],[0.7777777777777778,\"#6ece58\"],[0.8888888888888888,\"#b5de2b\"],[1.0,\"#fde725\"]],\"intensity\":[0.45860182244272957,0.9812604916395091,0.8258488671396667,0.9962518015997143,0.3775738821826761,0.983078896760297,0.983078896760297,0.9936273024888311,0.9908575308020028,0.9908575308020028,0.98472357361081,0.9406365752162504,0.9986522848475202,0.2104583925998295,0.9406365752162504,0.39259695179527926,0.9868996547522243,0.9461828198372026,0.9781682326846439,0.13784029761639738,0.6530328313777825,0.8865911480851092,0.9638286332267642,0.05351363365617845,0.08633330203286592,3.02154859537182e-07,1.8318743077720303e-08,0.21904118304459397,0.9781682326846439,0.10263393419373822,0.019183093362766166,0.49875918419124127,1.0282071519786671e-07,0.9535926122317279,0.977030517041917,0.9781682326846439,0.9638286332267642,0.9961158664953855,0.9638286332267642,0.9558392719926058,0.9688879602764187,0.001106230795782371,0.06564321092052956,0.8212220053985817,0.001106230795782371,2.6062789516837046e-06,3.498277956114675e-08,3.498277956114675e-08,5.897595020538452e-08,0.9802807227305225,0.9963915223183475,0.9243474976143295,0.0007878419763585862,8.031914191136328e-10,3.02154859537182e-07,2.6062789516837046e-06,0.39259695179527926,7.645148244489438e-06,1.0824558658750612e-06,3.02154859537182e-07,3.498277956114675e-08,9.622843971021556e-05,0.271304977691338,0.39259695179527926,2.489364199699964e-08,0.2496278780662856,7.31670309643641e-08,3.02154859537182e-07,7.31670309643641e-08,4.048441932561373e-09,0.02864148121369284,3.02154859537182e-07,2.489364199699964e-08,8.87653263890173e-07,2.819701081776885e-08,3.1755577843921146e-12,2.7727690739089427e-08,1.7563016399578905e-13,3.02154859537182e-07,3.5742256306760135e-09,0.05529361697859467,1.8867804638188368e-06,1.7085999131234699e-09,2.732107393169301e-10,8.031914191136328e-10,1.3771384119647173e-09,2.6673614979277194e-07,0.1734659742872105,0.10263393419373822,0.191812527694702,1.3771384119647173e-09,9.719181594826467e-07,3.02154859537182e-07,2.6062789516837046e-06,0.00031545841917665987,0.0005471598119751414,0.02803830219916913,0.01773339255733881,0.9881773927315033,5.7416336281644735e-11],\"opacity\":1,\"x\":[20.5,21.2999992370605,21.3999996185303,31.5,17.5,21.5,21.5,23.3999996185303,22.7000007629395,22.7000007629395,21.7000007629395,19.0,26.3999996185303,16.0,19.0,20.0,22.0,19.2000007629395,21.0,20.0,22.0,20.0,20.0,21.0,16.7000007629395,17.0,14.3999996185303,18.5,21.0,17.0,14.5,20.7999992370605,16.0,19.5,20.8999996185303,21.0,20.0,22.0,20.0,19.6000003814697,20.2999992370605,22.0,29.0,23.7000007629395,22.0,19.0,15.0,15.0,12.8000001907349,21.2000007629395,24.5,18.5,19.0,11.5,17.0,19.0,20.0,20.0,15.5,17.0,15.0,17.0,19.0,20.0,12.0,18.7999992370605,13.0,17.0,13.0,13.0,28.0,17.0,12.0,18.0,14.8000001907349,1.0,12.1000003814697,1.0,17.0,10.1999998092651,11.0,18.7000007629395,12.1999998092651,10.5,11.5,12.0,14.1999998092651,18.0,17.0,11.0,12.0,15.3999996185303,17.0,19.0,10.1000003814697,24.0,15.0,14.3999996185303,22.2000007629395,1.0],\"y\":[15,18,16,15,16,18,18,18,18,18,18,18,18,16,18,15,18,18,18,14,15,17,18,13,15,10,10,15,18,15,15,15,10,18,18,18,18,19,18,18,18,11,10,15,11,10,10,10,11,18,18,18,12,10,10,10,15,10,11,10,10,12,15,15,11,15,11,10,11,10,10,10,11,10,10,12,11,11,10,11,17,10,10,10,10,10,11,15,15,18,10,11,10,10,15,10,15,15,18,13],\"z\":[0.45860182244272957,0.9812604916395091,0.8258488671396667,0.9962518015997143,0.3775738821826761,0.983078896760297,0.983078896760297,0.9936273024888311,0.9908575308020028,0.9908575308020028,0.98472357361081,0.9406365752162504,0.9986522848475202,0.2104583925998295,0.9406365752162504,0.39259695179527926,0.9868996547522243,0.9461828198372026,0.9781682326846439,0.13784029761639738,0.6530328313777825,0.8865911480851092,0.9638286332267642,0.05351363365617845,0.08633330203286592,3.02154859537182e-07,1.8318743077720303e-08,0.21904118304459397,0.9781682326846439,0.10263393419373822,0.019183093362766166,0.49875918419124127,1.0282071519786671e-07,0.9535926122317279,0.977030517041917,0.9781682326846439,0.9638286332267642,0.9961158664953855,0.9638286332267642,0.9558392719926058,0.9688879602764187,0.001106230795782371,0.06564321092052956,0.8212220053985817,0.001106230795782371,2.6062789516837046e-06,3.498277956114675e-08,3.498277956114675e-08,5.897595020538452e-08,0.9802807227305225,0.9963915223183475,0.9243474976143295,0.0007878419763585862,8.031914191136328e-10,3.02154859537182e-07,2.6062789516837046e-06,0.39259695179527926,7.645148244489438e-06,1.0824558658750612e-06,3.02154859537182e-07,3.498277956114675e-08,9.622843971021556e-05,0.271304977691338,0.39259695179527926,2.489364199699964e-08,0.2496278780662856,7.31670309643641e-08,3.02154859537182e-07,7.31670309643641e-08,4.048441932561373e-09,0.02864148121369284,3.02154859537182e-07,2.489364199699964e-08,8.87653263890173e-07,2.819701081776885e-08,3.1755577843921146e-12,2.7727690739089427e-08,1.7563016399578905e-13,3.02154859537182e-07,3.5742256306760135e-09,0.05529361697859467,1.8867804638188368e-06,1.7085999131234699e-09,2.732107393169301e-10,8.031914191136328e-10,1.3771384119647173e-09,2.6673614979277194e-07,0.1734659742872105,0.10263393419373822,0.191812527694702,1.3771384119647173e-09,9.719181594826467e-07,3.02154859537182e-07,2.6062789516837046e-06,0.00031545841917665987,0.0005471598119751414,0.02803830219916913,0.01773339255733881,0.9881773927315033,5.7416336281644735e-11],\"type\":\"mesh3d\"}],                        {\"height\":800,\"margin\":{\"b\":0,\"l\":0,\"r\":0,\"t\":0},\"width\":800,\"template\":{\"data\":{\"histogram2dcontour\":[{\"type\":\"histogram2dcontour\",\"colorbar\":{\"outlinewidth\":0,\"ticks\":\"\"},\"colorscale\":[[0.0,\"#0d0887\"],[0.1111111111111111,\"#46039f\"],[0.2222222222222222,\"#7201a8\"],[0.3333333333333333,\"#9c179e\"],[0.4444444444444444,\"#bd3786\"],[0.5555555555555556,\"#d8576b\"],[0.6666666666666666,\"#ed7953\"],[0.7777777777777778,\"#fb9f3a\"],[0.8888888888888888,\"#fdca26\"],[1.0,\"#f0f921\"]]}],\"choropleth\":[{\"type\":\"choropleth\",\"colorbar\":{\"outlinewidth\":0,\"ticks\":\"\"}}],\"histogram2d\":[{\"type\":\"histogram2d\",\"colorbar\":{\"outlinewidth\":0,\"ticks\":\"\"},\"colorscale\":[[0.0,\"#0d0887\"],[0.1111111111111111,\"#46039f\"],[0.2222222222222222,\"#7201a8\"],[0.3333333333333333,\"#9c179e\"],[0.4444444444444444,\"#bd3786\"],[0.5555555555555556,\"#d8576b\"],[0.6666666666666666,\"#ed7953\"],[0.7777777777777778,\"#fb9f3a\"],[0.8888888888888888,\"#fdca26\"],[1.0,\"#f0f921\"]]}],\"heatmap\":[{\"type\":\"heatmap\",\"colorbar\":{\"outlinewidth\":0,\"ticks\":\"\"},\"colorscale\":[[0.0,\"#0d0887\"],[0.1111111111111111,\"#46039f\"],[0.2222222222222222,\"#7201a8\"],[0.3333333333333333,\"#9c179e\"],[0.4444444444444444,\"#bd3786\"],[0.5555555555555556,\"#d8576b\"],[0.6666666666666666,\"#ed7953\"],[0.7777777777777778,\"#fb9f3a\"],[0.8888888888888888,\"#fdca26\"],[1.0,\"#f0f921\"]]}],\"heatmapgl\":[{\"type\":\"heatmapgl\",\"colorbar\":{\"outlinewidth\":0,\"ticks\":\"\"},\"colorscale\":[[0.0,\"#0d0887\"],[0.1111111111111111,\"#46039f\"],[0.2222222222222222,\"#7201a8\"],[0.3333333333333333,\"#9c179e\"],[0.4444444444444444,\"#bd3786\"],[0.5555555555555556,\"#d8576b\"],[0.6666666666666666,\"#ed7953\"],[0.7777777777777778,\"#fb9f3a\"],[0.8888888888888888,\"#fdca26\"],[1.0,\"#f0f921\"]]}],\"contourcarpet\":[{\"type\":\"contourcarpet\",\"colorbar\":{\"outlinewidth\":0,\"ticks\":\"\"}}],\"contour\":[{\"type\":\"contour\",\"colorbar\":{\"outlinewidth\":0,\"ticks\":\"\"},\"colorscale\":[[0.0,\"#0d0887\"],[0.1111111111111111,\"#46039f\"],[0.2222222222222222,\"#7201a8\"],[0.3333333333333333,\"#9c179e\"],[0.4444444444444444,\"#bd3786\"],[0.5555555555555556,\"#d8576b\"],[0.6666666666666666,\"#ed7953\"],[0.7777777777777778,\"#fb9f3a\"],[0.8888888888888888,\"#fdca26\"],[1.0,\"#f0f921\"]]}],\"surface\":[{\"type\":\"surface\",\"colorbar\":{\"outlinewidth\":0,\"ticks\":\"\"},\"colorscale\":[[0.0,\"#0d0887\"],[0.1111111111111111,\"#46039f\"],[0.2222222222222222,\"#7201a8\"],[0.3333333333333333,\"#9c179e\"],[0.4444444444444444,\"#bd3786\"],[0.5555555555555556,\"#d8576b\"],[0.6666666666666666,\"#ed7953\"],[0.7777777777777778,\"#fb9f3a\"],[0.8888888888888888,\"#fdca26\"],[1.0,\"#f0f921\"]]}],\"mesh3d\":[{\"type\":\"mesh3d\",\"colorbar\":{\"outlinewidth\":0,\"ticks\":\"\"}}],\"scatter\":[{\"fillpattern\":{\"fillmode\":\"overlay\",\"size\":10,\"solidity\":0.2},\"type\":\"scatter\"}],\"parcoords\":[{\"type\":\"parcoords\",\"line\":{\"colorbar\":{\"outlinewidth\":0,\"ticks\":\"\"}}}],\"scatterpolargl\":[{\"type\":\"scatterpolargl\",\"marker\":{\"colorbar\":{\"outlinewidth\":0,\"ticks\":\"\"}}}],\"bar\":[{\"error_x\":{\"color\":\"#2a3f5f\"},\"error_y\":{\"color\":\"#2a3f5f\"},\"marker\":{\"line\":{\"color\":\"#E5ECF6\",\"width\":0.5},\"pattern\":{\"fillmode\":\"overlay\",\"size\":10,\"solidity\":0.2}},\"type\":\"bar\"}],\"scattergeo\":[{\"type\":\"scattergeo\",\"marker\":{\"colorbar\":{\"outlinewidth\":0,\"ticks\":\"\"}}}],\"scatterpolar\":[{\"type\":\"scatterpolar\",\"marker\":{\"colorbar\":{\"outlinewidth\":0,\"ticks\":\"\"}}}],\"histogram\":[{\"marker\":{\"pattern\":{\"fillmode\":\"overlay\",\"size\":10,\"solidity\":0.2}},\"type\":\"histogram\"}],\"scattergl\":[{\"type\":\"scattergl\",\"marker\":{\"colorbar\":{\"outlinewidth\":0,\"ticks\":\"\"}}}],\"scatter3d\":[{\"type\":\"scatter3d\",\"line\":{\"colorbar\":{\"outlinewidth\":0,\"ticks\":\"\"}},\"marker\":{\"colorbar\":{\"outlinewidth\":0,\"ticks\":\"\"}}}],\"scattermapbox\":[{\"type\":\"scattermapbox\",\"marker\":{\"colorbar\":{\"outlinewidth\":0,\"ticks\":\"\"}}}],\"scatterternary\":[{\"type\":\"scatterternary\",\"marker\":{\"colorbar\":{\"outlinewidth\":0,\"ticks\":\"\"}}}],\"scattercarpet\":[{\"type\":\"scattercarpet\",\"marker\":{\"colorbar\":{\"outlinewidth\":0,\"ticks\":\"\"}}}],\"carpet\":[{\"aaxis\":{\"endlinecolor\":\"#2a3f5f\",\"gridcolor\":\"white\",\"linecolor\":\"white\",\"minorgridcolor\":\"white\",\"startlinecolor\":\"#2a3f5f\"},\"baxis\":{\"endlinecolor\":\"#2a3f5f\",\"gridcolor\":\"white\",\"linecolor\":\"white\",\"minorgridcolor\":\"white\",\"startlinecolor\":\"#2a3f5f\"},\"type\":\"carpet\"}],\"table\":[{\"cells\":{\"fill\":{\"color\":\"#EBF0F8\"},\"line\":{\"color\":\"white\"}},\"header\":{\"fill\":{\"color\":\"#C8D4E3\"},\"line\":{\"color\":\"white\"}},\"type\":\"table\"}],\"barpolar\":[{\"marker\":{\"line\":{\"color\":\"#E5ECF6\",\"width\":0.5},\"pattern\":{\"fillmode\":\"overlay\",\"size\":10,\"solidity\":0.2}},\"type\":\"barpolar\"}],\"pie\":[{\"automargin\":true,\"type\":\"pie\"}]},\"layout\":{\"autotypenumbers\":\"strict\",\"colorway\":[\"#636efa\",\"#EF553B\",\"#00cc96\",\"#ab63fa\",\"#FFA15A\",\"#19d3f3\",\"#FF6692\",\"#B6E880\",\"#FF97FF\",\"#FECB52\"],\"font\":{\"color\":\"#2a3f5f\"},\"hovermode\":\"closest\",\"hoverlabel\":{\"align\":\"left\"},\"paper_bgcolor\":\"white\",\"plot_bgcolor\":\"#E5ECF6\",\"polar\":{\"bgcolor\":\"#E5ECF6\",\"angularaxis\":{\"gridcolor\":\"white\",\"linecolor\":\"white\",\"ticks\":\"\"},\"radialaxis\":{\"gridcolor\":\"white\",\"linecolor\":\"white\",\"ticks\":\"\"}},\"ternary\":{\"bgcolor\":\"#E5ECF6\",\"aaxis\":{\"gridcolor\":\"white\",\"linecolor\":\"white\",\"ticks\":\"\"},\"baxis\":{\"gridcolor\":\"white\",\"linecolor\":\"white\",\"ticks\":\"\"},\"caxis\":{\"gridcolor\":\"white\",\"linecolor\":\"white\",\"ticks\":\"\"}},\"coloraxis\":{\"colorbar\":{\"outlinewidth\":0,\"ticks\":\"\"}},\"colorscale\":{\"sequential\":[[0.0,\"#0d0887\"],[0.1111111111111111,\"#46039f\"],[0.2222222222222222,\"#7201a8\"],[0.3333333333333333,\"#9c179e\"],[0.4444444444444444,\"#bd3786\"],[0.5555555555555556,\"#d8576b\"],[0.6666666666666666,\"#ed7953\"],[0.7777777777777778,\"#fb9f3a\"],[0.8888888888888888,\"#fdca26\"],[1.0,\"#f0f921\"]],\"sequentialminus\":[[0.0,\"#0d0887\"],[0.1111111111111111,\"#46039f\"],[0.2222222222222222,\"#7201a8\"],[0.3333333333333333,\"#9c179e\"],[0.4444444444444444,\"#bd3786\"],[0.5555555555555556,\"#d8576b\"],[0.6666666666666666,\"#ed7953\"],[0.7777777777777778,\"#fb9f3a\"],[0.8888888888888888,\"#fdca26\"],[1.0,\"#f0f921\"]],\"diverging\":[[0,\"#8e0152\"],[0.1,\"#c51b7d\"],[0.2,\"#de77ae\"],[0.3,\"#f1b6da\"],[0.4,\"#fde0ef\"],[0.5,\"#f7f7f7\"],[0.6,\"#e6f5d0\"],[0.7,\"#b8e186\"],[0.8,\"#7fbc41\"],[0.9,\"#4d9221\"],[1,\"#276419\"]]},\"xaxis\":{\"gridcolor\":\"white\",\"linecolor\":\"white\",\"ticks\":\"\",\"title\":{\"standoff\":15},\"zerolinecolor\":\"white\",\"automargin\":true,\"zerolinewidth\":2},\"yaxis\":{\"gridcolor\":\"white\",\"linecolor\":\"white\",\"ticks\":\"\",\"title\":{\"standoff\":15},\"zerolinecolor\":\"white\",\"automargin\":true,\"zerolinewidth\":2},\"scene\":{\"xaxis\":{\"backgroundcolor\":\"#E5ECF6\",\"gridcolor\":\"white\",\"linecolor\":\"white\",\"showbackground\":true,\"ticks\":\"\",\"zerolinecolor\":\"white\",\"gridwidth\":2},\"yaxis\":{\"backgroundcolor\":\"#E5ECF6\",\"gridcolor\":\"white\",\"linecolor\":\"white\",\"showbackground\":true,\"ticks\":\"\",\"zerolinecolor\":\"white\",\"gridwidth\":2},\"zaxis\":{\"backgroundcolor\":\"#E5ECF6\",\"gridcolor\":\"white\",\"linecolor\":\"white\",\"showbackground\":true,\"ticks\":\"\",\"zerolinecolor\":\"white\",\"gridwidth\":2}},\"shapedefaults\":{\"line\":{\"color\":\"#2a3f5f\"}},\"annotationdefaults\":{\"arrowcolor\":\"#2a3f5f\",\"arrowhead\":0,\"arrowwidth\":1},\"geo\":{\"bgcolor\":\"white\",\"landcolor\":\"#E5ECF6\",\"subunitcolor\":\"white\",\"showland\":true,\"showlakes\":true,\"lakecolor\":\"white\"},\"title\":{\"x\":0.05},\"mapbox\":{\"style\":\"light\"}}},\"scene\":{\"xaxis\":{\"title\":{\"text\":\"dist\"}},\"yaxis\":{\"title\":{\"text\":\"sem\"}},\"zaxis\":{\"title\":{\"text\":\"chegou atrasado \\u00e0 segunda aula\"}}}},                        {\"responsive\": true}                    ).then(function(){\n",
              "                            \n",
              "var gd = document.getElementById('747751ec-e471-4892-a1d7-789729007516');\n",
              "var x = new MutationObserver(function (mutations, observer) {{\n",
              "        var display = window.getComputedStyle(gd).display;\n",
              "        if (!display || display === 'none') {{\n",
              "            console.log([gd, 'removed!']);\n",
              "            Plotly.purge(gd);\n",
              "            observer.disconnect();\n",
              "        }}\n",
              "}});\n",
              "\n",
              "// Listen for the removal of the full notebook cells\n",
              "var notebookContainer = gd.closest('#notebook-container');\n",
              "if (notebookContainer) {{\n",
              "    x.observe(notebookContainer, {childList: true});\n",
              "}}\n",
              "\n",
              "// Listen for the clearing of the current output cell\n",
              "var outputEl = gd.closest('.output');\n",
              "if (outputEl) {{\n",
              "    x.observe(outputEl, {childList: true});\n",
              "}}\n",
              "\n",
              "                        })                };                            </script>        </div>\n",
              "</body>\n",
              "</html>"
            ]
          },
          "metadata": {}
        }
      ]
    },
    {
      "cell_type": "markdown",
      "source": [
        "Visualização das sigmóides tridimensionais em um único gráfico"
      ],
      "metadata": {
        "id": "ooaAN3Lhat8B"
      }
    },
    {
      "cell_type": "code",
      "source": [
        "trace = go.Mesh3d(\n",
        "    x=df_atrasado_multinomial['dist'], \n",
        "    y=df_atrasado_multinomial['sem'],\n",
        "    z=df_atrasado_multinomial[0],\n",
        "    opacity=1)\n",
        "\n",
        "layout = go.Layout(\n",
        "    margin={'l': 0, 'r': 0, 'b': 0, 't': 0},\n",
        "    width=800,\n",
        "    height=800\n",
        ")\n",
        "\n",
        "data = [trace]\n",
        "\n",
        "plot_figure = go.Figure(data=data, layout=layout)\n",
        "\n",
        "trace_1 = go.Mesh3d(\n",
        "            x=df_atrasado_multinomial['dist'], \n",
        "            y=df_atrasado_multinomial['sem'],\n",
        "            z=df_atrasado_multinomial[1],\n",
        "            opacity=1)\n",
        "\n",
        "plot_figure.add_trace(trace_1)\n",
        "\n",
        "trace_2 = go.Mesh3d(\n",
        "            x=df_atrasado_multinomial['dist'], \n",
        "            y=df_atrasado_multinomial['sem'],\n",
        "            z=df_atrasado_multinomial[2],\n",
        "            opacity=1)\n",
        "\n",
        "\n",
        "plot_figure.add_trace(trace_2)\n",
        "\n",
        "plot_figure.update_layout(scene = dict(\n",
        "                        xaxis_title='dist',\n",
        "                        yaxis_title='sem',\n",
        "                        zaxis_title='probabilidades'))\n",
        "\n",
        "plot_figure.show()"
      ],
      "metadata": {
        "colab": {
          "base_uri": "https://localhost:8080/",
          "height": 817
        },
        "id": "1OLcEtaRahJ2",
        "outputId": "9b99dbd7-3e7a-4b2b-b0e7-e89afc35fe8a"
      },
      "execution_count": 29,
      "outputs": [
        {
          "output_type": "display_data",
          "data": {
            "text/html": [
              "<html>\n",
              "<head><meta charset=\"utf-8\" /></head>\n",
              "<body>\n",
              "    <div>            <script src=\"https://cdnjs.cloudflare.com/ajax/libs/mathjax/2.7.5/MathJax.js?config=TeX-AMS-MML_SVG\"></script><script type=\"text/javascript\">if (window.MathJax && window.MathJax.Hub && window.MathJax.Hub.Config) {window.MathJax.Hub.Config({SVG: {font: \"STIX-Web\"}});}</script>                <script type=\"text/javascript\">window.PlotlyConfig = {MathJaxConfig: 'local'};</script>\n",
              "        <script src=\"https://cdn.plot.ly/plotly-2.18.2.min.js\"></script>                <div id=\"29f074d2-489d-4d43-a37c-682dc839124a\" class=\"plotly-graph-div\" style=\"height:800px; width:800px;\"></div>            <script type=\"text/javascript\">                                    window.PLOTLYENV=window.PLOTLYENV || {};                                    if (document.getElementById(\"29f074d2-489d-4d43-a37c-682dc839124a\")) {                    Plotly.newPlot(                        \"29f074d2-489d-4d43-a37c-682dc839124a\",                        [{\"opacity\":1,\"x\":[20.5,21.2999992370605,21.3999996185303,31.5,17.5,21.5,21.5,23.3999996185303,22.7000007629395,22.7000007629395,21.7000007629395,19.0,26.3999996185303,16.0,19.0,20.0,22.0,19.2000007629395,21.0,20.0,22.0,20.0,20.0,21.0,16.7000007629395,17.0,14.3999996185303,18.5,21.0,17.0,14.5,20.7999992370605,16.0,19.5,20.8999996185303,21.0,20.0,22.0,20.0,19.6000003814697,20.2999992370605,22.0,29.0,23.7000007629395,22.0,19.0,15.0,15.0,12.8000001907349,21.2000007629395,24.5,18.5,19.0,11.5,17.0,19.0,20.0,20.0,15.5,17.0,15.0,17.0,19.0,20.0,12.0,18.7999992370605,13.0,17.0,13.0,13.0,28.0,17.0,12.0,18.0,14.8000001907349,1.0,12.1000003814697,1.0,17.0,10.1999998092651,11.0,18.7000007629395,12.1999998092651,10.5,11.5,12.0,14.1999998092651,18.0,17.0,11.0,12.0,15.3999996185303,17.0,19.0,10.1000003814697,24.0,15.0,14.3999996185303,22.2000007629395,1.0],\"y\":[15,18,16,15,16,18,18,18,18,18,18,18,18,16,18,15,18,18,18,14,15,17,18,13,15,10,10,15,18,15,15,15,10,18,18,18,18,19,18,18,18,11,10,15,11,10,10,10,11,18,18,18,12,10,10,10,15,10,11,10,10,12,15,15,11,15,11,10,11,10,10,10,11,10,10,12,11,11,10,11,17,10,10,10,10,10,11,15,15,18,10,11,10,10,15,10,15,15,18,13],\"z\":[0.01801023629412871,2.751300624994847e-06,0.0006796190184597281,2.7594756181390747e-07,0.020837823889474874,2.2216509100952216e-06,2.2216509100952216e-06,2.8939085174097615e-07,6.139071873628493e-07,6.139071873628493e-07,1.7936408737841052e-06,3.150166015157777e-05,1.1446866552949377e-08,0.05854787648290951,3.150166015157777e-05,0.026435978186264725,1.3007553342169735e-06,2.553996809208216e-05,3.7902322873378675e-06,0.16782120767719544,0.00508773133550036,0.0001826112358522432,1.0979479456617438e-05,0.4007076240306319,0.20413351512704386,0.99902854774229,0.999772681829458,0.07434790217471406,3.7902322873378675e-06,0.17560157224001194,0.486385028741738,0.014173463889862362,0.9994442863370326,1.862557251957961e-05,4.216902360867048e-06,3.7902322873378675e-06,1.0979479456617438e-05,7.261231748776365e-08,1.0979479456617438e-05,1.676094416853972e-05,7.986508289077538e-06,0.9211356941237959,0.5206936536261582,0.001023031397865527,0.9211356941237959,0.997033852005814,0.9996821475812905,0.9996821475812905,0.9995063114695765,3.0615153878931376e-06,8.861933921747824e-08,5.30776488705266e-05,0.9218998980935098,0.9999550358047773,0.99902854774229,0.997033852005814,0.026435978186264725,0.9948217333871716,0.9977708595081597,0.99902854774229,0.9996821475812905,0.9732118816448396,0.05370761627762032,0.026435978186264725,0.9996842411140412,0.06131087138457815,0.9994479574110686,0.99902854774229,0.9994479574110686,0.9998960331558903,0.6679094621377547,0.99902854774229,0.9996842411140412,0.9983021710572014,0.9997157528096418,0.9999964105383553,0.9996660978223678,0.9999993242305091,0.99902854774229,0.9998845036350773,0.18682973160789343,0.9974908418520759,0.9999335112343942,0.9999742856410372,0.9999550358047773,0.9999405419036136,0.9989209814703889,0.100953660114292,0.17560157224001194,0.03584476852519184,0.9999405419036136,0.997891810336243,0.99902854774229,0.997033852005814,0.9197165030906167,0.9531361233016351,0.41461827786741257,0.5008256117091463,1.0497629585934141e-06,0.9999809341904876],\"type\":\"mesh3d\"},{\"opacity\":1,\"x\":[20.5,21.2999992370605,21.3999996185303,31.5,17.5,21.5,21.5,23.3999996185303,22.7000007629395,22.7000007629395,21.7000007629395,19.0,26.3999996185303,16.0,19.0,20.0,22.0,19.2000007629395,21.0,20.0,22.0,20.0,20.0,21.0,16.7000007629395,17.0,14.3999996185303,18.5,21.0,17.0,14.5,20.7999992370605,16.0,19.5,20.8999996185303,21.0,20.0,22.0,20.0,19.6000003814697,20.2999992370605,22.0,29.0,23.7000007629395,22.0,19.0,15.0,15.0,12.8000001907349,21.2000007629395,24.5,18.5,19.0,11.5,17.0,19.0,20.0,20.0,15.5,17.0,15.0,17.0,19.0,20.0,12.0,18.7999992370605,13.0,17.0,13.0,13.0,28.0,17.0,12.0,18.0,14.8000001907349,1.0,12.1000003814697,1.0,17.0,10.1999998092651,11.0,18.7000007629395,12.1999998092651,10.5,11.5,12.0,14.1999998092651,18.0,17.0,11.0,12.0,15.3999996185303,17.0,19.0,10.1000003814697,24.0,15.0,14.3999996185303,22.2000007629395,1.0],\"y\":[15,18,16,15,16,18,18,18,18,18,18,18,18,16,18,15,18,18,18,14,15,17,18,13,15,10,10,15,18,15,15,15,10,18,18,18,18,19,18,18,18,11,10,15,11,10,10,10,11,18,18,18,12,10,10,10,15,10,11,10,10,12,15,15,11,15,11,10,11,10,10,10,11,10,10,12,11,11,10,11,17,10,10,10,10,10,11,15,15,18,10,11,10,10,15,10,15,15,18,13],\"z\":[0.5233879412631418,0.018736757059865848,0.17347151384187362,0.003747922452723815,0.601588293927849,0.01691888158879287,0.01691888158879287,0.006372408120317105,0.00914185529080987,0.00914185529080987,0.015274632748316206,0.059331923123598,0.0013477037056132495,0.730993730917261,0.059331923123598,0.5809670700184562,0.013099044492441432,0.05379164019470536,0.021827977083068724,0.6943384947064072,0.3418794372867172,0.11322624067903857,0.03616038729377921,0.5457787423131898,0.7095331828400903,0.0009711501028505734,0.00022729985179884197,0.7066109147806919,0.021827977083068724,0.7217644935662498,0.49443187789549575,0.4870673519188964,0.00055561084225232,0.04638876219575254,0.022965266055722054,0.021827977083068724,0.03616038729377921,0.003884060892296951,0.03616038729377921,0.04414396706322569,0.03110405321529223,0.07775807508042169,0.41366313545331224,0.17775496320355277,0.07775807508042169,0.0029635417152345054,0.0003178174359298986,0.0003178174359298986,0.0004936295544733235,0.01971621575408959,0.003608389062313303,0.07559942473680001,0.07731225993013148,4.4963392031308996e-05,0.0009711501028505734,0.0029635417152345054,0.5809670700184562,0.005170621464583867,0.002228058035974412,0.0009711501028505734,0.0003178174359298986,0.02669188991545019,0.6749874060310417,0.5809670700184562,0.0003157339923168642,0.6890612505491363,0.0005519694219005148,0.0009711501028505734,0.0005519694219005148,0.00010396279566783631,0.30344905664855243,0.0009711501028505734,0.0003157339923168642,0.0016969412895346922,0.0002842189933472439,3.5894584691398143e-06,0.00033387444994150724,6.757693153497782e-07,0.0009711501028505734,0.00011549279069685307,0.7578766514135119,0.002507271367460274,6.648705700564236e-05,2.5714085752084156e-05,4.4963392031308996e-05,5.945671924799658e-05,0.0010787517934612498,0.7255803655984976,0.7217644935662498,0.7723427037801062,5.945671924799658e-05,0.002107217745597514,0.0009711501028505734,0.0029635417152345054,0.07996803849020666,0.04631671688638995,0.5573434199334183,0.48144099573351484,0.01182155750553809,1.9065752096080284e-05],\"type\":\"mesh3d\"},{\"opacity\":1,\"x\":[20.5,21.2999992370605,21.3999996185303,31.5,17.5,21.5,21.5,23.3999996185303,22.7000007629395,22.7000007629395,21.7000007629395,19.0,26.3999996185303,16.0,19.0,20.0,22.0,19.2000007629395,21.0,20.0,22.0,20.0,20.0,21.0,16.7000007629395,17.0,14.3999996185303,18.5,21.0,17.0,14.5,20.7999992370605,16.0,19.5,20.8999996185303,21.0,20.0,22.0,20.0,19.6000003814697,20.2999992370605,22.0,29.0,23.7000007629395,22.0,19.0,15.0,15.0,12.8000001907349,21.2000007629395,24.5,18.5,19.0,11.5,17.0,19.0,20.0,20.0,15.5,17.0,15.0,17.0,19.0,20.0,12.0,18.7999992370605,13.0,17.0,13.0,13.0,28.0,17.0,12.0,18.0,14.8000001907349,1.0,12.1000003814697,1.0,17.0,10.1999998092651,11.0,18.7000007629395,12.1999998092651,10.5,11.5,12.0,14.1999998092651,18.0,17.0,11.0,12.0,15.3999996185303,17.0,19.0,10.1000003814697,24.0,15.0,14.3999996185303,22.2000007629395,1.0],\"y\":[15,18,16,15,16,18,18,18,18,18,18,18,18,16,18,15,18,18,18,14,15,17,18,13,15,10,10,15,18,15,15,15,10,18,18,18,18,19,18,18,18,11,10,15,11,10,10,10,11,18,18,18,12,10,10,10,15,10,11,10,10,12,15,15,11,15,11,10,11,10,10,10,11,10,10,12,11,11,10,11,17,10,10,10,10,10,11,15,15,18,10,11,10,10,15,10,15,15,18,13],\"z\":[0.45860182244272957,0.9812604916395091,0.8258488671396667,0.9962518015997143,0.3775738821826761,0.983078896760297,0.983078896760297,0.9936273024888311,0.9908575308020028,0.9908575308020028,0.98472357361081,0.9406365752162504,0.9986522848475202,0.2104583925998295,0.9406365752162504,0.39259695179527926,0.9868996547522243,0.9461828198372026,0.9781682326846439,0.13784029761639738,0.6530328313777825,0.8865911480851092,0.9638286332267642,0.05351363365617845,0.08633330203286592,3.02154859537182e-07,1.8318743077720303e-08,0.21904118304459397,0.9781682326846439,0.10263393419373822,0.019183093362766166,0.49875918419124127,1.0282071519786671e-07,0.9535926122317279,0.977030517041917,0.9781682326846439,0.9638286332267642,0.9961158664953855,0.9638286332267642,0.9558392719926058,0.9688879602764187,0.001106230795782371,0.06564321092052956,0.8212220053985817,0.001106230795782371,2.6062789516837046e-06,3.498277956114675e-08,3.498277956114675e-08,5.897595020538452e-08,0.9802807227305225,0.9963915223183475,0.9243474976143295,0.0007878419763585862,8.031914191136328e-10,3.02154859537182e-07,2.6062789516837046e-06,0.39259695179527926,7.645148244489438e-06,1.0824558658750612e-06,3.02154859537182e-07,3.498277956114675e-08,9.622843971021556e-05,0.271304977691338,0.39259695179527926,2.489364199699964e-08,0.2496278780662856,7.31670309643641e-08,3.02154859537182e-07,7.31670309643641e-08,4.048441932561373e-09,0.02864148121369284,3.02154859537182e-07,2.489364199699964e-08,8.87653263890173e-07,2.819701081776885e-08,3.1755577843921146e-12,2.7727690739089427e-08,1.7563016399578905e-13,3.02154859537182e-07,3.5742256306760135e-09,0.05529361697859467,1.8867804638188368e-06,1.7085999131234699e-09,2.732107393169301e-10,8.031914191136328e-10,1.3771384119647173e-09,2.6673614979277194e-07,0.1734659742872105,0.10263393419373822,0.191812527694702,1.3771384119647173e-09,9.719181594826467e-07,3.02154859537182e-07,2.6062789516837046e-06,0.00031545841917665987,0.0005471598119751414,0.02803830219916913,0.01773339255733881,0.9881773927315033,5.7416336281644735e-11],\"type\":\"mesh3d\"}],                        {\"height\":800,\"margin\":{\"b\":0,\"l\":0,\"r\":0,\"t\":0},\"width\":800,\"template\":{\"data\":{\"histogram2dcontour\":[{\"type\":\"histogram2dcontour\",\"colorbar\":{\"outlinewidth\":0,\"ticks\":\"\"},\"colorscale\":[[0.0,\"#0d0887\"],[0.1111111111111111,\"#46039f\"],[0.2222222222222222,\"#7201a8\"],[0.3333333333333333,\"#9c179e\"],[0.4444444444444444,\"#bd3786\"],[0.5555555555555556,\"#d8576b\"],[0.6666666666666666,\"#ed7953\"],[0.7777777777777778,\"#fb9f3a\"],[0.8888888888888888,\"#fdca26\"],[1.0,\"#f0f921\"]]}],\"choropleth\":[{\"type\":\"choropleth\",\"colorbar\":{\"outlinewidth\":0,\"ticks\":\"\"}}],\"histogram2d\":[{\"type\":\"histogram2d\",\"colorbar\":{\"outlinewidth\":0,\"ticks\":\"\"},\"colorscale\":[[0.0,\"#0d0887\"],[0.1111111111111111,\"#46039f\"],[0.2222222222222222,\"#7201a8\"],[0.3333333333333333,\"#9c179e\"],[0.4444444444444444,\"#bd3786\"],[0.5555555555555556,\"#d8576b\"],[0.6666666666666666,\"#ed7953\"],[0.7777777777777778,\"#fb9f3a\"],[0.8888888888888888,\"#fdca26\"],[1.0,\"#f0f921\"]]}],\"heatmap\":[{\"type\":\"heatmap\",\"colorbar\":{\"outlinewidth\":0,\"ticks\":\"\"},\"colorscale\":[[0.0,\"#0d0887\"],[0.1111111111111111,\"#46039f\"],[0.2222222222222222,\"#7201a8\"],[0.3333333333333333,\"#9c179e\"],[0.4444444444444444,\"#bd3786\"],[0.5555555555555556,\"#d8576b\"],[0.6666666666666666,\"#ed7953\"],[0.7777777777777778,\"#fb9f3a\"],[0.8888888888888888,\"#fdca26\"],[1.0,\"#f0f921\"]]}],\"heatmapgl\":[{\"type\":\"heatmapgl\",\"colorbar\":{\"outlinewidth\":0,\"ticks\":\"\"},\"colorscale\":[[0.0,\"#0d0887\"],[0.1111111111111111,\"#46039f\"],[0.2222222222222222,\"#7201a8\"],[0.3333333333333333,\"#9c179e\"],[0.4444444444444444,\"#bd3786\"],[0.5555555555555556,\"#d8576b\"],[0.6666666666666666,\"#ed7953\"],[0.7777777777777778,\"#fb9f3a\"],[0.8888888888888888,\"#fdca26\"],[1.0,\"#f0f921\"]]}],\"contourcarpet\":[{\"type\":\"contourcarpet\",\"colorbar\":{\"outlinewidth\":0,\"ticks\":\"\"}}],\"contour\":[{\"type\":\"contour\",\"colorbar\":{\"outlinewidth\":0,\"ticks\":\"\"},\"colorscale\":[[0.0,\"#0d0887\"],[0.1111111111111111,\"#46039f\"],[0.2222222222222222,\"#7201a8\"],[0.3333333333333333,\"#9c179e\"],[0.4444444444444444,\"#bd3786\"],[0.5555555555555556,\"#d8576b\"],[0.6666666666666666,\"#ed7953\"],[0.7777777777777778,\"#fb9f3a\"],[0.8888888888888888,\"#fdca26\"],[1.0,\"#f0f921\"]]}],\"surface\":[{\"type\":\"surface\",\"colorbar\":{\"outlinewidth\":0,\"ticks\":\"\"},\"colorscale\":[[0.0,\"#0d0887\"],[0.1111111111111111,\"#46039f\"],[0.2222222222222222,\"#7201a8\"],[0.3333333333333333,\"#9c179e\"],[0.4444444444444444,\"#bd3786\"],[0.5555555555555556,\"#d8576b\"],[0.6666666666666666,\"#ed7953\"],[0.7777777777777778,\"#fb9f3a\"],[0.8888888888888888,\"#fdca26\"],[1.0,\"#f0f921\"]]}],\"mesh3d\":[{\"type\":\"mesh3d\",\"colorbar\":{\"outlinewidth\":0,\"ticks\":\"\"}}],\"scatter\":[{\"fillpattern\":{\"fillmode\":\"overlay\",\"size\":10,\"solidity\":0.2},\"type\":\"scatter\"}],\"parcoords\":[{\"type\":\"parcoords\",\"line\":{\"colorbar\":{\"outlinewidth\":0,\"ticks\":\"\"}}}],\"scatterpolargl\":[{\"type\":\"scatterpolargl\",\"marker\":{\"colorbar\":{\"outlinewidth\":0,\"ticks\":\"\"}}}],\"bar\":[{\"error_x\":{\"color\":\"#2a3f5f\"},\"error_y\":{\"color\":\"#2a3f5f\"},\"marker\":{\"line\":{\"color\":\"#E5ECF6\",\"width\":0.5},\"pattern\":{\"fillmode\":\"overlay\",\"size\":10,\"solidity\":0.2}},\"type\":\"bar\"}],\"scattergeo\":[{\"type\":\"scattergeo\",\"marker\":{\"colorbar\":{\"outlinewidth\":0,\"ticks\":\"\"}}}],\"scatterpolar\":[{\"type\":\"scatterpolar\",\"marker\":{\"colorbar\":{\"outlinewidth\":0,\"ticks\":\"\"}}}],\"histogram\":[{\"marker\":{\"pattern\":{\"fillmode\":\"overlay\",\"size\":10,\"solidity\":0.2}},\"type\":\"histogram\"}],\"scattergl\":[{\"type\":\"scattergl\",\"marker\":{\"colorbar\":{\"outlinewidth\":0,\"ticks\":\"\"}}}],\"scatter3d\":[{\"type\":\"scatter3d\",\"line\":{\"colorbar\":{\"outlinewidth\":0,\"ticks\":\"\"}},\"marker\":{\"colorbar\":{\"outlinewidth\":0,\"ticks\":\"\"}}}],\"scattermapbox\":[{\"type\":\"scattermapbox\",\"marker\":{\"colorbar\":{\"outlinewidth\":0,\"ticks\":\"\"}}}],\"scatterternary\":[{\"type\":\"scatterternary\",\"marker\":{\"colorbar\":{\"outlinewidth\":0,\"ticks\":\"\"}}}],\"scattercarpet\":[{\"type\":\"scattercarpet\",\"marker\":{\"colorbar\":{\"outlinewidth\":0,\"ticks\":\"\"}}}],\"carpet\":[{\"aaxis\":{\"endlinecolor\":\"#2a3f5f\",\"gridcolor\":\"white\",\"linecolor\":\"white\",\"minorgridcolor\":\"white\",\"startlinecolor\":\"#2a3f5f\"},\"baxis\":{\"endlinecolor\":\"#2a3f5f\",\"gridcolor\":\"white\",\"linecolor\":\"white\",\"minorgridcolor\":\"white\",\"startlinecolor\":\"#2a3f5f\"},\"type\":\"carpet\"}],\"table\":[{\"cells\":{\"fill\":{\"color\":\"#EBF0F8\"},\"line\":{\"color\":\"white\"}},\"header\":{\"fill\":{\"color\":\"#C8D4E3\"},\"line\":{\"color\":\"white\"}},\"type\":\"table\"}],\"barpolar\":[{\"marker\":{\"line\":{\"color\":\"#E5ECF6\",\"width\":0.5},\"pattern\":{\"fillmode\":\"overlay\",\"size\":10,\"solidity\":0.2}},\"type\":\"barpolar\"}],\"pie\":[{\"automargin\":true,\"type\":\"pie\"}]},\"layout\":{\"autotypenumbers\":\"strict\",\"colorway\":[\"#636efa\",\"#EF553B\",\"#00cc96\",\"#ab63fa\",\"#FFA15A\",\"#19d3f3\",\"#FF6692\",\"#B6E880\",\"#FF97FF\",\"#FECB52\"],\"font\":{\"color\":\"#2a3f5f\"},\"hovermode\":\"closest\",\"hoverlabel\":{\"align\":\"left\"},\"paper_bgcolor\":\"white\",\"plot_bgcolor\":\"#E5ECF6\",\"polar\":{\"bgcolor\":\"#E5ECF6\",\"angularaxis\":{\"gridcolor\":\"white\",\"linecolor\":\"white\",\"ticks\":\"\"},\"radialaxis\":{\"gridcolor\":\"white\",\"linecolor\":\"white\",\"ticks\":\"\"}},\"ternary\":{\"bgcolor\":\"#E5ECF6\",\"aaxis\":{\"gridcolor\":\"white\",\"linecolor\":\"white\",\"ticks\":\"\"},\"baxis\":{\"gridcolor\":\"white\",\"linecolor\":\"white\",\"ticks\":\"\"},\"caxis\":{\"gridcolor\":\"white\",\"linecolor\":\"white\",\"ticks\":\"\"}},\"coloraxis\":{\"colorbar\":{\"outlinewidth\":0,\"ticks\":\"\"}},\"colorscale\":{\"sequential\":[[0.0,\"#0d0887\"],[0.1111111111111111,\"#46039f\"],[0.2222222222222222,\"#7201a8\"],[0.3333333333333333,\"#9c179e\"],[0.4444444444444444,\"#bd3786\"],[0.5555555555555556,\"#d8576b\"],[0.6666666666666666,\"#ed7953\"],[0.7777777777777778,\"#fb9f3a\"],[0.8888888888888888,\"#fdca26\"],[1.0,\"#f0f921\"]],\"sequentialminus\":[[0.0,\"#0d0887\"],[0.1111111111111111,\"#46039f\"],[0.2222222222222222,\"#7201a8\"],[0.3333333333333333,\"#9c179e\"],[0.4444444444444444,\"#bd3786\"],[0.5555555555555556,\"#d8576b\"],[0.6666666666666666,\"#ed7953\"],[0.7777777777777778,\"#fb9f3a\"],[0.8888888888888888,\"#fdca26\"],[1.0,\"#f0f921\"]],\"diverging\":[[0,\"#8e0152\"],[0.1,\"#c51b7d\"],[0.2,\"#de77ae\"],[0.3,\"#f1b6da\"],[0.4,\"#fde0ef\"],[0.5,\"#f7f7f7\"],[0.6,\"#e6f5d0\"],[0.7,\"#b8e186\"],[0.8,\"#7fbc41\"],[0.9,\"#4d9221\"],[1,\"#276419\"]]},\"xaxis\":{\"gridcolor\":\"white\",\"linecolor\":\"white\",\"ticks\":\"\",\"title\":{\"standoff\":15},\"zerolinecolor\":\"white\",\"automargin\":true,\"zerolinewidth\":2},\"yaxis\":{\"gridcolor\":\"white\",\"linecolor\":\"white\",\"ticks\":\"\",\"title\":{\"standoff\":15},\"zerolinecolor\":\"white\",\"automargin\":true,\"zerolinewidth\":2},\"scene\":{\"xaxis\":{\"backgroundcolor\":\"#E5ECF6\",\"gridcolor\":\"white\",\"linecolor\":\"white\",\"showbackground\":true,\"ticks\":\"\",\"zerolinecolor\":\"white\",\"gridwidth\":2},\"yaxis\":{\"backgroundcolor\":\"#E5ECF6\",\"gridcolor\":\"white\",\"linecolor\":\"white\",\"showbackground\":true,\"ticks\":\"\",\"zerolinecolor\":\"white\",\"gridwidth\":2},\"zaxis\":{\"backgroundcolor\":\"#E5ECF6\",\"gridcolor\":\"white\",\"linecolor\":\"white\",\"showbackground\":true,\"ticks\":\"\",\"zerolinecolor\":\"white\",\"gridwidth\":2}},\"shapedefaults\":{\"line\":{\"color\":\"#2a3f5f\"}},\"annotationdefaults\":{\"arrowcolor\":\"#2a3f5f\",\"arrowhead\":0,\"arrowwidth\":1},\"geo\":{\"bgcolor\":\"white\",\"landcolor\":\"#E5ECF6\",\"subunitcolor\":\"white\",\"showland\":true,\"showlakes\":true,\"lakecolor\":\"white\"},\"title\":{\"x\":0.05},\"mapbox\":{\"style\":\"light\"}}},\"scene\":{\"xaxis\":{\"title\":{\"text\":\"dist\"}},\"yaxis\":{\"title\":{\"text\":\"sem\"}},\"zaxis\":{\"title\":{\"text\":\"probabilidades\"}}}},                        {\"responsive\": true}                    ).then(function(){\n",
              "                            \n",
              "var gd = document.getElementById('29f074d2-489d-4d43-a37c-682dc839124a');\n",
              "var x = new MutationObserver(function (mutations, observer) {{\n",
              "        var display = window.getComputedStyle(gd).display;\n",
              "        if (!display || display === 'none') {{\n",
              "            console.log([gd, 'removed!']);\n",
              "            Plotly.purge(gd);\n",
              "            observer.disconnect();\n",
              "        }}\n",
              "}});\n",
              "\n",
              "// Listen for the removal of the full notebook cells\n",
              "var notebookContainer = gd.closest('#notebook-container');\n",
              "if (notebookContainer) {{\n",
              "    x.observe(notebookContainer, {childList: true});\n",
              "}}\n",
              "\n",
              "// Listen for the clearing of the current output cell\n",
              "var outputEl = gd.closest('.output');\n",
              "if (outputEl) {{\n",
              "    x.observe(outputEl, {childList: true});\n",
              "}}\n",
              "\n",
              "                        })                };                            </script>        </div>\n",
              "</body>\n",
              "</html>"
            ]
          },
          "metadata": {}
        }
      ]
    }
  ]
}